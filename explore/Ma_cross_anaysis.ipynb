{
 "cells": [
  {
   "cell_type": "code",
   "execution_count": 1,
   "metadata": {},
   "outputs": [],
   "source": [
    "import pandas as pd\n",
    "from plotting import CandlePlot\n",
    "pd.set_option('display.max_columns', None)"
   ]
  },
  {
   "cell_type": "code",
   "execution_count": 2,
   "metadata": {},
   "outputs": [],
   "source": [
    "df_ma_res = pd.read_pickle('../data/ma_res.pkl')\n",
    "df_ma_trades = pd.read_pickle('../data/ma_trades.pkl')"
   ]
  },
  {
   "cell_type": "code",
   "execution_count": 28,
   "metadata": {},
   "outputs": [
    {
     "data": {
      "text/html": [
       "<div>\n",
       "<style scoped>\n",
       "    .dataframe tbody tr th:only-of-type {\n",
       "        vertical-align: middle;\n",
       "    }\n",
       "\n",
       "    .dataframe tbody tr th {\n",
       "        vertical-align: top;\n",
       "    }\n",
       "\n",
       "    .dataframe thead th {\n",
       "        text-align: right;\n",
       "    }\n",
       "</style>\n",
       "<table border=\"1\" class=\"dataframe\">\n",
       "  <thead>\n",
       "    <tr style=\"text-align: right;\">\n",
       "      <th></th>\n",
       "      <th>pair</th>\n",
       "      <th>num_trades</th>\n",
       "      <th>total_gain</th>\n",
       "      <th>min_gain</th>\n",
       "      <th>average_gain</th>\n",
       "      <th>max_gain</th>\n",
       "      <th>ma_l</th>\n",
       "      <th>ma_s</th>\n",
       "      <th>cross</th>\n",
       "      <th>granularity</th>\n",
       "    </tr>\n",
       "  </thead>\n",
       "  <tbody>\n",
       "    <tr>\n",
       "      <th>0</th>\n",
       "      <td>EUR_USD</td>\n",
       "      <td>214</td>\n",
       "      <td>-384</td>\n",
       "      <td>-100</td>\n",
       "      <td>-1</td>\n",
       "      <td>211</td>\n",
       "      <td>MA_20</td>\n",
       "      <td>MA_10</td>\n",
       "      <td>MA_10_MA_20</td>\n",
       "      <td>H1</td>\n",
       "    </tr>\n",
       "    <tr>\n",
       "      <th>1</th>\n",
       "      <td>EUR_USD</td>\n",
       "      <td>108</td>\n",
       "      <td>980</td>\n",
       "      <td>-91</td>\n",
       "      <td>9</td>\n",
       "      <td>350</td>\n",
       "      <td>MA_40</td>\n",
       "      <td>MA_10</td>\n",
       "      <td>MA_10_MA_40</td>\n",
       "      <td>H1</td>\n",
       "    </tr>\n",
       "    <tr>\n",
       "      <th>2</th>\n",
       "      <td>EUR_USD</td>\n",
       "      <td>96</td>\n",
       "      <td>1154</td>\n",
       "      <td>-96</td>\n",
       "      <td>12</td>\n",
       "      <td>339</td>\n",
       "      <td>MA_40</td>\n",
       "      <td>MA_20</td>\n",
       "      <td>MA_20_MA_40</td>\n",
       "      <td>H1</td>\n",
       "    </tr>\n",
       "    <tr>\n",
       "      <th>3</th>\n",
       "      <td>EUR_USD</td>\n",
       "      <td>100</td>\n",
       "      <td>711</td>\n",
       "      <td>-120</td>\n",
       "      <td>7</td>\n",
       "      <td>335</td>\n",
       "      <td>MA_40</td>\n",
       "      <td>MA_30</td>\n",
       "      <td>MA_30_MA_40</td>\n",
       "      <td>H1</td>\n",
       "    </tr>\n",
       "    <tr>\n",
       "      <th>4</th>\n",
       "      <td>EUR_USD</td>\n",
       "      <td>51</td>\n",
       "      <td>-238</td>\n",
       "      <td>-157</td>\n",
       "      <td>-4</td>\n",
       "      <td>227</td>\n",
       "      <td>MA_80</td>\n",
       "      <td>MA_40</td>\n",
       "      <td>MA_40_MA_80</td>\n",
       "      <td>H1</td>\n",
       "    </tr>\n",
       "  </tbody>\n",
       "</table>\n",
       "</div>"
      ],
      "text/plain": [
       "      pair  num_trades  total_gain  min_gain  average_gain  max_gain   ma_l  \\\n",
       "0  EUR_USD         214        -384      -100            -1       211  MA_20   \n",
       "1  EUR_USD         108         980       -91             9       350  MA_40   \n",
       "2  EUR_USD          96        1154       -96            12       339  MA_40   \n",
       "3  EUR_USD         100         711      -120             7       335  MA_40   \n",
       "4  EUR_USD          51        -238      -157            -4       227  MA_80   \n",
       "\n",
       "    ma_s        cross granularity  \n",
       "0  MA_10  MA_10_MA_20          H1  \n",
       "1  MA_10  MA_10_MA_40          H1  \n",
       "2  MA_20  MA_20_MA_40          H1  \n",
       "3  MA_30  MA_30_MA_40          H1  \n",
       "4  MA_40  MA_40_MA_80          H1  "
      ]
     },
     "execution_count": 28,
     "metadata": {},
     "output_type": "execute_result"
    }
   ],
   "source": [
    "df_ma_res.head()"
   ]
  },
  {
   "cell_type": "markdown",
   "metadata": {},
   "source": [
    "For a given pair and granularity, df_ma_res holds the results obtained on each ma cross which includes the following: the number of trades that were taken, the total pips that were gained during the trade, minimum pip gained, average pips gained and the maximum pip gained."
   ]
  },
  {
   "cell_type": "code",
   "execution_count": 29,
   "metadata": {},
   "outputs": [
    {
     "data": {
      "text/html": [
       "<div>\n",
       "<style scoped>\n",
       "    .dataframe tbody tr th:only-of-type {\n",
       "        vertical-align: middle;\n",
       "    }\n",
       "\n",
       "    .dataframe tbody tr th {\n",
       "        vertical-align: top;\n",
       "    }\n",
       "\n",
       "    .dataframe thead th {\n",
       "        text-align: right;\n",
       "    }\n",
       "</style>\n",
       "<table border=\"1\" class=\"dataframe\">\n",
       "  <thead>\n",
       "    <tr style=\"text-align: right;\">\n",
       "      <th></th>\n",
       "      <th>time</th>\n",
       "      <th>volume</th>\n",
       "      <th>mid_o</th>\n",
       "      <th>mid_h</th>\n",
       "      <th>mid_l</th>\n",
       "      <th>mid_c</th>\n",
       "      <th>bid_o</th>\n",
       "      <th>bid_h</th>\n",
       "      <th>bid_l</th>\n",
       "      <th>bid_c</th>\n",
       "      <th>ask_o</th>\n",
       "      <th>ask_h</th>\n",
       "      <th>ask_l</th>\n",
       "      <th>ask_c</th>\n",
       "      <th>MA_40</th>\n",
       "      <th>MA_10</th>\n",
       "      <th>MA_80</th>\n",
       "      <th>MA_20</th>\n",
       "      <th>MA_150</th>\n",
       "      <th>MA_120</th>\n",
       "      <th>MA_30</th>\n",
       "      <th>Delta</th>\n",
       "      <th>Delta_Prev</th>\n",
       "      <th>Trades</th>\n",
       "      <th>Diff</th>\n",
       "      <th>Gain</th>\n",
       "      <th>Granularity</th>\n",
       "      <th>Pair</th>\n",
       "      <th>Gain_C</th>\n",
       "      <th>ma_l</th>\n",
       "      <th>ma_s</th>\n",
       "      <th>Cross</th>\n",
       "    </tr>\n",
       "  </thead>\n",
       "  <tbody>\n",
       "    <tr>\n",
       "      <th>0</th>\n",
       "      <td>2023-06-01 01:00:00+00:00</td>\n",
       "      <td>4078</td>\n",
       "      <td>1.06868</td>\n",
       "      <td>1.06935</td>\n",
       "      <td>1.06802</td>\n",
       "      <td>1.06916</td>\n",
       "      <td>1.06861</td>\n",
       "      <td>1.06928</td>\n",
       "      <td>1.06793</td>\n",
       "      <td>1.06908</td>\n",
       "      <td>1.06874</td>\n",
       "      <td>1.06943</td>\n",
       "      <td>1.06811</td>\n",
       "      <td>1.06923</td>\n",
       "      <td>1.069960</td>\n",
       "      <td>1.068026</td>\n",
       "      <td>1.070806</td>\n",
       "      <td>1.067702</td>\n",
       "      <td>1.072529</td>\n",
       "      <td>1.071501</td>\n",
       "      <td>1.069063</td>\n",
       "      <td>0.000325</td>\n",
       "      <td>-0.000093</td>\n",
       "      <td>1</td>\n",
       "      <td>0.00507</td>\n",
       "      <td>50.7</td>\n",
       "      <td>H1</td>\n",
       "      <td>EUR_USD</td>\n",
       "      <td>50.7</td>\n",
       "      <td>MA_20</td>\n",
       "      <td>MA_10</td>\n",
       "      <td>MA_10_MA_20</td>\n",
       "    </tr>\n",
       "    <tr>\n",
       "      <th>1</th>\n",
       "      <td>2023-06-02 13:00:00+00:00</td>\n",
       "      <td>8782</td>\n",
       "      <td>1.07474</td>\n",
       "      <td>1.07710</td>\n",
       "      <td>1.07405</td>\n",
       "      <td>1.07423</td>\n",
       "      <td>1.07467</td>\n",
       "      <td>1.07704</td>\n",
       "      <td>1.07397</td>\n",
       "      <td>1.07415</td>\n",
       "      <td>1.07482</td>\n",
       "      <td>1.07717</td>\n",
       "      <td>1.07412</td>\n",
       "      <td>1.07431</td>\n",
       "      <td>1.073405</td>\n",
       "      <td>1.076235</td>\n",
       "      <td>1.071738</td>\n",
       "      <td>1.076262</td>\n",
       "      <td>1.071995</td>\n",
       "      <td>1.071755</td>\n",
       "      <td>1.075020</td>\n",
       "      <td>-0.000027</td>\n",
       "      <td>0.000120</td>\n",
       "      <td>-1</td>\n",
       "      <td>-0.00294</td>\n",
       "      <td>29.4</td>\n",
       "      <td>H1</td>\n",
       "      <td>EUR_USD</td>\n",
       "      <td>80.1</td>\n",
       "      <td>MA_20</td>\n",
       "      <td>MA_10</td>\n",
       "      <td>MA_10_MA_20</td>\n",
       "    </tr>\n",
       "    <tr>\n",
       "      <th>2</th>\n",
       "      <td>2023-06-05 17:00:00+00:00</td>\n",
       "      <td>2061</td>\n",
       "      <td>1.07116</td>\n",
       "      <td>1.07141</td>\n",
       "      <td>1.07074</td>\n",
       "      <td>1.07129</td>\n",
       "      <td>1.07109</td>\n",
       "      <td>1.07134</td>\n",
       "      <td>1.07068</td>\n",
       "      <td>1.07122</td>\n",
       "      <td>1.07124</td>\n",
       "      <td>1.07149</td>\n",
       "      <td>1.07081</td>\n",
       "      <td>1.07136</td>\n",
       "      <td>1.072073</td>\n",
       "      <td>1.069872</td>\n",
       "      <td>1.071393</td>\n",
       "      <td>1.069842</td>\n",
       "      <td>1.071496</td>\n",
       "      <td>1.071314</td>\n",
       "      <td>1.070539</td>\n",
       "      <td>0.000030</td>\n",
       "      <td>-0.000178</td>\n",
       "      <td>1</td>\n",
       "      <td>-0.00151</td>\n",
       "      <td>-15.1</td>\n",
       "      <td>H1</td>\n",
       "      <td>EUR_USD</td>\n",
       "      <td>65.0</td>\n",
       "      <td>MA_20</td>\n",
       "      <td>MA_10</td>\n",
       "      <td>MA_10_MA_20</td>\n",
       "    </tr>\n",
       "    <tr>\n",
       "      <th>3</th>\n",
       "      <td>2023-06-06 10:00:00+00:00</td>\n",
       "      <td>4181</td>\n",
       "      <td>1.06922</td>\n",
       "      <td>1.06996</td>\n",
       "      <td>1.06824</td>\n",
       "      <td>1.06978</td>\n",
       "      <td>1.06915</td>\n",
       "      <td>1.06989</td>\n",
       "      <td>1.06816</td>\n",
       "      <td>1.06970</td>\n",
       "      <td>1.06930</td>\n",
       "      <td>1.07004</td>\n",
       "      <td>1.06832</td>\n",
       "      <td>1.06985</td>\n",
       "      <td>1.070529</td>\n",
       "      <td>1.071266</td>\n",
       "      <td>1.072122</td>\n",
       "      <td>1.071321</td>\n",
       "      <td>1.071357</td>\n",
       "      <td>1.071367</td>\n",
       "      <td>1.070637</td>\n",
       "      <td>-0.000055</td>\n",
       "      <td>0.000065</td>\n",
       "      <td>-1</td>\n",
       "      <td>-0.00013</td>\n",
       "      <td>1.3</td>\n",
       "      <td>H1</td>\n",
       "      <td>EUR_USD</td>\n",
       "      <td>66.3</td>\n",
       "      <td>MA_20</td>\n",
       "      <td>MA_10</td>\n",
       "      <td>MA_10_MA_20</td>\n",
       "    </tr>\n",
       "    <tr>\n",
       "      <th>4</th>\n",
       "      <td>2023-06-07 01:00:00+00:00</td>\n",
       "      <td>2833</td>\n",
       "      <td>1.07006</td>\n",
       "      <td>1.07016</td>\n",
       "      <td>1.06929</td>\n",
       "      <td>1.06965</td>\n",
       "      <td>1.06998</td>\n",
       "      <td>1.07007</td>\n",
       "      <td>1.06921</td>\n",
       "      <td>1.06958</td>\n",
       "      <td>1.07015</td>\n",
       "      <td>1.07024</td>\n",
       "      <td>1.06937</td>\n",
       "      <td>1.06972</td>\n",
       "      <td>1.070153</td>\n",
       "      <td>1.069381</td>\n",
       "      <td>1.071734</td>\n",
       "      <td>1.069358</td>\n",
       "      <td>1.071080</td>\n",
       "      <td>1.070892</td>\n",
       "      <td>1.070121</td>\n",
       "      <td>0.000023</td>\n",
       "      <td>-0.000141</td>\n",
       "      <td>1</td>\n",
       "      <td>-0.00001</td>\n",
       "      <td>-0.1</td>\n",
       "      <td>H1</td>\n",
       "      <td>EUR_USD</td>\n",
       "      <td>66.2</td>\n",
       "      <td>MA_20</td>\n",
       "      <td>MA_10</td>\n",
       "      <td>MA_10_MA_20</td>\n",
       "    </tr>\n",
       "  </tbody>\n",
       "</table>\n",
       "</div>"
      ],
      "text/plain": [
       "                       time  volume    mid_o    mid_h    mid_l    mid_c  \\\n",
       "0 2023-06-01 01:00:00+00:00    4078  1.06868  1.06935  1.06802  1.06916   \n",
       "1 2023-06-02 13:00:00+00:00    8782  1.07474  1.07710  1.07405  1.07423   \n",
       "2 2023-06-05 17:00:00+00:00    2061  1.07116  1.07141  1.07074  1.07129   \n",
       "3 2023-06-06 10:00:00+00:00    4181  1.06922  1.06996  1.06824  1.06978   \n",
       "4 2023-06-07 01:00:00+00:00    2833  1.07006  1.07016  1.06929  1.06965   \n",
       "\n",
       "     bid_o    bid_h    bid_l    bid_c    ask_o    ask_h    ask_l    ask_c  \\\n",
       "0  1.06861  1.06928  1.06793  1.06908  1.06874  1.06943  1.06811  1.06923   \n",
       "1  1.07467  1.07704  1.07397  1.07415  1.07482  1.07717  1.07412  1.07431   \n",
       "2  1.07109  1.07134  1.07068  1.07122  1.07124  1.07149  1.07081  1.07136   \n",
       "3  1.06915  1.06989  1.06816  1.06970  1.06930  1.07004  1.06832  1.06985   \n",
       "4  1.06998  1.07007  1.06921  1.06958  1.07015  1.07024  1.06937  1.06972   \n",
       "\n",
       "      MA_40     MA_10     MA_80     MA_20    MA_150    MA_120     MA_30  \\\n",
       "0  1.069960  1.068026  1.070806  1.067702  1.072529  1.071501  1.069063   \n",
       "1  1.073405  1.076235  1.071738  1.076262  1.071995  1.071755  1.075020   \n",
       "2  1.072073  1.069872  1.071393  1.069842  1.071496  1.071314  1.070539   \n",
       "3  1.070529  1.071266  1.072122  1.071321  1.071357  1.071367  1.070637   \n",
       "4  1.070153  1.069381  1.071734  1.069358  1.071080  1.070892  1.070121   \n",
       "\n",
       "      Delta  Delta_Prev  Trades     Diff  Gain Granularity     Pair  Gain_C  \\\n",
       "0  0.000325   -0.000093       1  0.00507  50.7          H1  EUR_USD    50.7   \n",
       "1 -0.000027    0.000120      -1 -0.00294  29.4          H1  EUR_USD    80.1   \n",
       "2  0.000030   -0.000178       1 -0.00151 -15.1          H1  EUR_USD    65.0   \n",
       "3 -0.000055    0.000065      -1 -0.00013   1.3          H1  EUR_USD    66.3   \n",
       "4  0.000023   -0.000141       1 -0.00001  -0.1          H1  EUR_USD    66.2   \n",
       "\n",
       "    ma_l   ma_s        Cross  \n",
       "0  MA_20  MA_10  MA_10_MA_20  \n",
       "1  MA_20  MA_10  MA_10_MA_20  \n",
       "2  MA_20  MA_10  MA_10_MA_20  \n",
       "3  MA_20  MA_10  MA_10_MA_20  \n",
       "4  MA_20  MA_10  MA_10_MA_20  "
      ]
     },
     "execution_count": 29,
     "metadata": {},
     "output_type": "execute_result"
    }
   ],
   "source": [
    "df_ma_trades.head()"
   ]
  },
  {
   "cell_type": "markdown",
   "metadata": {},
   "source": [
    "df_ma_trades contains the market data of each pair and the cross setup for the MAs in consideration. It contains the cumulative returns of the each pair from the each cross for a given granularity as the trade progresses. The shape of the dataframe returns the total number of trades accross all crosses and pairs"
   ]
  },
  {
   "cell_type": "code",
   "execution_count": 5,
   "metadata": {},
   "outputs": [
    {
     "data": {
      "text/plain": [
       "(37352, 32)"
      ]
     },
     "execution_count": 5,
     "metadata": {},
     "output_type": "execute_result"
    }
   ],
   "source": [
    "df_ma_trades.shape"
   ]
  },
  {
   "cell_type": "code",
   "execution_count": 6,
   "metadata": {},
   "outputs": [
    {
     "name": "stdout",
     "output_type": "stream",
     "text": [
      "<class 'pandas.core.frame.DataFrame'>\n",
      "RangeIndex: 37352 entries, 0 to 37351\n",
      "Data columns (total 32 columns):\n",
      " #   Column       Non-Null Count  Dtype                  \n",
      "---  ------       --------------  -----                  \n",
      " 0   time         37352 non-null  datetime64[ns, tzutc()]\n",
      " 1   volume       37352 non-null  int64                  \n",
      " 2   mid_o        37352 non-null  float64                \n",
      " 3   mid_h        37352 non-null  float64                \n",
      " 4   mid_l        37352 non-null  float64                \n",
      " 5   mid_c        37352 non-null  float64                \n",
      " 6   bid_o        37352 non-null  float64                \n",
      " 7   bid_h        37352 non-null  float64                \n",
      " 8   bid_l        37352 non-null  float64                \n",
      " 9   bid_c        37352 non-null  float64                \n",
      " 10  ask_o        37352 non-null  float64                \n",
      " 11  ask_h        37352 non-null  float64                \n",
      " 12  ask_l        37352 non-null  float64                \n",
      " 13  ask_c        37352 non-null  float64                \n",
      " 14  MA_40        37352 non-null  float64                \n",
      " 15  MA_10        37352 non-null  float64                \n",
      " 16  MA_80        37352 non-null  float64                \n",
      " 17  MA_20        37352 non-null  float64                \n",
      " 18  MA_150       37352 non-null  float64                \n",
      " 19  MA_120       37352 non-null  float64                \n",
      " 20  MA_30        37352 non-null  float64                \n",
      " 21  Delta        37352 non-null  float64                \n",
      " 22  Delta_Prev   37352 non-null  float64                \n",
      " 23  Trades       37352 non-null  int64                  \n",
      " 24  Diff         37352 non-null  float64                \n",
      " 25  Gain         37352 non-null  float64                \n",
      " 26  Granularity  37352 non-null  object                 \n",
      " 27  Pair         37352 non-null  object                 \n",
      " 28  Gain_C       37352 non-null  float64                \n",
      " 29  ma_l         37352 non-null  object                 \n",
      " 30  ma_s         37352 non-null  object                 \n",
      " 31  Cross        37352 non-null  object                 \n",
      "dtypes: datetime64[ns, tzutc()](1), float64(24), int64(2), object(5)\n",
      "memory usage: 9.1+ MB\n"
     ]
    }
   ],
   "source": [
    "df_ma_trades.info()"
   ]
  },
  {
   "cell_type": "code",
   "execution_count": 7,
   "metadata": {},
   "outputs": [
    {
     "name": "stdout",
     "output_type": "stream",
     "text": [
      "<class 'pandas.core.frame.DataFrame'>\n",
      "RangeIndex: 570 entries, 0 to 569\n",
      "Data columns (total 10 columns):\n",
      " #   Column        Non-Null Count  Dtype \n",
      "---  ------        --------------  ----- \n",
      " 0   pair          570 non-null    object\n",
      " 1   num_trades    570 non-null    int64 \n",
      " 2   total_gain    570 non-null    int64 \n",
      " 3   min_gain      570 non-null    int64 \n",
      " 4   average_gain  570 non-null    int64 \n",
      " 5   max_gain      570 non-null    int64 \n",
      " 6   ma_l          570 non-null    object\n",
      " 7   ma_s          570 non-null    object\n",
      " 8   cross         570 non-null    object\n",
      " 9   granularity   570 non-null    object\n",
      "dtypes: int64(5), object(5)\n",
      "memory usage: 44.7+ KB\n"
     ]
    }
   ],
   "source": [
    "df_ma_res.info()"
   ]
  },
  {
   "cell_type": "markdown",
   "metadata": {},
   "source": [
    "To analyze the performance strategy can be analyzed by granularity. For braivity, the H1 will be analyzed"
   ]
  },
  {
   "cell_type": "code",
   "execution_count": 8,
   "metadata": {},
   "outputs": [
    {
     "data": {
      "text/plain": [
       "array(['H1', 'H4'], dtype=object)"
      ]
     },
     "execution_count": 8,
     "metadata": {},
     "output_type": "execute_result"
    }
   ],
   "source": [
    "df_ma_res['granularity'].unique()"
   ]
  },
  {
   "cell_type": "code",
   "execution_count": 9,
   "metadata": {},
   "outputs": [],
   "source": [
    "df_ma_res_h1 = df_ma_res[df_ma_res['granularity'] == 'H1'].copy()\n",
    "df_ma_trades_h1 = df_ma_trades[df_ma_trades['Granularity'] == 'H1'].copy()"
   ]
  },
  {
   "cell_type": "code",
   "execution_count": 10,
   "metadata": {},
   "outputs": [
    {
     "data": {
      "text/plain": [
       "(18444, 32)"
      ]
     },
     "execution_count": 10,
     "metadata": {},
     "output_type": "execute_result"
    }
   ],
   "source": [
    "df_ma_trades_h1.shape"
   ]
  },
  {
   "cell_type": "code",
   "execution_count": 11,
   "metadata": {},
   "outputs": [
    {
     "data": {
      "text/plain": [
       "Index(['pair', 'num_trades', 'total_gain', 'min_gain', 'average_gain',\n",
       "       'max_gain', 'ma_l', 'ma_s', 'cross', 'granularity'],\n",
       "      dtype='object')"
      ]
     },
     "execution_count": 11,
     "metadata": {},
     "output_type": "execute_result"
    }
   ],
   "source": [
    "df_ma_res_h1.columns"
   ]
  },
  {
   "cell_type": "code",
   "execution_count": 12,
   "metadata": {},
   "outputs": [],
   "source": [
    "df_cross_summary = df_ma_res_h1[['pair', 'num_trades', 'total_gain', 'cross']].copy()"
   ]
  },
  {
   "cell_type": "code",
   "execution_count": 13,
   "metadata": {},
   "outputs": [
    {
     "data": {
      "text/html": [
       "<div>\n",
       "<style scoped>\n",
       "    .dataframe tbody tr th:only-of-type {\n",
       "        vertical-align: middle;\n",
       "    }\n",
       "\n",
       "    .dataframe tbody tr th {\n",
       "        vertical-align: top;\n",
       "    }\n",
       "\n",
       "    .dataframe thead th {\n",
       "        text-align: right;\n",
       "    }\n",
       "</style>\n",
       "<table border=\"1\" class=\"dataframe\">\n",
       "  <thead>\n",
       "    <tr style=\"text-align: right;\">\n",
       "      <th></th>\n",
       "      <th>pair</th>\n",
       "      <th>num_trades</th>\n",
       "      <th>total_gain</th>\n",
       "      <th>cross</th>\n",
       "    </tr>\n",
       "  </thead>\n",
       "  <tbody>\n",
       "    <tr>\n",
       "      <th>0</th>\n",
       "      <td>EUR_USD</td>\n",
       "      <td>214</td>\n",
       "      <td>-384</td>\n",
       "      <td>MA_10_MA_20</td>\n",
       "    </tr>\n",
       "    <tr>\n",
       "      <th>1</th>\n",
       "      <td>EUR_USD</td>\n",
       "      <td>108</td>\n",
       "      <td>980</td>\n",
       "      <td>MA_10_MA_40</td>\n",
       "    </tr>\n",
       "    <tr>\n",
       "      <th>2</th>\n",
       "      <td>EUR_USD</td>\n",
       "      <td>96</td>\n",
       "      <td>1154</td>\n",
       "      <td>MA_20_MA_40</td>\n",
       "    </tr>\n",
       "    <tr>\n",
       "      <th>3</th>\n",
       "      <td>EUR_USD</td>\n",
       "      <td>100</td>\n",
       "      <td>711</td>\n",
       "      <td>MA_30_MA_40</td>\n",
       "    </tr>\n",
       "    <tr>\n",
       "      <th>4</th>\n",
       "      <td>EUR_USD</td>\n",
       "      <td>51</td>\n",
       "      <td>-238</td>\n",
       "      <td>MA_40_MA_80</td>\n",
       "    </tr>\n",
       "  </tbody>\n",
       "</table>\n",
       "</div>"
      ],
      "text/plain": [
       "      pair  num_trades  total_gain        cross\n",
       "0  EUR_USD         214        -384  MA_10_MA_20\n",
       "1  EUR_USD         108         980  MA_10_MA_40\n",
       "2  EUR_USD          96        1154  MA_20_MA_40\n",
       "3  EUR_USD         100         711  MA_30_MA_40\n",
       "4  EUR_USD          51        -238  MA_40_MA_80"
      ]
     },
     "execution_count": 13,
     "metadata": {},
     "output_type": "execute_result"
    }
   ],
   "source": [
    "df_cross_summary.head()"
   ]
  },
  {
   "cell_type": "markdown",
   "metadata": {},
   "source": [
    "The resulting dataframe, df_cross_summary will be grouped by the crosses sorted in ascending order to see the order of pip returns."
   ]
  },
  {
   "cell_type": "code",
   "execution_count": 14,
   "metadata": {},
   "outputs": [],
   "source": [
    "df_cross_grouped = df_cross_summary.groupby(by=['cross'], as_index=False).sum(numeric_only=True)\n",
    "df_cross_grouped.sort_values(by='total_gain', ascending=False, inplace=True)"
   ]
  },
  {
   "cell_type": "code",
   "execution_count": 30,
   "metadata": {},
   "outputs": [
    {
     "data": {
      "text/html": [
       "<div>\n",
       "<style scoped>\n",
       "    .dataframe tbody tr th:only-of-type {\n",
       "        vertical-align: middle;\n",
       "    }\n",
       "\n",
       "    .dataframe tbody tr th {\n",
       "        vertical-align: top;\n",
       "    }\n",
       "\n",
       "    .dataframe thead th {\n",
       "        text-align: right;\n",
       "    }\n",
       "</style>\n",
       "<table border=\"1\" class=\"dataframe\">\n",
       "  <thead>\n",
       "    <tr style=\"text-align: right;\">\n",
       "      <th></th>\n",
       "      <th>cross</th>\n",
       "      <th>num_trades</th>\n",
       "      <th>total_gain</th>\n",
       "    </tr>\n",
       "  </thead>\n",
       "  <tbody>\n",
       "    <tr>\n",
       "      <th>3</th>\n",
       "      <td>MA_10_MA_40</td>\n",
       "      <td>1754</td>\n",
       "      <td>5482</td>\n",
       "    </tr>\n",
       "    <tr>\n",
       "      <th>2</th>\n",
       "      <td>MA_10_MA_20</td>\n",
       "      <td>3189</td>\n",
       "      <td>2070</td>\n",
       "    </tr>\n",
       "    <tr>\n",
       "      <th>12</th>\n",
       "      <td>MA_30_MA_40</td>\n",
       "      <td>1748</td>\n",
       "      <td>1933</td>\n",
       "    </tr>\n",
       "    <tr>\n",
       "      <th>5</th>\n",
       "      <td>MA_120_MA_150</td>\n",
       "      <td>546</td>\n",
       "      <td>1820</td>\n",
       "    </tr>\n",
       "    <tr>\n",
       "      <th>8</th>\n",
       "      <td>MA_20_MA_40</td>\n",
       "      <td>1503</td>\n",
       "      <td>1737</td>\n",
       "    </tr>\n",
       "    <tr>\n",
       "      <th>18</th>\n",
       "      <td>MA_80_MA_150</td>\n",
       "      <td>410</td>\n",
       "      <td>-767</td>\n",
       "    </tr>\n",
       "    <tr>\n",
       "      <th>4</th>\n",
       "      <td>MA_10_MA_80</td>\n",
       "      <td>1103</td>\n",
       "      <td>-1877</td>\n",
       "    </tr>\n",
       "    <tr>\n",
       "      <th>17</th>\n",
       "      <td>MA_80_MA_120</td>\n",
       "      <td>580</td>\n",
       "      <td>-3091</td>\n",
       "    </tr>\n",
       "    <tr>\n",
       "      <th>7</th>\n",
       "      <td>MA_20_MA_150</td>\n",
       "      <td>603</td>\n",
       "      <td>-3145</td>\n",
       "    </tr>\n",
       "    <tr>\n",
       "      <th>9</th>\n",
       "      <td>MA_20_MA_80</td>\n",
       "      <td>885</td>\n",
       "      <td>-3372</td>\n",
       "    </tr>\n",
       "    <tr>\n",
       "      <th>15</th>\n",
       "      <td>MA_40_MA_150</td>\n",
       "      <td>461</td>\n",
       "      <td>-3516</td>\n",
       "    </tr>\n",
       "    <tr>\n",
       "      <th>1</th>\n",
       "      <td>MA_10_MA_150</td>\n",
       "      <td>814</td>\n",
       "      <td>-3573</td>\n",
       "    </tr>\n",
       "    <tr>\n",
       "      <th>11</th>\n",
       "      <td>MA_30_MA_150</td>\n",
       "      <td>510</td>\n",
       "      <td>-4138</td>\n",
       "    </tr>\n",
       "    <tr>\n",
       "      <th>6</th>\n",
       "      <td>MA_20_MA_120</td>\n",
       "      <td>686</td>\n",
       "      <td>-4751</td>\n",
       "    </tr>\n",
       "    <tr>\n",
       "      <th>13</th>\n",
       "      <td>MA_30_MA_80</td>\n",
       "      <td>815</td>\n",
       "      <td>-4839</td>\n",
       "    </tr>\n",
       "    <tr>\n",
       "      <th>0</th>\n",
       "      <td>MA_10_MA_120</td>\n",
       "      <td>916</td>\n",
       "      <td>-5189</td>\n",
       "    </tr>\n",
       "    <tr>\n",
       "      <th>16</th>\n",
       "      <td>MA_40_MA_80</td>\n",
       "      <td>787</td>\n",
       "      <td>-5499</td>\n",
       "    </tr>\n",
       "    <tr>\n",
       "      <th>10</th>\n",
       "      <td>MA_30_MA_120</td>\n",
       "      <td>582</td>\n",
       "      <td>-5835</td>\n",
       "    </tr>\n",
       "    <tr>\n",
       "      <th>14</th>\n",
       "      <td>MA_40_MA_120</td>\n",
       "      <td>552</td>\n",
       "      <td>-6351</td>\n",
       "    </tr>\n",
       "  </tbody>\n",
       "</table>\n",
       "</div>"
      ],
      "text/plain": [
       "            cross  num_trades  total_gain\n",
       "3     MA_10_MA_40        1754        5482\n",
       "2     MA_10_MA_20        3189        2070\n",
       "12    MA_30_MA_40        1748        1933\n",
       "5   MA_120_MA_150         546        1820\n",
       "8     MA_20_MA_40        1503        1737\n",
       "18   MA_80_MA_150         410        -767\n",
       "4     MA_10_MA_80        1103       -1877\n",
       "17   MA_80_MA_120         580       -3091\n",
       "7    MA_20_MA_150         603       -3145\n",
       "9     MA_20_MA_80         885       -3372\n",
       "15   MA_40_MA_150         461       -3516\n",
       "1    MA_10_MA_150         814       -3573\n",
       "11   MA_30_MA_150         510       -4138\n",
       "6    MA_20_MA_120         686       -4751\n",
       "13    MA_30_MA_80         815       -4839\n",
       "0    MA_10_MA_120         916       -5189\n",
       "16    MA_40_MA_80         787       -5499\n",
       "10   MA_30_MA_120         582       -5835\n",
       "14   MA_40_MA_120         552       -6351"
      ]
     },
     "execution_count": 30,
     "metadata": {},
     "output_type": "execute_result"
    }
   ],
   "source": [
    "df_cross_grouped"
   ]
  },
  {
   "cell_type": "markdown",
   "metadata": {},
   "source": [
    "From the above, ma 10 crossing ma 40 had the highest pip return and a relatively few number of trades. Ma 10 crossing MA 40 had the highest number of trades and the second highest pip return. Next is to see which pairs contributed to the gains and how they did it. that is, if it was a one time up shut, or occassional or a steady gain."
   ]
  },
  {
   "cell_type": "code",
   "execution_count": 16,
   "metadata": {},
   "outputs": [
    {
     "data": {
      "text/plain": [
       "array(['EUR_USD', 'EUR_GBP', 'EUR_JPY', 'EUR_AUD', 'EUR_CAD', 'USD_JPY',\n",
       "       'USD_CAD', 'GBP_USD', 'GBP_JPY', 'GBP_AUD', 'GBP_CAD', 'AUD_USD',\n",
       "       'AUD_JPY', 'AUD_CAD', 'CAD_JPY'], dtype=object)"
      ]
     },
     "execution_count": 16,
     "metadata": {},
     "output_type": "execute_result"
    }
   ],
   "source": [
    "df_ma_res_h1['pair'].unique()"
   ]
  },
  {
   "cell_type": "code",
   "execution_count": 17,
   "metadata": {},
   "outputs": [],
   "source": [
    "total_pairs = len(df_ma_res_h1['pair'].unique())"
   ]
  },
  {
   "cell_type": "code",
   "execution_count": 37,
   "metadata": {},
   "outputs": [
    {
     "data": {
      "text/html": [
       "<div>\n",
       "<style scoped>\n",
       "    .dataframe tbody tr th:only-of-type {\n",
       "        vertical-align: middle;\n",
       "    }\n",
       "\n",
       "    .dataframe tbody tr th {\n",
       "        vertical-align: top;\n",
       "    }\n",
       "\n",
       "    .dataframe thead th {\n",
       "        text-align: right;\n",
       "    }\n",
       "</style>\n",
       "<table border=\"1\" class=\"dataframe\">\n",
       "  <thead>\n",
       "    <tr style=\"text-align: right;\">\n",
       "      <th></th>\n",
       "      <th>pair</th>\n",
       "      <th>num_trades</th>\n",
       "      <th>total_gain</th>\n",
       "      <th>min_gain</th>\n",
       "      <th>average_gain</th>\n",
       "      <th>max_gain</th>\n",
       "      <th>ma_l</th>\n",
       "      <th>ma_s</th>\n",
       "      <th>cross</th>\n",
       "      <th>granularity</th>\n",
       "    </tr>\n",
       "  </thead>\n",
       "  <tbody>\n",
       "    <tr>\n",
       "      <th>1</th>\n",
       "      <td>EUR_USD</td>\n",
       "      <td>108</td>\n",
       "      <td>980</td>\n",
       "      <td>-91</td>\n",
       "      <td>9</td>\n",
       "      <td>350</td>\n",
       "      <td>MA_40</td>\n",
       "      <td>MA_10</td>\n",
       "      <td>MA_10_MA_40</td>\n",
       "      <td>H1</td>\n",
       "    </tr>\n",
       "    <tr>\n",
       "      <th>20</th>\n",
       "      <td>EUR_GBP</td>\n",
       "      <td>116</td>\n",
       "      <td>-295</td>\n",
       "      <td>-45</td>\n",
       "      <td>-2</td>\n",
       "      <td>114</td>\n",
       "      <td>MA_40</td>\n",
       "      <td>MA_10</td>\n",
       "      <td>MA_10_MA_40</td>\n",
       "      <td>H1</td>\n",
       "    </tr>\n",
       "    <tr>\n",
       "      <th>39</th>\n",
       "      <td>EUR_JPY</td>\n",
       "      <td>96</td>\n",
       "      <td>1519</td>\n",
       "      <td>-268</td>\n",
       "      <td>15</td>\n",
       "      <td>502</td>\n",
       "      <td>MA_40</td>\n",
       "      <td>MA_10</td>\n",
       "      <td>MA_10_MA_40</td>\n",
       "      <td>H1</td>\n",
       "    </tr>\n",
       "    <tr>\n",
       "      <th>58</th>\n",
       "      <td>EUR_AUD</td>\n",
       "      <td>131</td>\n",
       "      <td>-888</td>\n",
       "      <td>-163</td>\n",
       "      <td>-6</td>\n",
       "      <td>355</td>\n",
       "      <td>MA_40</td>\n",
       "      <td>MA_10</td>\n",
       "      <td>MA_10_MA_40</td>\n",
       "      <td>H1</td>\n",
       "    </tr>\n",
       "    <tr>\n",
       "      <th>77</th>\n",
       "      <td>EUR_CAD</td>\n",
       "      <td>125</td>\n",
       "      <td>-882</td>\n",
       "      <td>-92</td>\n",
       "      <td>-7</td>\n",
       "      <td>212</td>\n",
       "      <td>MA_40</td>\n",
       "      <td>MA_10</td>\n",
       "      <td>MA_10_MA_40</td>\n",
       "      <td>H1</td>\n",
       "    </tr>\n",
       "  </tbody>\n",
       "</table>\n",
       "</div>"
      ],
      "text/plain": [
       "       pair  num_trades  total_gain  min_gain  average_gain  max_gain   ma_l  \\\n",
       "1   EUR_USD         108         980       -91             9       350  MA_40   \n",
       "20  EUR_GBP         116        -295       -45            -2       114  MA_40   \n",
       "39  EUR_JPY          96        1519      -268            15       502  MA_40   \n",
       "58  EUR_AUD         131        -888      -163            -6       355  MA_40   \n",
       "77  EUR_CAD         125        -882       -92            -7       212  MA_40   \n",
       "\n",
       "     ma_s        cross granularity  \n",
       "1   MA_10  MA_10_MA_40          H1  \n",
       "20  MA_10  MA_10_MA_40          H1  \n",
       "39  MA_10  MA_10_MA_40          H1  \n",
       "58  MA_10  MA_10_MA_40          H1  \n",
       "77  MA_10  MA_10_MA_40          H1  "
      ]
     },
     "execution_count": 37,
     "metadata": {},
     "output_type": "execute_result"
    }
   ],
   "source": [
    "temp = df_ma_res_h1[df_ma_res_h1['cross'] == 'MA_10_MA_40']\n",
    "temp.head()"
   ]
  },
  {
   "cell_type": "code",
   "execution_count": 40,
   "metadata": {},
   "outputs": [
    {
     "data": {
      "text/html": [
       "<div>\n",
       "<style scoped>\n",
       "    .dataframe tbody tr th:only-of-type {\n",
       "        vertical-align: middle;\n",
       "    }\n",
       "\n",
       "    .dataframe tbody tr th {\n",
       "        vertical-align: top;\n",
       "    }\n",
       "\n",
       "    .dataframe thead th {\n",
       "        text-align: right;\n",
       "    }\n",
       "</style>\n",
       "<table border=\"1\" class=\"dataframe\">\n",
       "  <thead>\n",
       "    <tr style=\"text-align: right;\">\n",
       "      <th></th>\n",
       "      <th>pair</th>\n",
       "      <th>num_trades</th>\n",
       "      <th>total_gain</th>\n",
       "      <th>min_gain</th>\n",
       "      <th>average_gain</th>\n",
       "      <th>max_gain</th>\n",
       "      <th>ma_l</th>\n",
       "      <th>ma_s</th>\n",
       "      <th>cross</th>\n",
       "      <th>granularity</th>\n",
       "    </tr>\n",
       "  </thead>\n",
       "  <tbody>\n",
       "    <tr>\n",
       "      <th>1</th>\n",
       "      <td>EUR_USD</td>\n",
       "      <td>108</td>\n",
       "      <td>980</td>\n",
       "      <td>-91</td>\n",
       "      <td>9</td>\n",
       "      <td>350</td>\n",
       "      <td>MA_40</td>\n",
       "      <td>MA_10</td>\n",
       "      <td>MA_10_MA_40</td>\n",
       "      <td>H1</td>\n",
       "    </tr>\n",
       "    <tr>\n",
       "      <th>39</th>\n",
       "      <td>EUR_JPY</td>\n",
       "      <td>96</td>\n",
       "      <td>1519</td>\n",
       "      <td>-268</td>\n",
       "      <td>15</td>\n",
       "      <td>502</td>\n",
       "      <td>MA_40</td>\n",
       "      <td>MA_10</td>\n",
       "      <td>MA_10_MA_40</td>\n",
       "      <td>H1</td>\n",
       "    </tr>\n",
       "    <tr>\n",
       "      <th>96</th>\n",
       "      <td>USD_JPY</td>\n",
       "      <td>106</td>\n",
       "      <td>1080</td>\n",
       "      <td>-167</td>\n",
       "      <td>10</td>\n",
       "      <td>531</td>\n",
       "      <td>MA_40</td>\n",
       "      <td>MA_10</td>\n",
       "      <td>MA_10_MA_40</td>\n",
       "      <td>H1</td>\n",
       "    </tr>\n",
       "    <tr>\n",
       "      <th>134</th>\n",
       "      <td>GBP_USD</td>\n",
       "      <td>126</td>\n",
       "      <td>267</td>\n",
       "      <td>-97</td>\n",
       "      <td>2</td>\n",
       "      <td>362</td>\n",
       "      <td>MA_40</td>\n",
       "      <td>MA_10</td>\n",
       "      <td>MA_10_MA_40</td>\n",
       "      <td>H1</td>\n",
       "    </tr>\n",
       "    <tr>\n",
       "      <th>153</th>\n",
       "      <td>GBP_JPY</td>\n",
       "      <td>100</td>\n",
       "      <td>2588</td>\n",
       "      <td>-264</td>\n",
       "      <td>25</td>\n",
       "      <td>623</td>\n",
       "      <td>MA_40</td>\n",
       "      <td>MA_10</td>\n",
       "      <td>MA_10_MA_40</td>\n",
       "      <td>H1</td>\n",
       "    </tr>\n",
       "    <tr>\n",
       "      <th>172</th>\n",
       "      <td>GBP_AUD</td>\n",
       "      <td>111</td>\n",
       "      <td>451</td>\n",
       "      <td>-153</td>\n",
       "      <td>4</td>\n",
       "      <td>345</td>\n",
       "      <td>MA_40</td>\n",
       "      <td>MA_10</td>\n",
       "      <td>MA_10_MA_40</td>\n",
       "      <td>H1</td>\n",
       "    </tr>\n",
       "    <tr>\n",
       "      <th>210</th>\n",
       "      <td>AUD_USD</td>\n",
       "      <td>116</td>\n",
       "      <td>627</td>\n",
       "      <td>-78</td>\n",
       "      <td>5</td>\n",
       "      <td>165</td>\n",
       "      <td>MA_40</td>\n",
       "      <td>MA_10</td>\n",
       "      <td>MA_10_MA_40</td>\n",
       "      <td>H1</td>\n",
       "    </tr>\n",
       "    <tr>\n",
       "      <th>229</th>\n",
       "      <td>AUD_JPY</td>\n",
       "      <td>112</td>\n",
       "      <td>1415</td>\n",
       "      <td>-181</td>\n",
       "      <td>12</td>\n",
       "      <td>382</td>\n",
       "      <td>MA_40</td>\n",
       "      <td>MA_10</td>\n",
       "      <td>MA_10_MA_40</td>\n",
       "      <td>H1</td>\n",
       "    </tr>\n",
       "    <tr>\n",
       "      <th>267</th>\n",
       "      <td>CAD_JPY</td>\n",
       "      <td>110</td>\n",
       "      <td>780</td>\n",
       "      <td>-157</td>\n",
       "      <td>7</td>\n",
       "      <td>345</td>\n",
       "      <td>MA_40</td>\n",
       "      <td>MA_10</td>\n",
       "      <td>MA_10_MA_40</td>\n",
       "      <td>H1</td>\n",
       "    </tr>\n",
       "  </tbody>\n",
       "</table>\n",
       "</div>"
      ],
      "text/plain": [
       "        pair  num_trades  total_gain  min_gain  average_gain  max_gain   ma_l  \\\n",
       "1    EUR_USD         108         980       -91             9       350  MA_40   \n",
       "39   EUR_JPY          96        1519      -268            15       502  MA_40   \n",
       "96   USD_JPY         106        1080      -167            10       531  MA_40   \n",
       "134  GBP_USD         126         267       -97             2       362  MA_40   \n",
       "153  GBP_JPY         100        2588      -264            25       623  MA_40   \n",
       "172  GBP_AUD         111         451      -153             4       345  MA_40   \n",
       "210  AUD_USD         116         627       -78             5       165  MA_40   \n",
       "229  AUD_JPY         112        1415      -181            12       382  MA_40   \n",
       "267  CAD_JPY         110         780      -157             7       345  MA_40   \n",
       "\n",
       "      ma_s        cross granularity  \n",
       "1    MA_10  MA_10_MA_40          H1  \n",
       "39   MA_10  MA_10_MA_40          H1  \n",
       "96   MA_10  MA_10_MA_40          H1  \n",
       "134  MA_10  MA_10_MA_40          H1  \n",
       "153  MA_10  MA_10_MA_40          H1  \n",
       "172  MA_10  MA_10_MA_40          H1  \n",
       "210  MA_10  MA_10_MA_40          H1  \n",
       "229  MA_10  MA_10_MA_40          H1  \n",
       "267  MA_10  MA_10_MA_40          H1  "
      ]
     },
     "execution_count": 40,
     "metadata": {},
     "output_type": "execute_result"
    }
   ],
   "source": [
    "temp[temp['total_gain'] > 0]"
   ]
  },
  {
   "cell_type": "markdown",
   "metadata": {},
   "source": [
    "The above dataframe contains the pairs that returned a positive total gain for ma 10 crossing 40."
   ]
  },
  {
   "cell_type": "code",
   "execution_count": 41,
   "metadata": {},
   "outputs": [
    {
     "data": {
      "text/plain": [
       "9"
      ]
     },
     "execution_count": 41,
     "metadata": {},
     "output_type": "execute_result"
    }
   ],
   "source": [
    "temp[temp['total_gain'] > 0].shape[0]"
   ]
  },
  {
   "cell_type": "markdown",
   "metadata": {},
   "source": [
    "For the sake of generalization, we want to see how many pairs contributed to the each cross total gainespecially the ma10 crossing ma 40"
   ]
  },
  {
   "cell_type": "code",
   "execution_count": 42,
   "metadata": {},
   "outputs": [
    {
     "name": "stdout",
     "output_type": "stream",
     "text": [
      "MA_10_MA_20 gaining pairs: 8 perc pair contribution: 53%\n",
      "MA_10_MA_40 gaining pairs: 9 perc pair contribution: 60%\n",
      "MA_20_MA_40 gaining pairs: 8 perc pair contribution: 53%\n",
      "MA_30_MA_40 gaining pairs: 8 perc pair contribution: 53%\n",
      "MA_40_MA_80 gaining pairs: 6 perc pair contribution: 40%\n",
      "MA_10_MA_80 gaining pairs: 6 perc pair contribution: 40%\n",
      "MA_20_MA_80 gaining pairs: 7 perc pair contribution: 47%\n",
      "MA_30_MA_80 gaining pairs: 6 perc pair contribution: 40%\n",
      "MA_40_MA_120 gaining pairs: 6 perc pair contribution: 40%\n",
      "MA_10_MA_120 gaining pairs: 4 perc pair contribution: 27%\n",
      "MA_80_MA_120 gaining pairs: 7 perc pair contribution: 47%\n",
      "MA_20_MA_120 gaining pairs: 4 perc pair contribution: 27%\n",
      "MA_30_MA_120 gaining pairs: 6 perc pair contribution: 40%\n",
      "MA_40_MA_150 gaining pairs: 3 perc pair contribution: 20%\n",
      "MA_10_MA_150 gaining pairs: 6 perc pair contribution: 40%\n",
      "MA_80_MA_150 gaining pairs: 9 perc pair contribution: 60%\n",
      "MA_20_MA_150 gaining pairs: 6 perc pair contribution: 40%\n",
      "MA_120_MA_150 gaining pairs: 10 perc pair contribution: 67%\n",
      "MA_30_MA_150 gaining pairs: 6 perc pair contribution: 40%\n"
     ]
    }
   ],
   "source": [
    "for c in df_ma_res_h1['cross'].unique():\n",
    "    temp = df_ma_res_h1[df_ma_res_h1['cross'] == c]\n",
    "    gaining_pairs = temp[temp['total_gain'] > 0].shape[0]\n",
    "    print(f'{c} gaining pairs: {gaining_pairs} perc pair contribution: {(gaining_pairs/total_pairs) * 100:.0f}%')\n"
   ]
  },
  {
   "cell_type": "markdown",
   "metadata": {},
   "source": [
    "ma 10 crossing ma 40 had 60% of the pairs contribution even though ma120 crossing ma 150 hard high pairs contribution. Next we plot the cumulative returns of each of the pairs to see visual perfomance."
   ]
  },
  {
   "cell_type": "code",
   "execution_count": 48,
   "metadata": {},
   "outputs": [],
   "source": [
    "cross = 'MA_10_MA_40'\n",
    "df_MA_10_MA_40  = df_ma_res_h1[df_ma_res_h1['cross'] == cross].copy()\n",
    "df_MA_10_MA_40 .sort_values(by='total_gain', ascending=False, inplace=True)"
   ]
  },
  {
   "cell_type": "code",
   "execution_count": 49,
   "metadata": {},
   "outputs": [
    {
     "data": {
      "text/html": [
       "<div>\n",
       "<style scoped>\n",
       "    .dataframe tbody tr th:only-of-type {\n",
       "        vertical-align: middle;\n",
       "    }\n",
       "\n",
       "    .dataframe tbody tr th {\n",
       "        vertical-align: top;\n",
       "    }\n",
       "\n",
       "    .dataframe thead th {\n",
       "        text-align: right;\n",
       "    }\n",
       "</style>\n",
       "<table border=\"1\" class=\"dataframe\">\n",
       "  <thead>\n",
       "    <tr style=\"text-align: right;\">\n",
       "      <th></th>\n",
       "      <th>pair</th>\n",
       "      <th>num_trades</th>\n",
       "      <th>total_gain</th>\n",
       "      <th>min_gain</th>\n",
       "      <th>average_gain</th>\n",
       "      <th>max_gain</th>\n",
       "      <th>ma_l</th>\n",
       "      <th>ma_s</th>\n",
       "      <th>cross</th>\n",
       "      <th>granularity</th>\n",
       "    </tr>\n",
       "  </thead>\n",
       "  <tbody>\n",
       "    <tr>\n",
       "      <th>153</th>\n",
       "      <td>GBP_JPY</td>\n",
       "      <td>100</td>\n",
       "      <td>2588</td>\n",
       "      <td>-264</td>\n",
       "      <td>25</td>\n",
       "      <td>623</td>\n",
       "      <td>MA_40</td>\n",
       "      <td>MA_10</td>\n",
       "      <td>MA_10_MA_40</td>\n",
       "      <td>H1</td>\n",
       "    </tr>\n",
       "    <tr>\n",
       "      <th>39</th>\n",
       "      <td>EUR_JPY</td>\n",
       "      <td>96</td>\n",
       "      <td>1519</td>\n",
       "      <td>-268</td>\n",
       "      <td>15</td>\n",
       "      <td>502</td>\n",
       "      <td>MA_40</td>\n",
       "      <td>MA_10</td>\n",
       "      <td>MA_10_MA_40</td>\n",
       "      <td>H1</td>\n",
       "    </tr>\n",
       "    <tr>\n",
       "      <th>229</th>\n",
       "      <td>AUD_JPY</td>\n",
       "      <td>112</td>\n",
       "      <td>1415</td>\n",
       "      <td>-181</td>\n",
       "      <td>12</td>\n",
       "      <td>382</td>\n",
       "      <td>MA_40</td>\n",
       "      <td>MA_10</td>\n",
       "      <td>MA_10_MA_40</td>\n",
       "      <td>H1</td>\n",
       "    </tr>\n",
       "    <tr>\n",
       "      <th>96</th>\n",
       "      <td>USD_JPY</td>\n",
       "      <td>106</td>\n",
       "      <td>1080</td>\n",
       "      <td>-167</td>\n",
       "      <td>10</td>\n",
       "      <td>531</td>\n",
       "      <td>MA_40</td>\n",
       "      <td>MA_10</td>\n",
       "      <td>MA_10_MA_40</td>\n",
       "      <td>H1</td>\n",
       "    </tr>\n",
       "    <tr>\n",
       "      <th>1</th>\n",
       "      <td>EUR_USD</td>\n",
       "      <td>108</td>\n",
       "      <td>980</td>\n",
       "      <td>-91</td>\n",
       "      <td>9</td>\n",
       "      <td>350</td>\n",
       "      <td>MA_40</td>\n",
       "      <td>MA_10</td>\n",
       "      <td>MA_10_MA_40</td>\n",
       "      <td>H1</td>\n",
       "    </tr>\n",
       "    <tr>\n",
       "      <th>267</th>\n",
       "      <td>CAD_JPY</td>\n",
       "      <td>110</td>\n",
       "      <td>780</td>\n",
       "      <td>-157</td>\n",
       "      <td>7</td>\n",
       "      <td>345</td>\n",
       "      <td>MA_40</td>\n",
       "      <td>MA_10</td>\n",
       "      <td>MA_10_MA_40</td>\n",
       "      <td>H1</td>\n",
       "    </tr>\n",
       "    <tr>\n",
       "      <th>210</th>\n",
       "      <td>AUD_USD</td>\n",
       "      <td>116</td>\n",
       "      <td>627</td>\n",
       "      <td>-78</td>\n",
       "      <td>5</td>\n",
       "      <td>165</td>\n",
       "      <td>MA_40</td>\n",
       "      <td>MA_10</td>\n",
       "      <td>MA_10_MA_40</td>\n",
       "      <td>H1</td>\n",
       "    </tr>\n",
       "    <tr>\n",
       "      <th>172</th>\n",
       "      <td>GBP_AUD</td>\n",
       "      <td>111</td>\n",
       "      <td>451</td>\n",
       "      <td>-153</td>\n",
       "      <td>4</td>\n",
       "      <td>345</td>\n",
       "      <td>MA_40</td>\n",
       "      <td>MA_10</td>\n",
       "      <td>MA_10_MA_40</td>\n",
       "      <td>H1</td>\n",
       "    </tr>\n",
       "    <tr>\n",
       "      <th>134</th>\n",
       "      <td>GBP_USD</td>\n",
       "      <td>126</td>\n",
       "      <td>267</td>\n",
       "      <td>-97</td>\n",
       "      <td>2</td>\n",
       "      <td>362</td>\n",
       "      <td>MA_40</td>\n",
       "      <td>MA_10</td>\n",
       "      <td>MA_10_MA_40</td>\n",
       "      <td>H1</td>\n",
       "    </tr>\n",
       "    <tr>\n",
       "      <th>20</th>\n",
       "      <td>EUR_GBP</td>\n",
       "      <td>116</td>\n",
       "      <td>-295</td>\n",
       "      <td>-45</td>\n",
       "      <td>-2</td>\n",
       "      <td>114</td>\n",
       "      <td>MA_40</td>\n",
       "      <td>MA_10</td>\n",
       "      <td>MA_10_MA_40</td>\n",
       "      <td>H1</td>\n",
       "    </tr>\n",
       "    <tr>\n",
       "      <th>115</th>\n",
       "      <td>USD_CAD</td>\n",
       "      <td>130</td>\n",
       "      <td>-457</td>\n",
       "      <td>-91</td>\n",
       "      <td>-3</td>\n",
       "      <td>191</td>\n",
       "      <td>MA_40</td>\n",
       "      <td>MA_10</td>\n",
       "      <td>MA_10_MA_40</td>\n",
       "      <td>H1</td>\n",
       "    </tr>\n",
       "    <tr>\n",
       "      <th>191</th>\n",
       "      <td>GBP_CAD</td>\n",
       "      <td>134</td>\n",
       "      <td>-780</td>\n",
       "      <td>-117</td>\n",
       "      <td>-5</td>\n",
       "      <td>483</td>\n",
       "      <td>MA_40</td>\n",
       "      <td>MA_10</td>\n",
       "      <td>MA_10_MA_40</td>\n",
       "      <td>H1</td>\n",
       "    </tr>\n",
       "    <tr>\n",
       "      <th>77</th>\n",
       "      <td>EUR_CAD</td>\n",
       "      <td>125</td>\n",
       "      <td>-882</td>\n",
       "      <td>-92</td>\n",
       "      <td>-7</td>\n",
       "      <td>212</td>\n",
       "      <td>MA_40</td>\n",
       "      <td>MA_10</td>\n",
       "      <td>MA_10_MA_40</td>\n",
       "      <td>H1</td>\n",
       "    </tr>\n",
       "    <tr>\n",
       "      <th>58</th>\n",
       "      <td>EUR_AUD</td>\n",
       "      <td>131</td>\n",
       "      <td>-888</td>\n",
       "      <td>-163</td>\n",
       "      <td>-6</td>\n",
       "      <td>355</td>\n",
       "      <td>MA_40</td>\n",
       "      <td>MA_10</td>\n",
       "      <td>MA_10_MA_40</td>\n",
       "      <td>H1</td>\n",
       "    </tr>\n",
       "    <tr>\n",
       "      <th>248</th>\n",
       "      <td>AUD_CAD</td>\n",
       "      <td>133</td>\n",
       "      <td>-923</td>\n",
       "      <td>-84</td>\n",
       "      <td>-6</td>\n",
       "      <td>245</td>\n",
       "      <td>MA_40</td>\n",
       "      <td>MA_10</td>\n",
       "      <td>MA_10_MA_40</td>\n",
       "      <td>H1</td>\n",
       "    </tr>\n",
       "  </tbody>\n",
       "</table>\n",
       "</div>"
      ],
      "text/plain": [
       "        pair  num_trades  total_gain  min_gain  average_gain  max_gain   ma_l  \\\n",
       "153  GBP_JPY         100        2588      -264            25       623  MA_40   \n",
       "39   EUR_JPY          96        1519      -268            15       502  MA_40   \n",
       "229  AUD_JPY         112        1415      -181            12       382  MA_40   \n",
       "96   USD_JPY         106        1080      -167            10       531  MA_40   \n",
       "1    EUR_USD         108         980       -91             9       350  MA_40   \n",
       "267  CAD_JPY         110         780      -157             7       345  MA_40   \n",
       "210  AUD_USD         116         627       -78             5       165  MA_40   \n",
       "172  GBP_AUD         111         451      -153             4       345  MA_40   \n",
       "134  GBP_USD         126         267       -97             2       362  MA_40   \n",
       "20   EUR_GBP         116        -295       -45            -2       114  MA_40   \n",
       "115  USD_CAD         130        -457       -91            -3       191  MA_40   \n",
       "191  GBP_CAD         134        -780      -117            -5       483  MA_40   \n",
       "77   EUR_CAD         125        -882       -92            -7       212  MA_40   \n",
       "58   EUR_AUD         131        -888      -163            -6       355  MA_40   \n",
       "248  AUD_CAD         133        -923       -84            -6       245  MA_40   \n",
       "\n",
       "      ma_s        cross granularity  \n",
       "153  MA_10  MA_10_MA_40          H1  \n",
       "39   MA_10  MA_10_MA_40          H1  \n",
       "229  MA_10  MA_10_MA_40          H1  \n",
       "96   MA_10  MA_10_MA_40          H1  \n",
       "1    MA_10  MA_10_MA_40          H1  \n",
       "267  MA_10  MA_10_MA_40          H1  \n",
       "210  MA_10  MA_10_MA_40          H1  \n",
       "172  MA_10  MA_10_MA_40          H1  \n",
       "134  MA_10  MA_10_MA_40          H1  \n",
       "20   MA_10  MA_10_MA_40          H1  \n",
       "115  MA_10  MA_10_MA_40          H1  \n",
       "191  MA_10  MA_10_MA_40          H1  \n",
       "77   MA_10  MA_10_MA_40          H1  \n",
       "58   MA_10  MA_10_MA_40          H1  \n",
       "248  MA_10  MA_10_MA_40          H1  "
      ]
     },
     "execution_count": 49,
     "metadata": {},
     "output_type": "execute_result"
    }
   ],
   "source": [
    "df_MA_10_MA_40"
   ]
  },
  {
   "cell_type": "code",
   "execution_count": 50,
   "metadata": {},
   "outputs": [],
   "source": [
    "df_gains = df_ma_trades_h1[(df_ma_trades_h1['Cross'] == cross) & (df_ma_trades_h1['Pair'] == 'GBP_JPY')].copy()"
   ]
  },
  {
   "cell_type": "code",
   "execution_count": 51,
   "metadata": {},
   "outputs": [
    {
     "data": {
      "text/html": [
       "<div>\n",
       "<style scoped>\n",
       "    .dataframe tbody tr th:only-of-type {\n",
       "        vertical-align: middle;\n",
       "    }\n",
       "\n",
       "    .dataframe tbody tr th {\n",
       "        vertical-align: top;\n",
       "    }\n",
       "\n",
       "    .dataframe thead th {\n",
       "        text-align: right;\n",
       "    }\n",
       "</style>\n",
       "<table border=\"1\" class=\"dataframe\">\n",
       "  <thead>\n",
       "    <tr style=\"text-align: right;\">\n",
       "      <th></th>\n",
       "      <th>time</th>\n",
       "      <th>volume</th>\n",
       "      <th>mid_o</th>\n",
       "      <th>mid_h</th>\n",
       "      <th>mid_l</th>\n",
       "      <th>mid_c</th>\n",
       "      <th>bid_o</th>\n",
       "      <th>bid_h</th>\n",
       "      <th>bid_l</th>\n",
       "      <th>bid_c</th>\n",
       "      <th>ask_o</th>\n",
       "      <th>ask_h</th>\n",
       "      <th>ask_l</th>\n",
       "      <th>ask_c</th>\n",
       "      <th>MA_40</th>\n",
       "      <th>MA_10</th>\n",
       "      <th>MA_80</th>\n",
       "      <th>MA_20</th>\n",
       "      <th>MA_150</th>\n",
       "      <th>MA_120</th>\n",
       "      <th>MA_30</th>\n",
       "      <th>Delta</th>\n",
       "      <th>Delta_Prev</th>\n",
       "      <th>Trades</th>\n",
       "      <th>Diff</th>\n",
       "      <th>Gain</th>\n",
       "      <th>Granularity</th>\n",
       "      <th>Pair</th>\n",
       "      <th>Gain_C</th>\n",
       "      <th>ma_l</th>\n",
       "      <th>ma_s</th>\n",
       "      <th>Cross</th>\n",
       "    </tr>\n",
       "  </thead>\n",
       "  <tbody>\n",
       "    <tr>\n",
       "      <th>9908</th>\n",
       "      <td>2023-06-01 02:00:00+00:00</td>\n",
       "      <td>7387</td>\n",
       "      <td>173.408</td>\n",
       "      <td>173.582</td>\n",
       "      <td>173.342</td>\n",
       "      <td>173.438</td>\n",
       "      <td>173.391</td>\n",
       "      <td>173.570</td>\n",
       "      <td>173.327</td>\n",
       "      <td>173.424</td>\n",
       "      <td>173.424</td>\n",
       "      <td>173.598</td>\n",
       "      <td>173.356</td>\n",
       "      <td>173.452</td>\n",
       "      <td>173.24410</td>\n",
       "      <td>173.2548</td>\n",
       "      <td>173.358725</td>\n",
       "      <td>173.11580</td>\n",
       "      <td>172.911980</td>\n",
       "      <td>173.116317</td>\n",
       "      <td>173.158367</td>\n",
       "      <td>0.01070</td>\n",
       "      <td>-0.043300</td>\n",
       "      <td>1</td>\n",
       "      <td>0.389</td>\n",
       "      <td>38.9</td>\n",
       "      <td>H1</td>\n",
       "      <td>GBP_JPY</td>\n",
       "      <td>38.9</td>\n",
       "      <td>MA_40</td>\n",
       "      <td>MA_10</td>\n",
       "      <td>MA_10_MA_40</td>\n",
       "    </tr>\n",
       "    <tr>\n",
       "      <th>9909</th>\n",
       "      <td>2023-06-05 10:00:00+00:00</td>\n",
       "      <td>6118</td>\n",
       "      <td>173.875</td>\n",
       "      <td>173.913</td>\n",
       "      <td>173.779</td>\n",
       "      <td>173.827</td>\n",
       "      <td>173.861</td>\n",
       "      <td>173.901</td>\n",
       "      <td>173.766</td>\n",
       "      <td>173.814</td>\n",
       "      <td>173.889</td>\n",
       "      <td>173.926</td>\n",
       "      <td>173.792</td>\n",
       "      <td>173.840</td>\n",
       "      <td>174.10455</td>\n",
       "      <td>174.0939</td>\n",
       "      <td>173.736288</td>\n",
       "      <td>174.16810</td>\n",
       "      <td>173.571327</td>\n",
       "      <td>173.640358</td>\n",
       "      <td>174.158767</td>\n",
       "      <td>-0.01065</td>\n",
       "      <td>0.022125</td>\n",
       "      <td>-1</td>\n",
       "      <td>-0.553</td>\n",
       "      <td>55.3</td>\n",
       "      <td>H1</td>\n",
       "      <td>GBP_JPY</td>\n",
       "      <td>94.2</td>\n",
       "      <td>MA_40</td>\n",
       "      <td>MA_10</td>\n",
       "      <td>MA_10_MA_40</td>\n",
       "    </tr>\n",
       "    <tr>\n",
       "      <th>9910</th>\n",
       "      <td>2023-06-07 00:00:00+00:00</td>\n",
       "      <td>5703</td>\n",
       "      <td>173.423</td>\n",
       "      <td>173.542</td>\n",
       "      <td>173.269</td>\n",
       "      <td>173.274</td>\n",
       "      <td>173.410</td>\n",
       "      <td>173.526</td>\n",
       "      <td>173.255</td>\n",
       "      <td>173.259</td>\n",
       "      <td>173.436</td>\n",
       "      <td>173.558</td>\n",
       "      <td>173.283</td>\n",
       "      <td>173.288</td>\n",
       "      <td>173.46975</td>\n",
       "      <td>173.4738</td>\n",
       "      <td>173.790163</td>\n",
       "      <td>173.35535</td>\n",
       "      <td>173.609427</td>\n",
       "      <td>173.637992</td>\n",
       "      <td>173.414967</td>\n",
       "      <td>0.00405</td>\n",
       "      <td>-0.002275</td>\n",
       "      <td>1</td>\n",
       "      <td>-0.115</td>\n",
       "      <td>-11.5</td>\n",
       "      <td>H1</td>\n",
       "      <td>GBP_JPY</td>\n",
       "      <td>82.7</td>\n",
       "      <td>MA_40</td>\n",
       "      <td>MA_10</td>\n",
       "      <td>MA_10_MA_40</td>\n",
       "    </tr>\n",
       "  </tbody>\n",
       "</table>\n",
       "</div>"
      ],
      "text/plain": [
       "                          time  volume    mid_o    mid_h    mid_l    mid_c  \\\n",
       "9908 2023-06-01 02:00:00+00:00    7387  173.408  173.582  173.342  173.438   \n",
       "9909 2023-06-05 10:00:00+00:00    6118  173.875  173.913  173.779  173.827   \n",
       "9910 2023-06-07 00:00:00+00:00    5703  173.423  173.542  173.269  173.274   \n",
       "\n",
       "        bid_o    bid_h    bid_l    bid_c    ask_o    ask_h    ask_l    ask_c  \\\n",
       "9908  173.391  173.570  173.327  173.424  173.424  173.598  173.356  173.452   \n",
       "9909  173.861  173.901  173.766  173.814  173.889  173.926  173.792  173.840   \n",
       "9910  173.410  173.526  173.255  173.259  173.436  173.558  173.283  173.288   \n",
       "\n",
       "          MA_40     MA_10       MA_80      MA_20      MA_150      MA_120  \\\n",
       "9908  173.24410  173.2548  173.358725  173.11580  172.911980  173.116317   \n",
       "9909  174.10455  174.0939  173.736288  174.16810  173.571327  173.640358   \n",
       "9910  173.46975  173.4738  173.790163  173.35535  173.609427  173.637992   \n",
       "\n",
       "           MA_30    Delta  Delta_Prev  Trades   Diff  Gain Granularity  \\\n",
       "9908  173.158367  0.01070   -0.043300       1  0.389  38.9          H1   \n",
       "9909  174.158767 -0.01065    0.022125      -1 -0.553  55.3          H1   \n",
       "9910  173.414967  0.00405   -0.002275       1 -0.115 -11.5          H1   \n",
       "\n",
       "         Pair  Gain_C   ma_l   ma_s        Cross  \n",
       "9908  GBP_JPY    38.9  MA_40  MA_10  MA_10_MA_40  \n",
       "9909  GBP_JPY    94.2  MA_40  MA_10  MA_10_MA_40  \n",
       "9910  GBP_JPY    82.7  MA_40  MA_10  MA_10_MA_40  "
      ]
     },
     "execution_count": 51,
     "metadata": {},
     "output_type": "execute_result"
    }
   ],
   "source": [
    "df_gains.head(3)"
   ]
  },
  {
   "cell_type": "code",
   "execution_count": 52,
   "metadata": {},
   "outputs": [
    {
     "data": {
      "application/vnd.plotly.v1+json": {
       "config": {
        "plotlyServerURL": "https://plot.ly"
       },
       "data": [
        {
         "line": {
          "shape": "spline",
          "width": 2
         },
         "name": "Gain_C",
         "type": "scatter",
         "x": [
          "2023-06-01T02:00:00+00:00",
          "2023-06-05T10:00:00+00:00",
          "2023-06-07T00:00:00+00:00",
          "2023-06-07T01:00:00+00:00",
          "2023-06-07T14:00:00+00:00",
          "2023-06-12T15:00:00+00:00",
          "2023-06-13T11:00:00+00:00",
          "2023-06-19T22:00:00+00:00",
          "2023-06-21T18:00:00+00:00",
          "2023-06-26T12:00:00+00:00",
          "2023-06-26T21:00:00+00:00",
          "2023-06-27T00:00:00+00:00",
          "2023-06-27T06:00:00+00:00",
          "2023-06-28T13:00:00+00:00",
          "2023-06-29T20:00:00+00:00",
          "2023-07-05T10:00:00+00:00",
          "2023-07-05T20:00:00+00:00",
          "2023-07-06T00:00:00+00:00",
          "2023-07-06T18:00:00+00:00",
          "2023-07-07T04:00:00+00:00",
          "2023-07-13T11:00:00+00:00",
          "2023-07-17T08:00:00+00:00",
          "2023-07-17T20:00:00+00:00",
          "2023-07-17T23:00:00+00:00",
          "2023-07-21T05:00:00+00:00",
          "2023-07-24T13:00:00+00:00",
          "2023-07-25T14:00:00+00:00",
          "2023-07-26T11:00:00+00:00",
          "2023-07-27T11:00:00+00:00",
          "2023-07-27T17:00:00+00:00",
          "2023-07-28T17:00:00+00:00",
          "2023-08-02T06:00:00+00:00",
          "2023-08-07T14:00:00+00:00",
          "2023-08-17T23:00:00+00:00",
          "2023-08-21T10:00:00+00:00",
          "2023-08-22T16:00:00+00:00",
          "2023-08-25T18:00:00+00:00",
          "2023-08-29T19:00:00+00:00",
          "2023-08-30T08:00:00+00:00",
          "2023-08-31T13:00:00+00:00",
          "2023-09-04T07:00:00+00:00",
          "2023-09-06T11:00:00+00:00",
          "2023-09-08T12:00:00+00:00",
          "2023-09-11T02:00:00+00:00",
          "2023-09-12T18:00:00+00:00",
          "2023-09-14T06:00:00+00:00",
          "2023-09-15T11:00:00+00:00",
          "2023-09-15T19:00:00+00:00",
          "2023-09-19T11:00:00+00:00",
          "2023-09-20T12:00:00+00:00",
          "2023-09-24T22:00:00+00:00",
          "2023-09-26T07:00:00+00:00",
          "2023-09-27T17:00:00+00:00",
          "2023-10-01T23:00:00+00:00",
          "2023-10-02T00:00:00+00:00",
          "2023-10-02T01:00:00+00:00",
          "2023-10-02T02:00:00+00:00",
          "2023-10-02T11:00:00+00:00",
          "2023-10-04T15:00:00+00:00",
          "2023-10-09T11:00:00+00:00",
          "2023-10-10T08:00:00+00:00",
          "2023-10-12T16:00:00+00:00",
          "2023-10-16T16:00:00+00:00",
          "2023-10-17T13:00:00+00:00",
          "2023-10-17T20:00:00+00:00",
          "2023-10-18T03:00:00+00:00",
          "2023-10-18T09:00:00+00:00",
          "2023-10-18T17:00:00+00:00",
          "2023-10-19T21:00:00+00:00",
          "2023-10-20T03:00:00+00:00",
          "2023-10-20T13:00:00+00:00",
          "2023-10-24T16:00:00+00:00",
          "2023-10-26T16:00:00+00:00",
          "2023-10-27T13:00:00+00:00",
          "2023-10-31T02:00:00+00:00",
          "2023-11-01T17:00:00+00:00",
          "2023-11-02T19:00:00+00:00",
          "2023-11-07T09:00:00+00:00",
          "2023-11-08T17:00:00+00:00",
          "2023-11-09T20:00:00+00:00",
          "2023-11-13T00:00:00+00:00",
          "2023-11-16T03:00:00+00:00",
          "2023-11-21T19:00:00+00:00",
          "2023-11-27T17:00:00+00:00",
          "2023-11-30T20:00:00+00:00",
          "2023-12-01T18:00:00+00:00",
          "2023-12-08T21:00:00+00:00",
          "2023-12-12T09:00:00+00:00",
          "2023-12-14T21:00:00+00:00",
          "2023-12-15T20:00:00+00:00",
          "2023-12-18T15:00:00+00:00",
          "2023-12-20T10:00:00+00:00",
          "2023-12-22T13:00:00+00:00",
          "2023-12-28T03:00:00+00:00",
          "2024-01-02T10:00:00+00:00",
          "2024-01-02T11:00:00+00:00",
          "2024-01-03T09:00:00+00:00",
          "2024-01-08T06:00:00+00:00",
          "2024-01-09T23:00:00+00:00",
          "2024-01-12T03:00:00+00:00"
         ],
         "y": [
          38.900000000001,
          94.20000000000073,
          82.69999999999982,
          -13.000000000002387,
          24.999999999997158,
          -65.80000000000155,
          557.9999999999984,
          608.3999999999975,
          685.899999999998,
          637.5,
          629.6000000000021,
          575.3000000000043,
          538.8000000000062,
          527.4000000000058,
          582.5000000000045,
          521.6000000000037,
          458.6000000000013,
          406.2000000000012,
          365.60000000000343,
          599.7000000000043,
          630.600000000004,
          618.0000000000035,
          616.500000000002,
          692.7999999999997,
          736.099999999999,
          693.3999999999997,
          673.599999999999,
          629.7999999999973,
          365.3999999999968,
          151.1999999999972,
          251.79999999999723,
          290.79999999999586,
          686.6999999999962,
          668.1999999999988,
          648.4000000000009,
          792.4000000000007,
          809.3999999999994,
          747.399999999999,
          764.2999999999972,
          811.4999999999952,
          850.7999999999953,
          953.9999999999964,
          869.999999999996,
          833.8999999999942,
          846.4999999999918,
          889.5999999999901,
          865.0999999999897,
          845.1999999999884,
          814.7999999999882,
          946.499999999989,
          900.5999999999887,
          886.0999999999876,
          980.7999999999879,
          969.499999999988,
          979.5999999999879,
          977.9999999999887,
          919.5999999999884,
          1026.5999999999876,
          1087.199999999987,
          974.3999999999885,
          980.7999999999906,
          1001.5999999999905,
          948.5999999999904,
          893.9999999999911,
          866.799999999992,
          827.7999999999934,
          788.5999999999938,
          824.1999999999932,
          824.3999999999913,
          804.1999999999887,
          809.599999999986,
          815.2999999999848,
          790.3999999999853,
          818.5999999999864,
          968.5999999999864,
          904.0999999999854,
          1043.5999999999863,
          1002.1999999999875,
          946.9999999999883,
          902.7999999999904,
          1101.9999999999923,
          1239.5999999999926,
          1413.1999999999916,
          1474.1999999999903,
          1416.199999999989,
          1878.3999999999874,
          1957.1999999999857,
          2118.1999999999844,
          2035.199999999983,
          1966.7999999999834,
          2011.599999999984,
          2069.1999999999834,
          2092.3999999999833,
          2215.6999999999834,
          2191.199999999983,
          2137.399999999982,
          2458.1999999999816,
          2432.3999999999805,
          2588.19999999998,
          2588.19999999998
         ]
        }
       ],
       "layout": {
        "font": {
         "color": "#e1e1e1",
         "size": 8
        },
        "height": 400,
        "margin": {
         "b": 10,
         "l": 10,
         "r": 10,
         "t": 10
        },
        "paper_bgcolor": "#2c303c",
        "plot_bgcolor": "#2c303c",
        "template": {
         "data": {
          "bar": [
           {
            "error_x": {
             "color": "#2a3f5f"
            },
            "error_y": {
             "color": "#2a3f5f"
            },
            "marker": {
             "line": {
              "color": "#E5ECF6",
              "width": 0.5
             },
             "pattern": {
              "fillmode": "overlay",
              "size": 10,
              "solidity": 0.2
             }
            },
            "type": "bar"
           }
          ],
          "barpolar": [
           {
            "marker": {
             "line": {
              "color": "#E5ECF6",
              "width": 0.5
             },
             "pattern": {
              "fillmode": "overlay",
              "size": 10,
              "solidity": 0.2
             }
            },
            "type": "barpolar"
           }
          ],
          "carpet": [
           {
            "aaxis": {
             "endlinecolor": "#2a3f5f",
             "gridcolor": "white",
             "linecolor": "white",
             "minorgridcolor": "white",
             "startlinecolor": "#2a3f5f"
            },
            "baxis": {
             "endlinecolor": "#2a3f5f",
             "gridcolor": "white",
             "linecolor": "white",
             "minorgridcolor": "white",
             "startlinecolor": "#2a3f5f"
            },
            "type": "carpet"
           }
          ],
          "choropleth": [
           {
            "colorbar": {
             "outlinewidth": 0,
             "ticks": ""
            },
            "type": "choropleth"
           }
          ],
          "contour": [
           {
            "colorbar": {
             "outlinewidth": 0,
             "ticks": ""
            },
            "colorscale": [
             [
              0,
              "#0d0887"
             ],
             [
              0.1111111111111111,
              "#46039f"
             ],
             [
              0.2222222222222222,
              "#7201a8"
             ],
             [
              0.3333333333333333,
              "#9c179e"
             ],
             [
              0.4444444444444444,
              "#bd3786"
             ],
             [
              0.5555555555555556,
              "#d8576b"
             ],
             [
              0.6666666666666666,
              "#ed7953"
             ],
             [
              0.7777777777777778,
              "#fb9f3a"
             ],
             [
              0.8888888888888888,
              "#fdca26"
             ],
             [
              1,
              "#f0f921"
             ]
            ],
            "type": "contour"
           }
          ],
          "contourcarpet": [
           {
            "colorbar": {
             "outlinewidth": 0,
             "ticks": ""
            },
            "type": "contourcarpet"
           }
          ],
          "heatmap": [
           {
            "colorbar": {
             "outlinewidth": 0,
             "ticks": ""
            },
            "colorscale": [
             [
              0,
              "#0d0887"
             ],
             [
              0.1111111111111111,
              "#46039f"
             ],
             [
              0.2222222222222222,
              "#7201a8"
             ],
             [
              0.3333333333333333,
              "#9c179e"
             ],
             [
              0.4444444444444444,
              "#bd3786"
             ],
             [
              0.5555555555555556,
              "#d8576b"
             ],
             [
              0.6666666666666666,
              "#ed7953"
             ],
             [
              0.7777777777777778,
              "#fb9f3a"
             ],
             [
              0.8888888888888888,
              "#fdca26"
             ],
             [
              1,
              "#f0f921"
             ]
            ],
            "type": "heatmap"
           }
          ],
          "heatmapgl": [
           {
            "colorbar": {
             "outlinewidth": 0,
             "ticks": ""
            },
            "colorscale": [
             [
              0,
              "#0d0887"
             ],
             [
              0.1111111111111111,
              "#46039f"
             ],
             [
              0.2222222222222222,
              "#7201a8"
             ],
             [
              0.3333333333333333,
              "#9c179e"
             ],
             [
              0.4444444444444444,
              "#bd3786"
             ],
             [
              0.5555555555555556,
              "#d8576b"
             ],
             [
              0.6666666666666666,
              "#ed7953"
             ],
             [
              0.7777777777777778,
              "#fb9f3a"
             ],
             [
              0.8888888888888888,
              "#fdca26"
             ],
             [
              1,
              "#f0f921"
             ]
            ],
            "type": "heatmapgl"
           }
          ],
          "histogram": [
           {
            "marker": {
             "pattern": {
              "fillmode": "overlay",
              "size": 10,
              "solidity": 0.2
             }
            },
            "type": "histogram"
           }
          ],
          "histogram2d": [
           {
            "colorbar": {
             "outlinewidth": 0,
             "ticks": ""
            },
            "colorscale": [
             [
              0,
              "#0d0887"
             ],
             [
              0.1111111111111111,
              "#46039f"
             ],
             [
              0.2222222222222222,
              "#7201a8"
             ],
             [
              0.3333333333333333,
              "#9c179e"
             ],
             [
              0.4444444444444444,
              "#bd3786"
             ],
             [
              0.5555555555555556,
              "#d8576b"
             ],
             [
              0.6666666666666666,
              "#ed7953"
             ],
             [
              0.7777777777777778,
              "#fb9f3a"
             ],
             [
              0.8888888888888888,
              "#fdca26"
             ],
             [
              1,
              "#f0f921"
             ]
            ],
            "type": "histogram2d"
           }
          ],
          "histogram2dcontour": [
           {
            "colorbar": {
             "outlinewidth": 0,
             "ticks": ""
            },
            "colorscale": [
             [
              0,
              "#0d0887"
             ],
             [
              0.1111111111111111,
              "#46039f"
             ],
             [
              0.2222222222222222,
              "#7201a8"
             ],
             [
              0.3333333333333333,
              "#9c179e"
             ],
             [
              0.4444444444444444,
              "#bd3786"
             ],
             [
              0.5555555555555556,
              "#d8576b"
             ],
             [
              0.6666666666666666,
              "#ed7953"
             ],
             [
              0.7777777777777778,
              "#fb9f3a"
             ],
             [
              0.8888888888888888,
              "#fdca26"
             ],
             [
              1,
              "#f0f921"
             ]
            ],
            "type": "histogram2dcontour"
           }
          ],
          "mesh3d": [
           {
            "colorbar": {
             "outlinewidth": 0,
             "ticks": ""
            },
            "type": "mesh3d"
           }
          ],
          "parcoords": [
           {
            "line": {
             "colorbar": {
              "outlinewidth": 0,
              "ticks": ""
             }
            },
            "type": "parcoords"
           }
          ],
          "pie": [
           {
            "automargin": true,
            "type": "pie"
           }
          ],
          "scatter": [
           {
            "fillpattern": {
             "fillmode": "overlay",
             "size": 10,
             "solidity": 0.2
            },
            "type": "scatter"
           }
          ],
          "scatter3d": [
           {
            "line": {
             "colorbar": {
              "outlinewidth": 0,
              "ticks": ""
             }
            },
            "marker": {
             "colorbar": {
              "outlinewidth": 0,
              "ticks": ""
             }
            },
            "type": "scatter3d"
           }
          ],
          "scattercarpet": [
           {
            "marker": {
             "colorbar": {
              "outlinewidth": 0,
              "ticks": ""
             }
            },
            "type": "scattercarpet"
           }
          ],
          "scattergeo": [
           {
            "marker": {
             "colorbar": {
              "outlinewidth": 0,
              "ticks": ""
             }
            },
            "type": "scattergeo"
           }
          ],
          "scattergl": [
           {
            "marker": {
             "colorbar": {
              "outlinewidth": 0,
              "ticks": ""
             }
            },
            "type": "scattergl"
           }
          ],
          "scattermapbox": [
           {
            "marker": {
             "colorbar": {
              "outlinewidth": 0,
              "ticks": ""
             }
            },
            "type": "scattermapbox"
           }
          ],
          "scatterpolar": [
           {
            "marker": {
             "colorbar": {
              "outlinewidth": 0,
              "ticks": ""
             }
            },
            "type": "scatterpolar"
           }
          ],
          "scatterpolargl": [
           {
            "marker": {
             "colorbar": {
              "outlinewidth": 0,
              "ticks": ""
             }
            },
            "type": "scatterpolargl"
           }
          ],
          "scatterternary": [
           {
            "marker": {
             "colorbar": {
              "outlinewidth": 0,
              "ticks": ""
             }
            },
            "type": "scatterternary"
           }
          ],
          "surface": [
           {
            "colorbar": {
             "outlinewidth": 0,
             "ticks": ""
            },
            "colorscale": [
             [
              0,
              "#0d0887"
             ],
             [
              0.1111111111111111,
              "#46039f"
             ],
             [
              0.2222222222222222,
              "#7201a8"
             ],
             [
              0.3333333333333333,
              "#9c179e"
             ],
             [
              0.4444444444444444,
              "#bd3786"
             ],
             [
              0.5555555555555556,
              "#d8576b"
             ],
             [
              0.6666666666666666,
              "#ed7953"
             ],
             [
              0.7777777777777778,
              "#fb9f3a"
             ],
             [
              0.8888888888888888,
              "#fdca26"
             ],
             [
              1,
              "#f0f921"
             ]
            ],
            "type": "surface"
           }
          ],
          "table": [
           {
            "cells": {
             "fill": {
              "color": "#EBF0F8"
             },
             "line": {
              "color": "white"
             }
            },
            "header": {
             "fill": {
              "color": "#C8D4E3"
             },
             "line": {
              "color": "white"
             }
            },
            "type": "table"
           }
          ]
         },
         "layout": {
          "annotationdefaults": {
           "arrowcolor": "#2a3f5f",
           "arrowhead": 0,
           "arrowwidth": 1
          },
          "autotypenumbers": "strict",
          "coloraxis": {
           "colorbar": {
            "outlinewidth": 0,
            "ticks": ""
           }
          },
          "colorscale": {
           "diverging": [
            [
             0,
             "#8e0152"
            ],
            [
             0.1,
             "#c51b7d"
            ],
            [
             0.2,
             "#de77ae"
            ],
            [
             0.3,
             "#f1b6da"
            ],
            [
             0.4,
             "#fde0ef"
            ],
            [
             0.5,
             "#f7f7f7"
            ],
            [
             0.6,
             "#e6f5d0"
            ],
            [
             0.7,
             "#b8e186"
            ],
            [
             0.8,
             "#7fbc41"
            ],
            [
             0.9,
             "#4d9221"
            ],
            [
             1,
             "#276419"
            ]
           ],
           "sequential": [
            [
             0,
             "#0d0887"
            ],
            [
             0.1111111111111111,
             "#46039f"
            ],
            [
             0.2222222222222222,
             "#7201a8"
            ],
            [
             0.3333333333333333,
             "#9c179e"
            ],
            [
             0.4444444444444444,
             "#bd3786"
            ],
            [
             0.5555555555555556,
             "#d8576b"
            ],
            [
             0.6666666666666666,
             "#ed7953"
            ],
            [
             0.7777777777777778,
             "#fb9f3a"
            ],
            [
             0.8888888888888888,
             "#fdca26"
            ],
            [
             1,
             "#f0f921"
            ]
           ],
           "sequentialminus": [
            [
             0,
             "#0d0887"
            ],
            [
             0.1111111111111111,
             "#46039f"
            ],
            [
             0.2222222222222222,
             "#7201a8"
            ],
            [
             0.3333333333333333,
             "#9c179e"
            ],
            [
             0.4444444444444444,
             "#bd3786"
            ],
            [
             0.5555555555555556,
             "#d8576b"
            ],
            [
             0.6666666666666666,
             "#ed7953"
            ],
            [
             0.7777777777777778,
             "#fb9f3a"
            ],
            [
             0.8888888888888888,
             "#fdca26"
            ],
            [
             1,
             "#f0f921"
            ]
           ]
          },
          "colorway": [
           "#636efa",
           "#EF553B",
           "#00cc96",
           "#ab63fa",
           "#FFA15A",
           "#19d3f3",
           "#FF6692",
           "#B6E880",
           "#FF97FF",
           "#FECB52"
          ],
          "font": {
           "color": "#2a3f5f"
          },
          "geo": {
           "bgcolor": "white",
           "lakecolor": "white",
           "landcolor": "#E5ECF6",
           "showlakes": true,
           "showland": true,
           "subunitcolor": "white"
          },
          "hoverlabel": {
           "align": "left"
          },
          "hovermode": "closest",
          "mapbox": {
           "style": "light"
          },
          "paper_bgcolor": "white",
          "plot_bgcolor": "#E5ECF6",
          "polar": {
           "angularaxis": {
            "gridcolor": "white",
            "linecolor": "white",
            "ticks": ""
           },
           "bgcolor": "#E5ECF6",
           "radialaxis": {
            "gridcolor": "white",
            "linecolor": "white",
            "ticks": ""
           }
          },
          "scene": {
           "xaxis": {
            "backgroundcolor": "#E5ECF6",
            "gridcolor": "white",
            "gridwidth": 2,
            "linecolor": "white",
            "showbackground": true,
            "ticks": "",
            "zerolinecolor": "white"
           },
           "yaxis": {
            "backgroundcolor": "#E5ECF6",
            "gridcolor": "white",
            "gridwidth": 2,
            "linecolor": "white",
            "showbackground": true,
            "ticks": "",
            "zerolinecolor": "white"
           },
           "zaxis": {
            "backgroundcolor": "#E5ECF6",
            "gridcolor": "white",
            "gridwidth": 2,
            "linecolor": "white",
            "showbackground": true,
            "ticks": "",
            "zerolinecolor": "white"
           }
          },
          "shapedefaults": {
           "line": {
            "color": "#2a3f5f"
           }
          },
          "ternary": {
           "aaxis": {
            "gridcolor": "white",
            "linecolor": "white",
            "ticks": ""
           },
           "baxis": {
            "gridcolor": "white",
            "linecolor": "white",
            "ticks": ""
           },
           "bgcolor": "#E5ECF6",
           "caxis": {
            "gridcolor": "white",
            "linecolor": "white",
            "ticks": ""
           }
          },
          "title": {
           "x": 0.05
          },
          "xaxis": {
           "automargin": true,
           "gridcolor": "white",
           "linecolor": "white",
           "ticks": "",
           "title": {
            "standoff": 15
           },
           "zerolinecolor": "white",
           "zerolinewidth": 2
          },
          "yaxis": {
           "automargin": true,
           "gridcolor": "white",
           "linecolor": "white",
           "ticks": "",
           "title": {
            "standoff": 15
           },
           "zerolinecolor": "white",
           "zerolinewidth": 2
          }
         }
        },
        "width": 900,
        "xaxis": {
         "gridcolor": "#1f292f",
         "nticks": 5,
         "rangeslider": {
          "visible": false
         },
         "type": "category"
        },
        "yaxis": {
         "gridcolor": "#1f292f"
        }
       }
      }
     },
     "metadata": {},
     "output_type": "display_data"
    }
   ],
   "source": [
    "cp = CandlePlot(df_gains, candles=False)\n",
    "cp.show_plot(line_traces=['Gain_C'])"
   ]
  },
  {
   "cell_type": "code",
   "execution_count": 27,
   "metadata": {},
   "outputs": [
    {
     "name": "stdout",
     "output_type": "stream",
     "text": [
      "GBP_JPY 2588\n"
     ]
    },
    {
     "data": {
      "application/vnd.plotly.v1+json": {
       "config": {
        "plotlyServerURL": "https://plot.ly"
       },
       "data": [
        {
         "line": {
          "shape": "spline",
          "width": 2
         },
         "name": "Gain_C",
         "type": "scatter",
         "x": [
          "2023-06-01T02:00:00+00:00",
          "2023-06-05T10:00:00+00:00",
          "2023-06-07T00:00:00+00:00",
          "2023-06-07T01:00:00+00:00",
          "2023-06-07T14:00:00+00:00",
          "2023-06-12T15:00:00+00:00",
          "2023-06-13T11:00:00+00:00",
          "2023-06-19T22:00:00+00:00",
          "2023-06-21T18:00:00+00:00",
          "2023-06-26T12:00:00+00:00",
          "2023-06-26T21:00:00+00:00",
          "2023-06-27T00:00:00+00:00",
          "2023-06-27T06:00:00+00:00",
          "2023-06-28T13:00:00+00:00",
          "2023-06-29T20:00:00+00:00",
          "2023-07-05T10:00:00+00:00",
          "2023-07-05T20:00:00+00:00",
          "2023-07-06T00:00:00+00:00",
          "2023-07-06T18:00:00+00:00",
          "2023-07-07T04:00:00+00:00",
          "2023-07-13T11:00:00+00:00",
          "2023-07-17T08:00:00+00:00",
          "2023-07-17T20:00:00+00:00",
          "2023-07-17T23:00:00+00:00",
          "2023-07-21T05:00:00+00:00",
          "2023-07-24T13:00:00+00:00",
          "2023-07-25T14:00:00+00:00",
          "2023-07-26T11:00:00+00:00",
          "2023-07-27T11:00:00+00:00",
          "2023-07-27T17:00:00+00:00",
          "2023-07-28T17:00:00+00:00",
          "2023-08-02T06:00:00+00:00",
          "2023-08-07T14:00:00+00:00",
          "2023-08-17T23:00:00+00:00",
          "2023-08-21T10:00:00+00:00",
          "2023-08-22T16:00:00+00:00",
          "2023-08-25T18:00:00+00:00",
          "2023-08-29T19:00:00+00:00",
          "2023-08-30T08:00:00+00:00",
          "2023-08-31T13:00:00+00:00",
          "2023-09-04T07:00:00+00:00",
          "2023-09-06T11:00:00+00:00",
          "2023-09-08T12:00:00+00:00",
          "2023-09-11T02:00:00+00:00",
          "2023-09-12T18:00:00+00:00",
          "2023-09-14T06:00:00+00:00",
          "2023-09-15T11:00:00+00:00",
          "2023-09-15T19:00:00+00:00",
          "2023-09-19T11:00:00+00:00",
          "2023-09-20T12:00:00+00:00",
          "2023-09-24T22:00:00+00:00",
          "2023-09-26T07:00:00+00:00",
          "2023-09-27T17:00:00+00:00",
          "2023-10-01T23:00:00+00:00",
          "2023-10-02T00:00:00+00:00",
          "2023-10-02T01:00:00+00:00",
          "2023-10-02T02:00:00+00:00",
          "2023-10-02T11:00:00+00:00",
          "2023-10-04T15:00:00+00:00",
          "2023-10-09T11:00:00+00:00",
          "2023-10-10T08:00:00+00:00",
          "2023-10-12T16:00:00+00:00",
          "2023-10-16T16:00:00+00:00",
          "2023-10-17T13:00:00+00:00",
          "2023-10-17T20:00:00+00:00",
          "2023-10-18T03:00:00+00:00",
          "2023-10-18T09:00:00+00:00",
          "2023-10-18T17:00:00+00:00",
          "2023-10-19T21:00:00+00:00",
          "2023-10-20T03:00:00+00:00",
          "2023-10-20T13:00:00+00:00",
          "2023-10-24T16:00:00+00:00",
          "2023-10-26T16:00:00+00:00",
          "2023-10-27T13:00:00+00:00",
          "2023-10-31T02:00:00+00:00",
          "2023-11-01T17:00:00+00:00",
          "2023-11-02T19:00:00+00:00",
          "2023-11-07T09:00:00+00:00",
          "2023-11-08T17:00:00+00:00",
          "2023-11-09T20:00:00+00:00",
          "2023-11-13T00:00:00+00:00",
          "2023-11-16T03:00:00+00:00",
          "2023-11-21T19:00:00+00:00",
          "2023-11-27T17:00:00+00:00",
          "2023-11-30T20:00:00+00:00",
          "2023-12-01T18:00:00+00:00",
          "2023-12-08T21:00:00+00:00",
          "2023-12-12T09:00:00+00:00",
          "2023-12-14T21:00:00+00:00",
          "2023-12-15T20:00:00+00:00",
          "2023-12-18T15:00:00+00:00",
          "2023-12-20T10:00:00+00:00",
          "2023-12-22T13:00:00+00:00",
          "2023-12-28T03:00:00+00:00",
          "2024-01-02T10:00:00+00:00",
          "2024-01-02T11:00:00+00:00",
          "2024-01-03T09:00:00+00:00",
          "2024-01-08T06:00:00+00:00",
          "2024-01-09T23:00:00+00:00",
          "2024-01-12T03:00:00+00:00"
         ],
         "y": [
          38.900000000001,
          94.20000000000073,
          82.69999999999982,
          -13.000000000002387,
          24.999999999997158,
          -65.80000000000155,
          557.9999999999984,
          608.3999999999975,
          685.899999999998,
          637.5,
          629.6000000000021,
          575.3000000000043,
          538.8000000000062,
          527.4000000000058,
          582.5000000000045,
          521.6000000000037,
          458.6000000000013,
          406.2000000000012,
          365.60000000000343,
          599.7000000000043,
          630.600000000004,
          618.0000000000035,
          616.500000000002,
          692.7999999999997,
          736.099999999999,
          693.3999999999997,
          673.599999999999,
          629.7999999999973,
          365.3999999999968,
          151.1999999999972,
          251.79999999999723,
          290.79999999999586,
          686.6999999999962,
          668.1999999999988,
          648.4000000000009,
          792.4000000000007,
          809.3999999999994,
          747.399999999999,
          764.2999999999972,
          811.4999999999952,
          850.7999999999953,
          953.9999999999964,
          869.999999999996,
          833.8999999999942,
          846.4999999999918,
          889.5999999999901,
          865.0999999999897,
          845.1999999999884,
          814.7999999999882,
          946.499999999989,
          900.5999999999887,
          886.0999999999876,
          980.7999999999879,
          969.499999999988,
          979.5999999999879,
          977.9999999999887,
          919.5999999999884,
          1026.5999999999876,
          1087.199999999987,
          974.3999999999885,
          980.7999999999906,
          1001.5999999999905,
          948.5999999999904,
          893.9999999999911,
          866.799999999992,
          827.7999999999934,
          788.5999999999938,
          824.1999999999932,
          824.3999999999913,
          804.1999999999887,
          809.599999999986,
          815.2999999999848,
          790.3999999999853,
          818.5999999999864,
          968.5999999999864,
          904.0999999999854,
          1043.5999999999863,
          1002.1999999999875,
          946.9999999999883,
          902.7999999999904,
          1101.9999999999923,
          1239.5999999999926,
          1413.1999999999916,
          1474.1999999999903,
          1416.199999999989,
          1878.3999999999874,
          1957.1999999999857,
          2118.1999999999844,
          2035.199999999983,
          1966.7999999999834,
          2011.599999999984,
          2069.1999999999834,
          2092.3999999999833,
          2215.6999999999834,
          2191.199999999983,
          2137.399999999982,
          2458.1999999999816,
          2432.3999999999805,
          2588.19999999998,
          2588.19999999998
         ]
        }
       ],
       "layout": {
        "font": {
         "color": "#e1e1e1",
         "size": 8
        },
        "height": 400,
        "margin": {
         "b": 10,
         "l": 10,
         "r": 10,
         "t": 10
        },
        "paper_bgcolor": "#2c303c",
        "plot_bgcolor": "#2c303c",
        "template": {
         "data": {
          "bar": [
           {
            "error_x": {
             "color": "#2a3f5f"
            },
            "error_y": {
             "color": "#2a3f5f"
            },
            "marker": {
             "line": {
              "color": "#E5ECF6",
              "width": 0.5
             },
             "pattern": {
              "fillmode": "overlay",
              "size": 10,
              "solidity": 0.2
             }
            },
            "type": "bar"
           }
          ],
          "barpolar": [
           {
            "marker": {
             "line": {
              "color": "#E5ECF6",
              "width": 0.5
             },
             "pattern": {
              "fillmode": "overlay",
              "size": 10,
              "solidity": 0.2
             }
            },
            "type": "barpolar"
           }
          ],
          "carpet": [
           {
            "aaxis": {
             "endlinecolor": "#2a3f5f",
             "gridcolor": "white",
             "linecolor": "white",
             "minorgridcolor": "white",
             "startlinecolor": "#2a3f5f"
            },
            "baxis": {
             "endlinecolor": "#2a3f5f",
             "gridcolor": "white",
             "linecolor": "white",
             "minorgridcolor": "white",
             "startlinecolor": "#2a3f5f"
            },
            "type": "carpet"
           }
          ],
          "choropleth": [
           {
            "colorbar": {
             "outlinewidth": 0,
             "ticks": ""
            },
            "type": "choropleth"
           }
          ],
          "contour": [
           {
            "colorbar": {
             "outlinewidth": 0,
             "ticks": ""
            },
            "colorscale": [
             [
              0,
              "#0d0887"
             ],
             [
              0.1111111111111111,
              "#46039f"
             ],
             [
              0.2222222222222222,
              "#7201a8"
             ],
             [
              0.3333333333333333,
              "#9c179e"
             ],
             [
              0.4444444444444444,
              "#bd3786"
             ],
             [
              0.5555555555555556,
              "#d8576b"
             ],
             [
              0.6666666666666666,
              "#ed7953"
             ],
             [
              0.7777777777777778,
              "#fb9f3a"
             ],
             [
              0.8888888888888888,
              "#fdca26"
             ],
             [
              1,
              "#f0f921"
             ]
            ],
            "type": "contour"
           }
          ],
          "contourcarpet": [
           {
            "colorbar": {
             "outlinewidth": 0,
             "ticks": ""
            },
            "type": "contourcarpet"
           }
          ],
          "heatmap": [
           {
            "colorbar": {
             "outlinewidth": 0,
             "ticks": ""
            },
            "colorscale": [
             [
              0,
              "#0d0887"
             ],
             [
              0.1111111111111111,
              "#46039f"
             ],
             [
              0.2222222222222222,
              "#7201a8"
             ],
             [
              0.3333333333333333,
              "#9c179e"
             ],
             [
              0.4444444444444444,
              "#bd3786"
             ],
             [
              0.5555555555555556,
              "#d8576b"
             ],
             [
              0.6666666666666666,
              "#ed7953"
             ],
             [
              0.7777777777777778,
              "#fb9f3a"
             ],
             [
              0.8888888888888888,
              "#fdca26"
             ],
             [
              1,
              "#f0f921"
             ]
            ],
            "type": "heatmap"
           }
          ],
          "heatmapgl": [
           {
            "colorbar": {
             "outlinewidth": 0,
             "ticks": ""
            },
            "colorscale": [
             [
              0,
              "#0d0887"
             ],
             [
              0.1111111111111111,
              "#46039f"
             ],
             [
              0.2222222222222222,
              "#7201a8"
             ],
             [
              0.3333333333333333,
              "#9c179e"
             ],
             [
              0.4444444444444444,
              "#bd3786"
             ],
             [
              0.5555555555555556,
              "#d8576b"
             ],
             [
              0.6666666666666666,
              "#ed7953"
             ],
             [
              0.7777777777777778,
              "#fb9f3a"
             ],
             [
              0.8888888888888888,
              "#fdca26"
             ],
             [
              1,
              "#f0f921"
             ]
            ],
            "type": "heatmapgl"
           }
          ],
          "histogram": [
           {
            "marker": {
             "pattern": {
              "fillmode": "overlay",
              "size": 10,
              "solidity": 0.2
             }
            },
            "type": "histogram"
           }
          ],
          "histogram2d": [
           {
            "colorbar": {
             "outlinewidth": 0,
             "ticks": ""
            },
            "colorscale": [
             [
              0,
              "#0d0887"
             ],
             [
              0.1111111111111111,
              "#46039f"
             ],
             [
              0.2222222222222222,
              "#7201a8"
             ],
             [
              0.3333333333333333,
              "#9c179e"
             ],
             [
              0.4444444444444444,
              "#bd3786"
             ],
             [
              0.5555555555555556,
              "#d8576b"
             ],
             [
              0.6666666666666666,
              "#ed7953"
             ],
             [
              0.7777777777777778,
              "#fb9f3a"
             ],
             [
              0.8888888888888888,
              "#fdca26"
             ],
             [
              1,
              "#f0f921"
             ]
            ],
            "type": "histogram2d"
           }
          ],
          "histogram2dcontour": [
           {
            "colorbar": {
             "outlinewidth": 0,
             "ticks": ""
            },
            "colorscale": [
             [
              0,
              "#0d0887"
             ],
             [
              0.1111111111111111,
              "#46039f"
             ],
             [
              0.2222222222222222,
              "#7201a8"
             ],
             [
              0.3333333333333333,
              "#9c179e"
             ],
             [
              0.4444444444444444,
              "#bd3786"
             ],
             [
              0.5555555555555556,
              "#d8576b"
             ],
             [
              0.6666666666666666,
              "#ed7953"
             ],
             [
              0.7777777777777778,
              "#fb9f3a"
             ],
             [
              0.8888888888888888,
              "#fdca26"
             ],
             [
              1,
              "#f0f921"
             ]
            ],
            "type": "histogram2dcontour"
           }
          ],
          "mesh3d": [
           {
            "colorbar": {
             "outlinewidth": 0,
             "ticks": ""
            },
            "type": "mesh3d"
           }
          ],
          "parcoords": [
           {
            "line": {
             "colorbar": {
              "outlinewidth": 0,
              "ticks": ""
             }
            },
            "type": "parcoords"
           }
          ],
          "pie": [
           {
            "automargin": true,
            "type": "pie"
           }
          ],
          "scatter": [
           {
            "fillpattern": {
             "fillmode": "overlay",
             "size": 10,
             "solidity": 0.2
            },
            "type": "scatter"
           }
          ],
          "scatter3d": [
           {
            "line": {
             "colorbar": {
              "outlinewidth": 0,
              "ticks": ""
             }
            },
            "marker": {
             "colorbar": {
              "outlinewidth": 0,
              "ticks": ""
             }
            },
            "type": "scatter3d"
           }
          ],
          "scattercarpet": [
           {
            "marker": {
             "colorbar": {
              "outlinewidth": 0,
              "ticks": ""
             }
            },
            "type": "scattercarpet"
           }
          ],
          "scattergeo": [
           {
            "marker": {
             "colorbar": {
              "outlinewidth": 0,
              "ticks": ""
             }
            },
            "type": "scattergeo"
           }
          ],
          "scattergl": [
           {
            "marker": {
             "colorbar": {
              "outlinewidth": 0,
              "ticks": ""
             }
            },
            "type": "scattergl"
           }
          ],
          "scattermapbox": [
           {
            "marker": {
             "colorbar": {
              "outlinewidth": 0,
              "ticks": ""
             }
            },
            "type": "scattermapbox"
           }
          ],
          "scatterpolar": [
           {
            "marker": {
             "colorbar": {
              "outlinewidth": 0,
              "ticks": ""
             }
            },
            "type": "scatterpolar"
           }
          ],
          "scatterpolargl": [
           {
            "marker": {
             "colorbar": {
              "outlinewidth": 0,
              "ticks": ""
             }
            },
            "type": "scatterpolargl"
           }
          ],
          "scatterternary": [
           {
            "marker": {
             "colorbar": {
              "outlinewidth": 0,
              "ticks": ""
             }
            },
            "type": "scatterternary"
           }
          ],
          "surface": [
           {
            "colorbar": {
             "outlinewidth": 0,
             "ticks": ""
            },
            "colorscale": [
             [
              0,
              "#0d0887"
             ],
             [
              0.1111111111111111,
              "#46039f"
             ],
             [
              0.2222222222222222,
              "#7201a8"
             ],
             [
              0.3333333333333333,
              "#9c179e"
             ],
             [
              0.4444444444444444,
              "#bd3786"
             ],
             [
              0.5555555555555556,
              "#d8576b"
             ],
             [
              0.6666666666666666,
              "#ed7953"
             ],
             [
              0.7777777777777778,
              "#fb9f3a"
             ],
             [
              0.8888888888888888,
              "#fdca26"
             ],
             [
              1,
              "#f0f921"
             ]
            ],
            "type": "surface"
           }
          ],
          "table": [
           {
            "cells": {
             "fill": {
              "color": "#EBF0F8"
             },
             "line": {
              "color": "white"
             }
            },
            "header": {
             "fill": {
              "color": "#C8D4E3"
             },
             "line": {
              "color": "white"
             }
            },
            "type": "table"
           }
          ]
         },
         "layout": {
          "annotationdefaults": {
           "arrowcolor": "#2a3f5f",
           "arrowhead": 0,
           "arrowwidth": 1
          },
          "autotypenumbers": "strict",
          "coloraxis": {
           "colorbar": {
            "outlinewidth": 0,
            "ticks": ""
           }
          },
          "colorscale": {
           "diverging": [
            [
             0,
             "#8e0152"
            ],
            [
             0.1,
             "#c51b7d"
            ],
            [
             0.2,
             "#de77ae"
            ],
            [
             0.3,
             "#f1b6da"
            ],
            [
             0.4,
             "#fde0ef"
            ],
            [
             0.5,
             "#f7f7f7"
            ],
            [
             0.6,
             "#e6f5d0"
            ],
            [
             0.7,
             "#b8e186"
            ],
            [
             0.8,
             "#7fbc41"
            ],
            [
             0.9,
             "#4d9221"
            ],
            [
             1,
             "#276419"
            ]
           ],
           "sequential": [
            [
             0,
             "#0d0887"
            ],
            [
             0.1111111111111111,
             "#46039f"
            ],
            [
             0.2222222222222222,
             "#7201a8"
            ],
            [
             0.3333333333333333,
             "#9c179e"
            ],
            [
             0.4444444444444444,
             "#bd3786"
            ],
            [
             0.5555555555555556,
             "#d8576b"
            ],
            [
             0.6666666666666666,
             "#ed7953"
            ],
            [
             0.7777777777777778,
             "#fb9f3a"
            ],
            [
             0.8888888888888888,
             "#fdca26"
            ],
            [
             1,
             "#f0f921"
            ]
           ],
           "sequentialminus": [
            [
             0,
             "#0d0887"
            ],
            [
             0.1111111111111111,
             "#46039f"
            ],
            [
             0.2222222222222222,
             "#7201a8"
            ],
            [
             0.3333333333333333,
             "#9c179e"
            ],
            [
             0.4444444444444444,
             "#bd3786"
            ],
            [
             0.5555555555555556,
             "#d8576b"
            ],
            [
             0.6666666666666666,
             "#ed7953"
            ],
            [
             0.7777777777777778,
             "#fb9f3a"
            ],
            [
             0.8888888888888888,
             "#fdca26"
            ],
            [
             1,
             "#f0f921"
            ]
           ]
          },
          "colorway": [
           "#636efa",
           "#EF553B",
           "#00cc96",
           "#ab63fa",
           "#FFA15A",
           "#19d3f3",
           "#FF6692",
           "#B6E880",
           "#FF97FF",
           "#FECB52"
          ],
          "font": {
           "color": "#2a3f5f"
          },
          "geo": {
           "bgcolor": "white",
           "lakecolor": "white",
           "landcolor": "#E5ECF6",
           "showlakes": true,
           "showland": true,
           "subunitcolor": "white"
          },
          "hoverlabel": {
           "align": "left"
          },
          "hovermode": "closest",
          "mapbox": {
           "style": "light"
          },
          "paper_bgcolor": "white",
          "plot_bgcolor": "#E5ECF6",
          "polar": {
           "angularaxis": {
            "gridcolor": "white",
            "linecolor": "white",
            "ticks": ""
           },
           "bgcolor": "#E5ECF6",
           "radialaxis": {
            "gridcolor": "white",
            "linecolor": "white",
            "ticks": ""
           }
          },
          "scene": {
           "xaxis": {
            "backgroundcolor": "#E5ECF6",
            "gridcolor": "white",
            "gridwidth": 2,
            "linecolor": "white",
            "showbackground": true,
            "ticks": "",
            "zerolinecolor": "white"
           },
           "yaxis": {
            "backgroundcolor": "#E5ECF6",
            "gridcolor": "white",
            "gridwidth": 2,
            "linecolor": "white",
            "showbackground": true,
            "ticks": "",
            "zerolinecolor": "white"
           },
           "zaxis": {
            "backgroundcolor": "#E5ECF6",
            "gridcolor": "white",
            "gridwidth": 2,
            "linecolor": "white",
            "showbackground": true,
            "ticks": "",
            "zerolinecolor": "white"
           }
          },
          "shapedefaults": {
           "line": {
            "color": "#2a3f5f"
           }
          },
          "ternary": {
           "aaxis": {
            "gridcolor": "white",
            "linecolor": "white",
            "ticks": ""
           },
           "baxis": {
            "gridcolor": "white",
            "linecolor": "white",
            "ticks": ""
           },
           "bgcolor": "#E5ECF6",
           "caxis": {
            "gridcolor": "white",
            "linecolor": "white",
            "ticks": ""
           }
          },
          "title": {
           "x": 0.05
          },
          "xaxis": {
           "automargin": true,
           "gridcolor": "white",
           "linecolor": "white",
           "ticks": "",
           "title": {
            "standoff": 15
           },
           "zerolinecolor": "white",
           "zerolinewidth": 2
          },
          "yaxis": {
           "automargin": true,
           "gridcolor": "white",
           "linecolor": "white",
           "ticks": "",
           "title": {
            "standoff": 15
           },
           "zerolinecolor": "white",
           "zerolinewidth": 2
          }
         }
        },
        "width": 900,
        "xaxis": {
         "gridcolor": "#1f292f",
         "nticks": 5,
         "rangeslider": {
          "visible": false
         },
         "type": "category"
        },
        "yaxis": {
         "gridcolor": "#1f292f"
        }
       }
      }
     },
     "metadata": {},
     "output_type": "display_data"
    },
    {
     "name": "stdout",
     "output_type": "stream",
     "text": [
      "EUR_JPY 1519\n"
     ]
    },
    {
     "data": {
      "application/vnd.plotly.v1+json": {
       "config": {
        "plotlyServerURL": "https://plot.ly"
       },
       "data": [
        {
         "line": {
          "shape": "spline",
          "width": 2
         },
         "name": "Gain_C",
         "type": "scatter",
         "x": [
          "2023-06-01T12:00:00+00:00",
          "2023-06-05T18:00:00+00:00",
          "2023-06-07T15:00:00+00:00",
          "2023-06-09T20:00:00+00:00",
          "2023-06-12T11:00:00+00:00",
          "2023-06-20T06:00:00+00:00",
          "2023-06-21T08:00:00+00:00",
          "2023-06-23T10:00:00+00:00",
          "2023-06-23T20:00:00+00:00",
          "2023-06-26T08:00:00+00:00",
          "2023-06-26T16:00:00+00:00",
          "2023-06-28T21:00:00+00:00",
          "2023-06-30T18:00:00+00:00",
          "2023-07-04T08:00:00+00:00",
          "2023-07-06T21:00:00+00:00",
          "2023-07-07T06:00:00+00:00",
          "2023-07-10T10:00:00+00:00",
          "2023-07-10T11:00:00+00:00",
          "2023-07-13T02:00:00+00:00",
          "2023-07-18T09:00:00+00:00",
          "2023-07-18T21:00:00+00:00",
          "2023-07-20T08:00:00+00:00",
          "2023-07-21T08:00:00+00:00",
          "2023-07-24T11:00:00+00:00",
          "2023-07-27T11:00:00+00:00",
          "2023-07-27T17:00:00+00:00",
          "2023-07-28T18:00:00+00:00",
          "2023-08-02T10:00:00+00:00",
          "2023-08-04T16:00:00+00:00",
          "2023-08-07T02:00:00+00:00",
          "2023-08-07T10:00:00+00:00",
          "2023-08-11T18:00:00+00:00",
          "2023-08-14T23:00:00+00:00",
          "2023-08-16T00:00:00+00:00",
          "2023-08-16T12:00:00+00:00",
          "2023-08-17T16:00:00+00:00",
          "2023-08-21T08:00:00+00:00",
          "2023-08-22T14:00:00+00:00",
          "2023-08-24T09:00:00+00:00",
          "2023-08-25T07:00:00+00:00",
          "2023-08-25T16:00:00+00:00",
          "2023-08-31T10:00:00+00:00",
          "2023-09-04T08:00:00+00:00",
          "2023-09-06T07:00:00+00:00",
          "2023-09-06T20:00:00+00:00",
          "2023-09-07T08:00:00+00:00",
          "2023-09-08T14:00:00+00:00",
          "2023-09-11T03:00:00+00:00",
          "2023-09-12T03:00:00+00:00",
          "2023-09-14T03:00:00+00:00",
          "2023-09-15T14:00:00+00:00",
          "2023-09-21T02:00:00+00:00",
          "2023-09-22T08:00:00+00:00",
          "2023-09-25T16:00:00+00:00",
          "2023-09-28T15:00:00+00:00",
          "2023-10-02T13:00:00+00:00",
          "2023-10-04T17:00:00+00:00",
          "2023-10-09T11:00:00+00:00",
          "2023-10-10T09:00:00+00:00",
          "2023-10-12T17:00:00+00:00",
          "2023-10-16T14:00:00+00:00",
          "2023-10-18T16:00:00+00:00",
          "2023-10-19T14:00:00+00:00",
          "2023-10-24T15:00:00+00:00",
          "2023-10-26T21:00:00+00:00",
          "2023-10-27T09:00:00+00:00",
          "2023-10-30T16:00:00+00:00",
          "2023-10-30T23:00:00+00:00",
          "2023-10-31T00:00:00+00:00",
          "2023-11-01T12:00:00+00:00",
          "2023-11-02T13:00:00+00:00",
          "2023-11-07T16:00:00+00:00",
          "2023-11-07T21:00:00+00:00",
          "2023-11-10T02:00:00+00:00",
          "2023-11-10T12:00:00+00:00",
          "2023-11-16T17:00:00+00:00",
          "2023-11-22T06:00:00+00:00",
          "2023-11-27T09:00:00+00:00",
          "2023-12-01T07:00:00+00:00",
          "2023-12-01T08:00:00+00:00",
          "2023-12-01T09:00:00+00:00",
          "2023-12-01T14:00:00+00:00",
          "2023-12-08T21:00:00+00:00",
          "2023-12-12T08:00:00+00:00",
          "2023-12-13T06:00:00+00:00",
          "2023-12-13T17:00:00+00:00",
          "2023-12-14T22:00:00+00:00",
          "2023-12-15T16:00:00+00:00",
          "2023-12-18T12:00:00+00:00",
          "2023-12-20T11:00:00+00:00",
          "2023-12-22T15:00:00+00:00",
          "2023-12-28T03:00:00+00:00",
          "2024-01-03T09:00:00+00:00",
          "2024-01-08T00:00:00+00:00",
          "2024-01-09T23:00:00+00:00",
          "2024-01-12T01:00:00+00:00"
         ],
         "y": [
          62.000000000000455,
          41.600000000002524,
          41.80000000000348,
          19.90000000000407,
          522.3000000000042,
          513.6000000000053,
          571.4000000000055,
          486.4000000000033,
          422.70000000000323,
          352.6000000000039,
          449.6000000000038,
          463.90000000000384,
          451.1000000000024,
          499.0000000000009,
          421.6000000000008,
          416.5999999999997,
          374.199999999999,
          503.3999999999992,
          608.6999999999989,
          565.3999999999996,
          607.8000000000003,
          446.0000000000008,
          300.4000000000019,
          339.4000000000034,
          71.2000000000046,
          -131.59999999999457,
          -3.1999999999953843,
          17.4000000000035,
          -10.399999999995657,
          -7.299999999995066,
          247.10000000000605,
          257.2000000000088,
          267.1000000000106,
          238.40000000000998,
          231.9000000000102,
          269.5000000000107,
          239.20000000001096,
          290.30000000001337,
          245.50000000001546,
          176.9000000000176,
          242.9000000000201,
          298.2000000000198,
          298.6000000000189,
          269.80000000002065,
          222.20000000002074,
          195.00000000001876,
          79.60000000001912,
          21.70000000002119,
          63.600000000022305,
          98.80000000002269,
          86.80000000002224,
          56.70000000002062,
          30.800000000019168,
          14.000000000018531,
          -7.199999999980378,
          94.00000000001967,
          141.30000000001814,
          61.60000000001844,
          58.80000000001928,
          52.800000000019054,
          52.800000000019054,
          -5.899999999979855,
          23.200000000019827,
          15.200000000018576,
          -18.799999999981765,
          22.500000000019327,
          41.000000000019554,
          10.800000000017462,
          89.80000000001667,
          27.50000000001762,
          110.70000000001698,
          96.60000000001503,
          146.40000000001407,
          118.200000000013,
          291.200000000012,
          400.2000000000123,
          509.0000000000117,
          696.8000000000103,
          647.0000000000113,
          641.0000000000139,
          588.0000000000166,
          1046.5000000000173,
          1144.0000000000168,
          1112.0000000000175,
          1036.6000000000186,
          1092.7000000000194,
          957.2000000000204,
          837.4000000000196,
          934.6000000000176,
          944.000000000017,
          985.0000000000167,
          1098.500000000016,
          1330.0000000000157,
          1371.4000000000174,
          1519.6000000000172,
          1519.6000000000172
         ]
        }
       ],
       "layout": {
        "font": {
         "color": "#e1e1e1",
         "size": 8
        },
        "height": 400,
        "margin": {
         "b": 10,
         "l": 10,
         "r": 10,
         "t": 10
        },
        "paper_bgcolor": "#2c303c",
        "plot_bgcolor": "#2c303c",
        "template": {
         "data": {
          "bar": [
           {
            "error_x": {
             "color": "#2a3f5f"
            },
            "error_y": {
             "color": "#2a3f5f"
            },
            "marker": {
             "line": {
              "color": "#E5ECF6",
              "width": 0.5
             },
             "pattern": {
              "fillmode": "overlay",
              "size": 10,
              "solidity": 0.2
             }
            },
            "type": "bar"
           }
          ],
          "barpolar": [
           {
            "marker": {
             "line": {
              "color": "#E5ECF6",
              "width": 0.5
             },
             "pattern": {
              "fillmode": "overlay",
              "size": 10,
              "solidity": 0.2
             }
            },
            "type": "barpolar"
           }
          ],
          "carpet": [
           {
            "aaxis": {
             "endlinecolor": "#2a3f5f",
             "gridcolor": "white",
             "linecolor": "white",
             "minorgridcolor": "white",
             "startlinecolor": "#2a3f5f"
            },
            "baxis": {
             "endlinecolor": "#2a3f5f",
             "gridcolor": "white",
             "linecolor": "white",
             "minorgridcolor": "white",
             "startlinecolor": "#2a3f5f"
            },
            "type": "carpet"
           }
          ],
          "choropleth": [
           {
            "colorbar": {
             "outlinewidth": 0,
             "ticks": ""
            },
            "type": "choropleth"
           }
          ],
          "contour": [
           {
            "colorbar": {
             "outlinewidth": 0,
             "ticks": ""
            },
            "colorscale": [
             [
              0,
              "#0d0887"
             ],
             [
              0.1111111111111111,
              "#46039f"
             ],
             [
              0.2222222222222222,
              "#7201a8"
             ],
             [
              0.3333333333333333,
              "#9c179e"
             ],
             [
              0.4444444444444444,
              "#bd3786"
             ],
             [
              0.5555555555555556,
              "#d8576b"
             ],
             [
              0.6666666666666666,
              "#ed7953"
             ],
             [
              0.7777777777777778,
              "#fb9f3a"
             ],
             [
              0.8888888888888888,
              "#fdca26"
             ],
             [
              1,
              "#f0f921"
             ]
            ],
            "type": "contour"
           }
          ],
          "contourcarpet": [
           {
            "colorbar": {
             "outlinewidth": 0,
             "ticks": ""
            },
            "type": "contourcarpet"
           }
          ],
          "heatmap": [
           {
            "colorbar": {
             "outlinewidth": 0,
             "ticks": ""
            },
            "colorscale": [
             [
              0,
              "#0d0887"
             ],
             [
              0.1111111111111111,
              "#46039f"
             ],
             [
              0.2222222222222222,
              "#7201a8"
             ],
             [
              0.3333333333333333,
              "#9c179e"
             ],
             [
              0.4444444444444444,
              "#bd3786"
             ],
             [
              0.5555555555555556,
              "#d8576b"
             ],
             [
              0.6666666666666666,
              "#ed7953"
             ],
             [
              0.7777777777777778,
              "#fb9f3a"
             ],
             [
              0.8888888888888888,
              "#fdca26"
             ],
             [
              1,
              "#f0f921"
             ]
            ],
            "type": "heatmap"
           }
          ],
          "heatmapgl": [
           {
            "colorbar": {
             "outlinewidth": 0,
             "ticks": ""
            },
            "colorscale": [
             [
              0,
              "#0d0887"
             ],
             [
              0.1111111111111111,
              "#46039f"
             ],
             [
              0.2222222222222222,
              "#7201a8"
             ],
             [
              0.3333333333333333,
              "#9c179e"
             ],
             [
              0.4444444444444444,
              "#bd3786"
             ],
             [
              0.5555555555555556,
              "#d8576b"
             ],
             [
              0.6666666666666666,
              "#ed7953"
             ],
             [
              0.7777777777777778,
              "#fb9f3a"
             ],
             [
              0.8888888888888888,
              "#fdca26"
             ],
             [
              1,
              "#f0f921"
             ]
            ],
            "type": "heatmapgl"
           }
          ],
          "histogram": [
           {
            "marker": {
             "pattern": {
              "fillmode": "overlay",
              "size": 10,
              "solidity": 0.2
             }
            },
            "type": "histogram"
           }
          ],
          "histogram2d": [
           {
            "colorbar": {
             "outlinewidth": 0,
             "ticks": ""
            },
            "colorscale": [
             [
              0,
              "#0d0887"
             ],
             [
              0.1111111111111111,
              "#46039f"
             ],
             [
              0.2222222222222222,
              "#7201a8"
             ],
             [
              0.3333333333333333,
              "#9c179e"
             ],
             [
              0.4444444444444444,
              "#bd3786"
             ],
             [
              0.5555555555555556,
              "#d8576b"
             ],
             [
              0.6666666666666666,
              "#ed7953"
             ],
             [
              0.7777777777777778,
              "#fb9f3a"
             ],
             [
              0.8888888888888888,
              "#fdca26"
             ],
             [
              1,
              "#f0f921"
             ]
            ],
            "type": "histogram2d"
           }
          ],
          "histogram2dcontour": [
           {
            "colorbar": {
             "outlinewidth": 0,
             "ticks": ""
            },
            "colorscale": [
             [
              0,
              "#0d0887"
             ],
             [
              0.1111111111111111,
              "#46039f"
             ],
             [
              0.2222222222222222,
              "#7201a8"
             ],
             [
              0.3333333333333333,
              "#9c179e"
             ],
             [
              0.4444444444444444,
              "#bd3786"
             ],
             [
              0.5555555555555556,
              "#d8576b"
             ],
             [
              0.6666666666666666,
              "#ed7953"
             ],
             [
              0.7777777777777778,
              "#fb9f3a"
             ],
             [
              0.8888888888888888,
              "#fdca26"
             ],
             [
              1,
              "#f0f921"
             ]
            ],
            "type": "histogram2dcontour"
           }
          ],
          "mesh3d": [
           {
            "colorbar": {
             "outlinewidth": 0,
             "ticks": ""
            },
            "type": "mesh3d"
           }
          ],
          "parcoords": [
           {
            "line": {
             "colorbar": {
              "outlinewidth": 0,
              "ticks": ""
             }
            },
            "type": "parcoords"
           }
          ],
          "pie": [
           {
            "automargin": true,
            "type": "pie"
           }
          ],
          "scatter": [
           {
            "fillpattern": {
             "fillmode": "overlay",
             "size": 10,
             "solidity": 0.2
            },
            "type": "scatter"
           }
          ],
          "scatter3d": [
           {
            "line": {
             "colorbar": {
              "outlinewidth": 0,
              "ticks": ""
             }
            },
            "marker": {
             "colorbar": {
              "outlinewidth": 0,
              "ticks": ""
             }
            },
            "type": "scatter3d"
           }
          ],
          "scattercarpet": [
           {
            "marker": {
             "colorbar": {
              "outlinewidth": 0,
              "ticks": ""
             }
            },
            "type": "scattercarpet"
           }
          ],
          "scattergeo": [
           {
            "marker": {
             "colorbar": {
              "outlinewidth": 0,
              "ticks": ""
             }
            },
            "type": "scattergeo"
           }
          ],
          "scattergl": [
           {
            "marker": {
             "colorbar": {
              "outlinewidth": 0,
              "ticks": ""
             }
            },
            "type": "scattergl"
           }
          ],
          "scattermapbox": [
           {
            "marker": {
             "colorbar": {
              "outlinewidth": 0,
              "ticks": ""
             }
            },
            "type": "scattermapbox"
           }
          ],
          "scatterpolar": [
           {
            "marker": {
             "colorbar": {
              "outlinewidth": 0,
              "ticks": ""
             }
            },
            "type": "scatterpolar"
           }
          ],
          "scatterpolargl": [
           {
            "marker": {
             "colorbar": {
              "outlinewidth": 0,
              "ticks": ""
             }
            },
            "type": "scatterpolargl"
           }
          ],
          "scatterternary": [
           {
            "marker": {
             "colorbar": {
              "outlinewidth": 0,
              "ticks": ""
             }
            },
            "type": "scatterternary"
           }
          ],
          "surface": [
           {
            "colorbar": {
             "outlinewidth": 0,
             "ticks": ""
            },
            "colorscale": [
             [
              0,
              "#0d0887"
             ],
             [
              0.1111111111111111,
              "#46039f"
             ],
             [
              0.2222222222222222,
              "#7201a8"
             ],
             [
              0.3333333333333333,
              "#9c179e"
             ],
             [
              0.4444444444444444,
              "#bd3786"
             ],
             [
              0.5555555555555556,
              "#d8576b"
             ],
             [
              0.6666666666666666,
              "#ed7953"
             ],
             [
              0.7777777777777778,
              "#fb9f3a"
             ],
             [
              0.8888888888888888,
              "#fdca26"
             ],
             [
              1,
              "#f0f921"
             ]
            ],
            "type": "surface"
           }
          ],
          "table": [
           {
            "cells": {
             "fill": {
              "color": "#EBF0F8"
             },
             "line": {
              "color": "white"
             }
            },
            "header": {
             "fill": {
              "color": "#C8D4E3"
             },
             "line": {
              "color": "white"
             }
            },
            "type": "table"
           }
          ]
         },
         "layout": {
          "annotationdefaults": {
           "arrowcolor": "#2a3f5f",
           "arrowhead": 0,
           "arrowwidth": 1
          },
          "autotypenumbers": "strict",
          "coloraxis": {
           "colorbar": {
            "outlinewidth": 0,
            "ticks": ""
           }
          },
          "colorscale": {
           "diverging": [
            [
             0,
             "#8e0152"
            ],
            [
             0.1,
             "#c51b7d"
            ],
            [
             0.2,
             "#de77ae"
            ],
            [
             0.3,
             "#f1b6da"
            ],
            [
             0.4,
             "#fde0ef"
            ],
            [
             0.5,
             "#f7f7f7"
            ],
            [
             0.6,
             "#e6f5d0"
            ],
            [
             0.7,
             "#b8e186"
            ],
            [
             0.8,
             "#7fbc41"
            ],
            [
             0.9,
             "#4d9221"
            ],
            [
             1,
             "#276419"
            ]
           ],
           "sequential": [
            [
             0,
             "#0d0887"
            ],
            [
             0.1111111111111111,
             "#46039f"
            ],
            [
             0.2222222222222222,
             "#7201a8"
            ],
            [
             0.3333333333333333,
             "#9c179e"
            ],
            [
             0.4444444444444444,
             "#bd3786"
            ],
            [
             0.5555555555555556,
             "#d8576b"
            ],
            [
             0.6666666666666666,
             "#ed7953"
            ],
            [
             0.7777777777777778,
             "#fb9f3a"
            ],
            [
             0.8888888888888888,
             "#fdca26"
            ],
            [
             1,
             "#f0f921"
            ]
           ],
           "sequentialminus": [
            [
             0,
             "#0d0887"
            ],
            [
             0.1111111111111111,
             "#46039f"
            ],
            [
             0.2222222222222222,
             "#7201a8"
            ],
            [
             0.3333333333333333,
             "#9c179e"
            ],
            [
             0.4444444444444444,
             "#bd3786"
            ],
            [
             0.5555555555555556,
             "#d8576b"
            ],
            [
             0.6666666666666666,
             "#ed7953"
            ],
            [
             0.7777777777777778,
             "#fb9f3a"
            ],
            [
             0.8888888888888888,
             "#fdca26"
            ],
            [
             1,
             "#f0f921"
            ]
           ]
          },
          "colorway": [
           "#636efa",
           "#EF553B",
           "#00cc96",
           "#ab63fa",
           "#FFA15A",
           "#19d3f3",
           "#FF6692",
           "#B6E880",
           "#FF97FF",
           "#FECB52"
          ],
          "font": {
           "color": "#2a3f5f"
          },
          "geo": {
           "bgcolor": "white",
           "lakecolor": "white",
           "landcolor": "#E5ECF6",
           "showlakes": true,
           "showland": true,
           "subunitcolor": "white"
          },
          "hoverlabel": {
           "align": "left"
          },
          "hovermode": "closest",
          "mapbox": {
           "style": "light"
          },
          "paper_bgcolor": "white",
          "plot_bgcolor": "#E5ECF6",
          "polar": {
           "angularaxis": {
            "gridcolor": "white",
            "linecolor": "white",
            "ticks": ""
           },
           "bgcolor": "#E5ECF6",
           "radialaxis": {
            "gridcolor": "white",
            "linecolor": "white",
            "ticks": ""
           }
          },
          "scene": {
           "xaxis": {
            "backgroundcolor": "#E5ECF6",
            "gridcolor": "white",
            "gridwidth": 2,
            "linecolor": "white",
            "showbackground": true,
            "ticks": "",
            "zerolinecolor": "white"
           },
           "yaxis": {
            "backgroundcolor": "#E5ECF6",
            "gridcolor": "white",
            "gridwidth": 2,
            "linecolor": "white",
            "showbackground": true,
            "ticks": "",
            "zerolinecolor": "white"
           },
           "zaxis": {
            "backgroundcolor": "#E5ECF6",
            "gridcolor": "white",
            "gridwidth": 2,
            "linecolor": "white",
            "showbackground": true,
            "ticks": "",
            "zerolinecolor": "white"
           }
          },
          "shapedefaults": {
           "line": {
            "color": "#2a3f5f"
           }
          },
          "ternary": {
           "aaxis": {
            "gridcolor": "white",
            "linecolor": "white",
            "ticks": ""
           },
           "baxis": {
            "gridcolor": "white",
            "linecolor": "white",
            "ticks": ""
           },
           "bgcolor": "#E5ECF6",
           "caxis": {
            "gridcolor": "white",
            "linecolor": "white",
            "ticks": ""
           }
          },
          "title": {
           "x": 0.05
          },
          "xaxis": {
           "automargin": true,
           "gridcolor": "white",
           "linecolor": "white",
           "ticks": "",
           "title": {
            "standoff": 15
           },
           "zerolinecolor": "white",
           "zerolinewidth": 2
          },
          "yaxis": {
           "automargin": true,
           "gridcolor": "white",
           "linecolor": "white",
           "ticks": "",
           "title": {
            "standoff": 15
           },
           "zerolinecolor": "white",
           "zerolinewidth": 2
          }
         }
        },
        "width": 900,
        "xaxis": {
         "gridcolor": "#1f292f",
         "nticks": 5,
         "rangeslider": {
          "visible": false
         },
         "type": "category"
        },
        "yaxis": {
         "gridcolor": "#1f292f"
        }
       }
      }
     },
     "metadata": {},
     "output_type": "display_data"
    },
    {
     "name": "stdout",
     "output_type": "stream",
     "text": [
      "AUD_JPY 1415\n"
     ]
    },
    {
     "data": {
      "application/vnd.plotly.v1+json": {
       "config": {
        "plotlyServerURL": "https://plot.ly"
       },
       "data": [
        {
         "line": {
          "shape": "spline",
          "width": 2
         },
         "name": "Gain_C",
         "type": "scatter",
         "x": [
          "2023-06-01T08:00:00+00:00",
          "2023-06-05T23:00:00+00:00",
          "2023-06-06T06:00:00+00:00",
          "2023-06-08T22:00:00+00:00",
          "2023-06-09T01:00:00+00:00",
          "2023-06-19T18:00:00+00:00",
          "2023-06-21T17:00:00+00:00",
          "2023-06-23T05:00:00+00:00",
          "2023-06-26T22:00:00+00:00",
          "2023-06-28T03:00:00+00:00",
          "2023-06-29T12:00:00+00:00",
          "2023-07-05T09:00:00+00:00",
          "2023-07-12T18:00:00+00:00",
          "2023-07-16T22:00:00+00:00",
          "2023-07-18T20:00:00+00:00",
          "2023-07-19T23:00:00+00:00",
          "2023-07-20T00:00:00+00:00",
          "2023-07-21T04:00:00+00:00",
          "2023-07-21T07:00:00+00:00",
          "2023-07-24T10:00:00+00:00",
          "2023-07-24T23:00:00+00:00",
          "2023-07-26T05:00:00+00:00",
          "2023-07-27T09:00:00+00:00",
          "2023-07-27T18:00:00+00:00",
          "2023-07-30T23:00:00+00:00",
          "2023-08-01T11:00:00+00:00",
          "2023-08-04T05:00:00+00:00",
          "2023-08-04T19:00:00+00:00",
          "2023-08-07T11:00:00+00:00",
          "2023-08-07T12:00:00+00:00",
          "2023-08-07T17:00:00+00:00",
          "2023-08-08T11:00:00+00:00",
          "2023-08-08T22:00:00+00:00",
          "2023-08-11T13:00:00+00:00",
          "2023-08-14T16:00:00+00:00",
          "2023-08-15T16:00:00+00:00",
          "2023-08-21T10:00:00+00:00",
          "2023-08-22T22:00:00+00:00",
          "2023-08-23T05:00:00+00:00",
          "2023-08-23T06:00:00+00:00",
          "2023-08-23T23:00:00+00:00",
          "2023-08-24T21:00:00+00:00",
          "2023-08-25T18:00:00+00:00",
          "2023-08-31T08:00:00+00:00",
          "2023-09-03T23:00:00+00:00",
          "2023-09-05T05:00:00+00:00",
          "2023-09-06T12:00:00+00:00",
          "2023-09-07T05:00:00+00:00",
          "2023-09-08T08:00:00+00:00",
          "2023-09-11T04:00:00+00:00",
          "2023-09-11T10:00:00+00:00",
          "2023-09-18T02:00:00+00:00",
          "2023-09-19T08:00:00+00:00",
          "2023-09-21T02:00:00+00:00",
          "2023-09-22T08:00:00+00:00",
          "2023-09-26T10:00:00+00:00",
          "2023-09-28T09:00:00+00:00",
          "2023-10-02T02:00:00+00:00",
          "2023-10-04T19:00:00+00:00",
          "2023-10-09T10:00:00+00:00",
          "2023-10-09T18:00:00+00:00",
          "2023-10-12T13:00:00+00:00",
          "2023-10-16T08:00:00+00:00",
          "2023-10-18T17:00:00+00:00",
          "2023-10-20T00:00:00+00:00",
          "2023-10-20T03:00:00+00:00",
          "2023-10-20T14:00:00+00:00",
          "2023-10-22T21:00:00+00:00",
          "2023-10-23T16:00:00+00:00",
          "2023-10-25T13:00:00+00:00",
          "2023-10-26T17:00:00+00:00",
          "2023-10-27T19:00:00+00:00",
          "2023-10-30T09:00:00+00:00",
          "2023-10-30T22:00:00+00:00",
          "2023-10-31T04:00:00+00:00",
          "2023-11-07T03:00:00+00:00",
          "2023-11-08T09:00:00+00:00",
          "2023-11-08T22:00:00+00:00",
          "2023-11-09T17:00:00+00:00",
          "2023-11-09T19:00:00+00:00",
          "2023-11-13T04:00:00+00:00",
          "2023-11-14T12:00:00+00:00",
          "2023-11-14T13:00:00+00:00",
          "2023-11-16T08:00:00+00:00",
          "2023-11-20T01:00:00+00:00",
          "2023-11-20T14:00:00+00:00",
          "2023-11-21T23:00:00+00:00",
          "2023-11-27T06:00:00+00:00",
          "2023-11-27T13:00:00+00:00",
          "2023-11-27T19:00:00+00:00",
          "2023-11-28T14:00:00+00:00",
          "2023-11-28T19:00:00+00:00",
          "2023-11-30T18:00:00+00:00",
          "2023-12-04T03:00:00+00:00",
          "2023-12-06T08:00:00+00:00",
          "2023-12-06T22:00:00+00:00",
          "2023-12-08T17:00:00+00:00",
          "2023-12-12T13:00:00+00:00",
          "2023-12-15T04:00:00+00:00",
          "2023-12-15T14:00:00+00:00",
          "2023-12-15T15:00:00+00:00",
          "2023-12-20T18:00:00+00:00",
          "2023-12-22T13:00:00+00:00",
          "2023-12-27T23:00:00+00:00",
          "2023-12-29T09:00:00+00:00",
          "2023-12-29T10:00:00+00:00",
          "2024-01-02T09:00:00+00:00",
          "2024-01-02T16:00:00+00:00",
          "2024-01-03T16:00:00+00:00",
          "2024-01-08T04:00:00+00:00",
          "2024-01-10T01:00:00+00:00",
          "2024-01-11T18:00:00+00:00"
         ],
         "y": [
          126.39999999999958,
          53.79999999999967,
          86.7999999999995,
          73.99999999999949,
          456.7999999999998,
          539.7999999999996,
          503.60000000000014,
          529.100000000001,
          521.6000000000022,
          518.6000000000035,
          574.4000000000042,
          806.3000000000045,
          890.8000000000044,
          914.4000000000049,
          911.2000000000053,
          902.6000000000054,
          939.6000000000058,
          885.8000000000061,
          856.3000000000059,
          850.8000000000052,
          853.3000000000058,
          860.4000000000069,
          678.8000000000081,
          647.1000000000088,
          750.400000000009,
          867.2000000000096,
          815.80000000001,
          779.6000000000105,
          779.1000000000109,
          759.4000000000107,
          701.80000000001,
          632.0000000000092,
          675.400000000009,
          660.2000000000089,
          641.0000000000095,
          710.9000000000108,
          732.2000000000116,
          717.8000000000125,
          701.6000000000133,
          690.9000000000134,
          675.2000000000137,
          643.2000000000144,
          696.8000000000145,
          719.2000000000148,
          694.0000000000152,
          684.9000000000158,
          690.0000000000159,
          678.0000000000155,
          664.0000000000155,
          631.6000000000156,
          698.5000000000152,
          680.2000000000146,
          651.800000000014,
          605.4000000000142,
          595.2000000000153,
          598.8000000000154,
          674.6000000000149,
          849.7000000000154,
          899.8000000000159,
          863.9000000000165,
          848.6000000000173,
          894.6000000000181,
          948.4000000000192,
          998.3000000000202,
          1006.4000000000206,
          1002.6000000000208,
          992.200000000021,
          960.2000000000203,
          958.0000000000198,
          939.5000000000196,
          904.0000000000191,
          849.4000000000185,
          811.0000000000184,
          777.200000000019,
          953.8000000000195,
          973.1000000000192,
          949.2000000000188,
          921.2000000000187,
          871.0000000000191,
          858.2000000000191,
          871.2000000000187,
          807.4000000000182,
          910.9000000000178,
          992.3000000000186,
          956.6000000000187,
          954.2000000000186,
          1048.0000000000189,
          1034.4000000000192,
          1031.2000000000196,
          1028.8000000000195,
          1013.2000000000189,
          1031.0000000000186,
          1009.9000000000187,
          1095.3000000000186,
          1055.500000000019,
          1176.3000000000188,
          1207.9000000000192,
          1241.40000000002,
          1212.400000000021,
          1177.7000000000216,
          1381.7000000000223,
          1434.800000000023,
          1451.5000000000232,
          1488.5000000000236,
          1472.800000000024,
          1457.0000000000239,
          1407.700000000023,
          1368.800000000022,
          1399.4000000000217,
          1380.6000000000215,
          1415.2000000000219,
          1415.2000000000219
         ]
        }
       ],
       "layout": {
        "font": {
         "color": "#e1e1e1",
         "size": 8
        },
        "height": 400,
        "margin": {
         "b": 10,
         "l": 10,
         "r": 10,
         "t": 10
        },
        "paper_bgcolor": "#2c303c",
        "plot_bgcolor": "#2c303c",
        "template": {
         "data": {
          "bar": [
           {
            "error_x": {
             "color": "#2a3f5f"
            },
            "error_y": {
             "color": "#2a3f5f"
            },
            "marker": {
             "line": {
              "color": "#E5ECF6",
              "width": 0.5
             },
             "pattern": {
              "fillmode": "overlay",
              "size": 10,
              "solidity": 0.2
             }
            },
            "type": "bar"
           }
          ],
          "barpolar": [
           {
            "marker": {
             "line": {
              "color": "#E5ECF6",
              "width": 0.5
             },
             "pattern": {
              "fillmode": "overlay",
              "size": 10,
              "solidity": 0.2
             }
            },
            "type": "barpolar"
           }
          ],
          "carpet": [
           {
            "aaxis": {
             "endlinecolor": "#2a3f5f",
             "gridcolor": "white",
             "linecolor": "white",
             "minorgridcolor": "white",
             "startlinecolor": "#2a3f5f"
            },
            "baxis": {
             "endlinecolor": "#2a3f5f",
             "gridcolor": "white",
             "linecolor": "white",
             "minorgridcolor": "white",
             "startlinecolor": "#2a3f5f"
            },
            "type": "carpet"
           }
          ],
          "choropleth": [
           {
            "colorbar": {
             "outlinewidth": 0,
             "ticks": ""
            },
            "type": "choropleth"
           }
          ],
          "contour": [
           {
            "colorbar": {
             "outlinewidth": 0,
             "ticks": ""
            },
            "colorscale": [
             [
              0,
              "#0d0887"
             ],
             [
              0.1111111111111111,
              "#46039f"
             ],
             [
              0.2222222222222222,
              "#7201a8"
             ],
             [
              0.3333333333333333,
              "#9c179e"
             ],
             [
              0.4444444444444444,
              "#bd3786"
             ],
             [
              0.5555555555555556,
              "#d8576b"
             ],
             [
              0.6666666666666666,
              "#ed7953"
             ],
             [
              0.7777777777777778,
              "#fb9f3a"
             ],
             [
              0.8888888888888888,
              "#fdca26"
             ],
             [
              1,
              "#f0f921"
             ]
            ],
            "type": "contour"
           }
          ],
          "contourcarpet": [
           {
            "colorbar": {
             "outlinewidth": 0,
             "ticks": ""
            },
            "type": "contourcarpet"
           }
          ],
          "heatmap": [
           {
            "colorbar": {
             "outlinewidth": 0,
             "ticks": ""
            },
            "colorscale": [
             [
              0,
              "#0d0887"
             ],
             [
              0.1111111111111111,
              "#46039f"
             ],
             [
              0.2222222222222222,
              "#7201a8"
             ],
             [
              0.3333333333333333,
              "#9c179e"
             ],
             [
              0.4444444444444444,
              "#bd3786"
             ],
             [
              0.5555555555555556,
              "#d8576b"
             ],
             [
              0.6666666666666666,
              "#ed7953"
             ],
             [
              0.7777777777777778,
              "#fb9f3a"
             ],
             [
              0.8888888888888888,
              "#fdca26"
             ],
             [
              1,
              "#f0f921"
             ]
            ],
            "type": "heatmap"
           }
          ],
          "heatmapgl": [
           {
            "colorbar": {
             "outlinewidth": 0,
             "ticks": ""
            },
            "colorscale": [
             [
              0,
              "#0d0887"
             ],
             [
              0.1111111111111111,
              "#46039f"
             ],
             [
              0.2222222222222222,
              "#7201a8"
             ],
             [
              0.3333333333333333,
              "#9c179e"
             ],
             [
              0.4444444444444444,
              "#bd3786"
             ],
             [
              0.5555555555555556,
              "#d8576b"
             ],
             [
              0.6666666666666666,
              "#ed7953"
             ],
             [
              0.7777777777777778,
              "#fb9f3a"
             ],
             [
              0.8888888888888888,
              "#fdca26"
             ],
             [
              1,
              "#f0f921"
             ]
            ],
            "type": "heatmapgl"
           }
          ],
          "histogram": [
           {
            "marker": {
             "pattern": {
              "fillmode": "overlay",
              "size": 10,
              "solidity": 0.2
             }
            },
            "type": "histogram"
           }
          ],
          "histogram2d": [
           {
            "colorbar": {
             "outlinewidth": 0,
             "ticks": ""
            },
            "colorscale": [
             [
              0,
              "#0d0887"
             ],
             [
              0.1111111111111111,
              "#46039f"
             ],
             [
              0.2222222222222222,
              "#7201a8"
             ],
             [
              0.3333333333333333,
              "#9c179e"
             ],
             [
              0.4444444444444444,
              "#bd3786"
             ],
             [
              0.5555555555555556,
              "#d8576b"
             ],
             [
              0.6666666666666666,
              "#ed7953"
             ],
             [
              0.7777777777777778,
              "#fb9f3a"
             ],
             [
              0.8888888888888888,
              "#fdca26"
             ],
             [
              1,
              "#f0f921"
             ]
            ],
            "type": "histogram2d"
           }
          ],
          "histogram2dcontour": [
           {
            "colorbar": {
             "outlinewidth": 0,
             "ticks": ""
            },
            "colorscale": [
             [
              0,
              "#0d0887"
             ],
             [
              0.1111111111111111,
              "#46039f"
             ],
             [
              0.2222222222222222,
              "#7201a8"
             ],
             [
              0.3333333333333333,
              "#9c179e"
             ],
             [
              0.4444444444444444,
              "#bd3786"
             ],
             [
              0.5555555555555556,
              "#d8576b"
             ],
             [
              0.6666666666666666,
              "#ed7953"
             ],
             [
              0.7777777777777778,
              "#fb9f3a"
             ],
             [
              0.8888888888888888,
              "#fdca26"
             ],
             [
              1,
              "#f0f921"
             ]
            ],
            "type": "histogram2dcontour"
           }
          ],
          "mesh3d": [
           {
            "colorbar": {
             "outlinewidth": 0,
             "ticks": ""
            },
            "type": "mesh3d"
           }
          ],
          "parcoords": [
           {
            "line": {
             "colorbar": {
              "outlinewidth": 0,
              "ticks": ""
             }
            },
            "type": "parcoords"
           }
          ],
          "pie": [
           {
            "automargin": true,
            "type": "pie"
           }
          ],
          "scatter": [
           {
            "fillpattern": {
             "fillmode": "overlay",
             "size": 10,
             "solidity": 0.2
            },
            "type": "scatter"
           }
          ],
          "scatter3d": [
           {
            "line": {
             "colorbar": {
              "outlinewidth": 0,
              "ticks": ""
             }
            },
            "marker": {
             "colorbar": {
              "outlinewidth": 0,
              "ticks": ""
             }
            },
            "type": "scatter3d"
           }
          ],
          "scattercarpet": [
           {
            "marker": {
             "colorbar": {
              "outlinewidth": 0,
              "ticks": ""
             }
            },
            "type": "scattercarpet"
           }
          ],
          "scattergeo": [
           {
            "marker": {
             "colorbar": {
              "outlinewidth": 0,
              "ticks": ""
             }
            },
            "type": "scattergeo"
           }
          ],
          "scattergl": [
           {
            "marker": {
             "colorbar": {
              "outlinewidth": 0,
              "ticks": ""
             }
            },
            "type": "scattergl"
           }
          ],
          "scattermapbox": [
           {
            "marker": {
             "colorbar": {
              "outlinewidth": 0,
              "ticks": ""
             }
            },
            "type": "scattermapbox"
           }
          ],
          "scatterpolar": [
           {
            "marker": {
             "colorbar": {
              "outlinewidth": 0,
              "ticks": ""
             }
            },
            "type": "scatterpolar"
           }
          ],
          "scatterpolargl": [
           {
            "marker": {
             "colorbar": {
              "outlinewidth": 0,
              "ticks": ""
             }
            },
            "type": "scatterpolargl"
           }
          ],
          "scatterternary": [
           {
            "marker": {
             "colorbar": {
              "outlinewidth": 0,
              "ticks": ""
             }
            },
            "type": "scatterternary"
           }
          ],
          "surface": [
           {
            "colorbar": {
             "outlinewidth": 0,
             "ticks": ""
            },
            "colorscale": [
             [
              0,
              "#0d0887"
             ],
             [
              0.1111111111111111,
              "#46039f"
             ],
             [
              0.2222222222222222,
              "#7201a8"
             ],
             [
              0.3333333333333333,
              "#9c179e"
             ],
             [
              0.4444444444444444,
              "#bd3786"
             ],
             [
              0.5555555555555556,
              "#d8576b"
             ],
             [
              0.6666666666666666,
              "#ed7953"
             ],
             [
              0.7777777777777778,
              "#fb9f3a"
             ],
             [
              0.8888888888888888,
              "#fdca26"
             ],
             [
              1,
              "#f0f921"
             ]
            ],
            "type": "surface"
           }
          ],
          "table": [
           {
            "cells": {
             "fill": {
              "color": "#EBF0F8"
             },
             "line": {
              "color": "white"
             }
            },
            "header": {
             "fill": {
              "color": "#C8D4E3"
             },
             "line": {
              "color": "white"
             }
            },
            "type": "table"
           }
          ]
         },
         "layout": {
          "annotationdefaults": {
           "arrowcolor": "#2a3f5f",
           "arrowhead": 0,
           "arrowwidth": 1
          },
          "autotypenumbers": "strict",
          "coloraxis": {
           "colorbar": {
            "outlinewidth": 0,
            "ticks": ""
           }
          },
          "colorscale": {
           "diverging": [
            [
             0,
             "#8e0152"
            ],
            [
             0.1,
             "#c51b7d"
            ],
            [
             0.2,
             "#de77ae"
            ],
            [
             0.3,
             "#f1b6da"
            ],
            [
             0.4,
             "#fde0ef"
            ],
            [
             0.5,
             "#f7f7f7"
            ],
            [
             0.6,
             "#e6f5d0"
            ],
            [
             0.7,
             "#b8e186"
            ],
            [
             0.8,
             "#7fbc41"
            ],
            [
             0.9,
             "#4d9221"
            ],
            [
             1,
             "#276419"
            ]
           ],
           "sequential": [
            [
             0,
             "#0d0887"
            ],
            [
             0.1111111111111111,
             "#46039f"
            ],
            [
             0.2222222222222222,
             "#7201a8"
            ],
            [
             0.3333333333333333,
             "#9c179e"
            ],
            [
             0.4444444444444444,
             "#bd3786"
            ],
            [
             0.5555555555555556,
             "#d8576b"
            ],
            [
             0.6666666666666666,
             "#ed7953"
            ],
            [
             0.7777777777777778,
             "#fb9f3a"
            ],
            [
             0.8888888888888888,
             "#fdca26"
            ],
            [
             1,
             "#f0f921"
            ]
           ],
           "sequentialminus": [
            [
             0,
             "#0d0887"
            ],
            [
             0.1111111111111111,
             "#46039f"
            ],
            [
             0.2222222222222222,
             "#7201a8"
            ],
            [
             0.3333333333333333,
             "#9c179e"
            ],
            [
             0.4444444444444444,
             "#bd3786"
            ],
            [
             0.5555555555555556,
             "#d8576b"
            ],
            [
             0.6666666666666666,
             "#ed7953"
            ],
            [
             0.7777777777777778,
             "#fb9f3a"
            ],
            [
             0.8888888888888888,
             "#fdca26"
            ],
            [
             1,
             "#f0f921"
            ]
           ]
          },
          "colorway": [
           "#636efa",
           "#EF553B",
           "#00cc96",
           "#ab63fa",
           "#FFA15A",
           "#19d3f3",
           "#FF6692",
           "#B6E880",
           "#FF97FF",
           "#FECB52"
          ],
          "font": {
           "color": "#2a3f5f"
          },
          "geo": {
           "bgcolor": "white",
           "lakecolor": "white",
           "landcolor": "#E5ECF6",
           "showlakes": true,
           "showland": true,
           "subunitcolor": "white"
          },
          "hoverlabel": {
           "align": "left"
          },
          "hovermode": "closest",
          "mapbox": {
           "style": "light"
          },
          "paper_bgcolor": "white",
          "plot_bgcolor": "#E5ECF6",
          "polar": {
           "angularaxis": {
            "gridcolor": "white",
            "linecolor": "white",
            "ticks": ""
           },
           "bgcolor": "#E5ECF6",
           "radialaxis": {
            "gridcolor": "white",
            "linecolor": "white",
            "ticks": ""
           }
          },
          "scene": {
           "xaxis": {
            "backgroundcolor": "#E5ECF6",
            "gridcolor": "white",
            "gridwidth": 2,
            "linecolor": "white",
            "showbackground": true,
            "ticks": "",
            "zerolinecolor": "white"
           },
           "yaxis": {
            "backgroundcolor": "#E5ECF6",
            "gridcolor": "white",
            "gridwidth": 2,
            "linecolor": "white",
            "showbackground": true,
            "ticks": "",
            "zerolinecolor": "white"
           },
           "zaxis": {
            "backgroundcolor": "#E5ECF6",
            "gridcolor": "white",
            "gridwidth": 2,
            "linecolor": "white",
            "showbackground": true,
            "ticks": "",
            "zerolinecolor": "white"
           }
          },
          "shapedefaults": {
           "line": {
            "color": "#2a3f5f"
           }
          },
          "ternary": {
           "aaxis": {
            "gridcolor": "white",
            "linecolor": "white",
            "ticks": ""
           },
           "baxis": {
            "gridcolor": "white",
            "linecolor": "white",
            "ticks": ""
           },
           "bgcolor": "#E5ECF6",
           "caxis": {
            "gridcolor": "white",
            "linecolor": "white",
            "ticks": ""
           }
          },
          "title": {
           "x": 0.05
          },
          "xaxis": {
           "automargin": true,
           "gridcolor": "white",
           "linecolor": "white",
           "ticks": "",
           "title": {
            "standoff": 15
           },
           "zerolinecolor": "white",
           "zerolinewidth": 2
          },
          "yaxis": {
           "automargin": true,
           "gridcolor": "white",
           "linecolor": "white",
           "ticks": "",
           "title": {
            "standoff": 15
           },
           "zerolinecolor": "white",
           "zerolinewidth": 2
          }
         }
        },
        "width": 900,
        "xaxis": {
         "gridcolor": "#1f292f",
         "nticks": 5,
         "rangeslider": {
          "visible": false
         },
         "type": "category"
        },
        "yaxis": {
         "gridcolor": "#1f292f"
        }
       }
      }
     },
     "metadata": {},
     "output_type": "display_data"
    },
    {
     "name": "stdout",
     "output_type": "stream",
     "text": [
      "USD_JPY 1080\n"
     ]
    },
    {
     "data": {
      "application/vnd.plotly.v1+json": {
       "config": {
        "plotlyServerURL": "https://plot.ly"
       },
       "data": [
        {
         "line": {
          "shape": "spline",
          "width": 2
         },
         "name": "Gain_C",
         "type": "scatter",
         "x": [
          "2023-06-01T11:00:00+00:00",
          "2023-06-01T12:00:00+00:00",
          "2023-06-02T15:00:00+00:00",
          "2023-06-05T21:00:00+00:00",
          "2023-06-07T16:00:00+00:00",
          "2023-06-08T14:00:00+00:00",
          "2023-06-09T12:00:00+00:00",
          "2023-06-13T12:00:00+00:00",
          "2023-06-13T13:00:00+00:00",
          "2023-06-14T15:00:00+00:00",
          "2023-06-15T01:00:00+00:00",
          "2023-06-15T22:00:00+00:00",
          "2023-06-16T08:00:00+00:00",
          "2023-06-20T10:00:00+00:00",
          "2023-06-21T08:00:00+00:00",
          "2023-06-26T11:00:00+00:00",
          "2023-06-26T20:00:00+00:00",
          "2023-06-27T02:00:00+00:00",
          "2023-06-27T08:00:00+00:00",
          "2023-06-30T15:00:00+00:00",
          "2023-07-03T09:00:00+00:00",
          "2023-07-04T08:00:00+00:00",
          "2023-07-05T19:00:00+00:00",
          "2023-07-06T04:00:00+00:00",
          "2023-07-14T13:00:00+00:00",
          "2023-07-18T04:00:00+00:00",
          "2023-07-18T19:00:00+00:00",
          "2023-07-20T08:00:00+00:00",
          "2023-07-20T12:00:00+00:00",
          "2023-07-24T15:00:00+00:00",
          "2023-07-27T16:00:00+00:00",
          "2023-07-27T20:00:00+00:00",
          "2023-07-28T16:00:00+00:00",
          "2023-08-02T10:00:00+00:00",
          "2023-08-02T17:00:00+00:00",
          "2023-08-03T14:00:00+00:00",
          "2023-08-07T14:00:00+00:00",
          "2023-08-16T07:00:00+00:00",
          "2023-08-16T12:00:00+00:00",
          "2023-08-17T19:00:00+00:00",
          "2023-08-21T10:00:00+00:00",
          "2023-08-22T13:00:00+00:00",
          "2023-08-24T11:00:00+00:00",
          "2023-08-29T04:00:00+00:00",
          "2023-08-29T11:00:00+00:00",
          "2023-08-29T18:00:00+00:00",
          "2023-09-01T18:00:00+00:00",
          "2023-09-07T10:00:00+00:00",
          "2023-09-08T14:00:00+00:00",
          "2023-09-11T02:00:00+00:00",
          "2023-09-12T09:00:00+00:00",
          "2023-09-14T04:00:00+00:00",
          "2023-09-14T18:00:00+00:00",
          "2023-09-18T11:00:00+00:00",
          "2023-09-19T08:00:00+00:00",
          "2023-09-20T18:00:00+00:00",
          "2023-09-20T20:00:00+00:00",
          "2023-09-21T15:00:00+00:00",
          "2023-09-22T08:00:00+00:00",
          "2023-09-28T17:00:00+00:00",
          "2023-09-29T19:00:00+00:00",
          "2023-10-03T15:00:00+00:00",
          "2023-10-06T08:00:00+00:00",
          "2023-10-09T15:00:00+00:00",
          "2023-10-10T13:00:00+00:00",
          "2023-10-10T21:00:00+00:00",
          "2023-10-11T04:00:00+00:00",
          "2023-10-13T20:00:00+00:00",
          "2023-10-16T21:00:00+00:00",
          "2023-10-17T03:00:00+00:00",
          "2023-10-17T04:00:00+00:00",
          "2023-10-20T01:00:00+00:00",
          "2023-10-20T02:00:00+00:00",
          "2023-10-22T23:00:00+00:00",
          "2023-10-23T02:00:00+00:00",
          "2023-10-23T17:00:00+00:00",
          "2023-10-24T17:00:00+00:00",
          "2023-10-27T06:00:00+00:00",
          "2023-10-31T06:00:00+00:00",
          "2023-11-01T19:00:00+00:00",
          "2023-11-06T19:00:00+00:00",
          "2023-11-14T13:00:00+00:00",
          "2023-11-15T20:00:00+00:00",
          "2023-11-16T17:00:00+00:00",
          "2023-11-21T23:00:00+00:00",
          "2023-11-27T01:00:00+00:00",
          "2023-11-30T13:00:00+00:00",
          "2023-12-01T18:00:00+00:00",
          "2023-12-04T22:00:00+00:00",
          "2023-12-07T02:00:00+00:00",
          "2023-12-08T18:00:00+00:00",
          "2023-12-12T07:00:00+00:00",
          "2023-12-13T09:00:00+00:00",
          "2023-12-13T17:00:00+00:00",
          "2023-12-15T14:00:00+00:00",
          "2023-12-20T09:00:00+00:00",
          "2023-12-25T23:00:00+00:00",
          "2023-12-26T07:00:00+00:00",
          "2023-12-26T09:00:00+00:00",
          "2023-12-27T18:00:00+00:00",
          "2023-12-29T04:00:00+00:00",
          "2023-12-29T20:00:00+00:00",
          "2024-01-02T07:00:00+00:00",
          "2024-01-07T23:00:00+00:00",
          "2024-01-09T18:00:00+00:00",
          "2024-01-12T01:00:00+00:00"
         ],
         "y": [
          -27.199999999999136,
          -91.39999999999873,
          -111.69999999999902,
          -174.79999999999905,
          -295.4999999999984,
          -326.7999999999972,
          -340.9999999999968,
          -400.99999999999625,
          -442.49999999999545,
          -609.7999999999956,
          -697.3999999999961,
          -787.2999999999962,
          -748.6999999999966,
          -805.5999999999983,
          -684.3999999999994,
          -715.3999999999996,
          -726.8000000000001,
          -758.1000000000017,
          -681.6000000000031,
          -693.8000000000045,
          -715.0000000000063,
          -742.9000000000059,
          -812.4000000000052,
          -281.1000000000064,
          -300.60000000000855,
          -347.90000000000987,
          -295.8000000000112,
          -333.8000000000136,
          -198.20000000001414,
          -187.90000000001328,
          -348.6000000000132,
          -486.60000000001276,
          -298.8000000000113,
          -344.30000000000973,
          -434.00000000000887,
          -438.9000000000095,
          -136.80000000001087,
          -186.7000000000104,
          -201.00000000001046,
          -221.6000000000122,
          -208.00000000001262,
          -167.40000000001203,
          -84.50000000001125,
          -149.60000000000946,
          -279.00000000000773,
          -310.00000000000796,
          -181.80000000000973,
          -202.00000000000955,
          -302.20000000000766,
          -317.5000000000068,
          -282.5000000000074,
          -312.600000000009,
          -295.00000000001023,
          -304.6000000000106,
          -274.60000000000946,
          -308.40000000000884,
          -401.4000000000095,
          -488.200000000009,
          -378.90000000000725,
          -385.20000000000607,
          -412.8000000000071,
          -386.800000000008,
          -407.4000000000069,
          -431.20000000000687,
          -456.1000000000064,
          -474.2000000000047,
          -403.9000000000044,
          -399.40000000000566,
          -397.900000000007,
          -398.20000000000846,
          -366.0000000000082,
          -363.8000000000062,
          -360.0000000000051,
          -363.3000000000038,
          -384.80000000000416,
          -400.80000000000666,
          -368.4000000000083,
          -369.8000000000093,
          -302.00000000000955,
          -211.40000000000896,
          -108.80000000000791,
          -149.80000000000757,
          -240.0000000000091,
          -4.000000000010573,
          92.39999999998929,
          215.19999999999015,
          102.79999999999063,
          67.99999999998931,
          43.09999999998695,
          235.59999999998524,
          286.3999999999834,
          246.89999999998236,
          180.59999999998126,
          515.5999999999807,
          674.3999999999801,
          791.0999999999774,
          799.2999999999768,
          781.699999999978,
          735.8999999999781,
          794.399999999979,
          746.5999999999809,
          690.1999999999816,
          1007.5999999999823,
          1024.0999999999844,
          1080.0999999999847,
          1080.0999999999847
         ]
        }
       ],
       "layout": {
        "font": {
         "color": "#e1e1e1",
         "size": 8
        },
        "height": 400,
        "margin": {
         "b": 10,
         "l": 10,
         "r": 10,
         "t": 10
        },
        "paper_bgcolor": "#2c303c",
        "plot_bgcolor": "#2c303c",
        "template": {
         "data": {
          "bar": [
           {
            "error_x": {
             "color": "#2a3f5f"
            },
            "error_y": {
             "color": "#2a3f5f"
            },
            "marker": {
             "line": {
              "color": "#E5ECF6",
              "width": 0.5
             },
             "pattern": {
              "fillmode": "overlay",
              "size": 10,
              "solidity": 0.2
             }
            },
            "type": "bar"
           }
          ],
          "barpolar": [
           {
            "marker": {
             "line": {
              "color": "#E5ECF6",
              "width": 0.5
             },
             "pattern": {
              "fillmode": "overlay",
              "size": 10,
              "solidity": 0.2
             }
            },
            "type": "barpolar"
           }
          ],
          "carpet": [
           {
            "aaxis": {
             "endlinecolor": "#2a3f5f",
             "gridcolor": "white",
             "linecolor": "white",
             "minorgridcolor": "white",
             "startlinecolor": "#2a3f5f"
            },
            "baxis": {
             "endlinecolor": "#2a3f5f",
             "gridcolor": "white",
             "linecolor": "white",
             "minorgridcolor": "white",
             "startlinecolor": "#2a3f5f"
            },
            "type": "carpet"
           }
          ],
          "choropleth": [
           {
            "colorbar": {
             "outlinewidth": 0,
             "ticks": ""
            },
            "type": "choropleth"
           }
          ],
          "contour": [
           {
            "colorbar": {
             "outlinewidth": 0,
             "ticks": ""
            },
            "colorscale": [
             [
              0,
              "#0d0887"
             ],
             [
              0.1111111111111111,
              "#46039f"
             ],
             [
              0.2222222222222222,
              "#7201a8"
             ],
             [
              0.3333333333333333,
              "#9c179e"
             ],
             [
              0.4444444444444444,
              "#bd3786"
             ],
             [
              0.5555555555555556,
              "#d8576b"
             ],
             [
              0.6666666666666666,
              "#ed7953"
             ],
             [
              0.7777777777777778,
              "#fb9f3a"
             ],
             [
              0.8888888888888888,
              "#fdca26"
             ],
             [
              1,
              "#f0f921"
             ]
            ],
            "type": "contour"
           }
          ],
          "contourcarpet": [
           {
            "colorbar": {
             "outlinewidth": 0,
             "ticks": ""
            },
            "type": "contourcarpet"
           }
          ],
          "heatmap": [
           {
            "colorbar": {
             "outlinewidth": 0,
             "ticks": ""
            },
            "colorscale": [
             [
              0,
              "#0d0887"
             ],
             [
              0.1111111111111111,
              "#46039f"
             ],
             [
              0.2222222222222222,
              "#7201a8"
             ],
             [
              0.3333333333333333,
              "#9c179e"
             ],
             [
              0.4444444444444444,
              "#bd3786"
             ],
             [
              0.5555555555555556,
              "#d8576b"
             ],
             [
              0.6666666666666666,
              "#ed7953"
             ],
             [
              0.7777777777777778,
              "#fb9f3a"
             ],
             [
              0.8888888888888888,
              "#fdca26"
             ],
             [
              1,
              "#f0f921"
             ]
            ],
            "type": "heatmap"
           }
          ],
          "heatmapgl": [
           {
            "colorbar": {
             "outlinewidth": 0,
             "ticks": ""
            },
            "colorscale": [
             [
              0,
              "#0d0887"
             ],
             [
              0.1111111111111111,
              "#46039f"
             ],
             [
              0.2222222222222222,
              "#7201a8"
             ],
             [
              0.3333333333333333,
              "#9c179e"
             ],
             [
              0.4444444444444444,
              "#bd3786"
             ],
             [
              0.5555555555555556,
              "#d8576b"
             ],
             [
              0.6666666666666666,
              "#ed7953"
             ],
             [
              0.7777777777777778,
              "#fb9f3a"
             ],
             [
              0.8888888888888888,
              "#fdca26"
             ],
             [
              1,
              "#f0f921"
             ]
            ],
            "type": "heatmapgl"
           }
          ],
          "histogram": [
           {
            "marker": {
             "pattern": {
              "fillmode": "overlay",
              "size": 10,
              "solidity": 0.2
             }
            },
            "type": "histogram"
           }
          ],
          "histogram2d": [
           {
            "colorbar": {
             "outlinewidth": 0,
             "ticks": ""
            },
            "colorscale": [
             [
              0,
              "#0d0887"
             ],
             [
              0.1111111111111111,
              "#46039f"
             ],
             [
              0.2222222222222222,
              "#7201a8"
             ],
             [
              0.3333333333333333,
              "#9c179e"
             ],
             [
              0.4444444444444444,
              "#bd3786"
             ],
             [
              0.5555555555555556,
              "#d8576b"
             ],
             [
              0.6666666666666666,
              "#ed7953"
             ],
             [
              0.7777777777777778,
              "#fb9f3a"
             ],
             [
              0.8888888888888888,
              "#fdca26"
             ],
             [
              1,
              "#f0f921"
             ]
            ],
            "type": "histogram2d"
           }
          ],
          "histogram2dcontour": [
           {
            "colorbar": {
             "outlinewidth": 0,
             "ticks": ""
            },
            "colorscale": [
             [
              0,
              "#0d0887"
             ],
             [
              0.1111111111111111,
              "#46039f"
             ],
             [
              0.2222222222222222,
              "#7201a8"
             ],
             [
              0.3333333333333333,
              "#9c179e"
             ],
             [
              0.4444444444444444,
              "#bd3786"
             ],
             [
              0.5555555555555556,
              "#d8576b"
             ],
             [
              0.6666666666666666,
              "#ed7953"
             ],
             [
              0.7777777777777778,
              "#fb9f3a"
             ],
             [
              0.8888888888888888,
              "#fdca26"
             ],
             [
              1,
              "#f0f921"
             ]
            ],
            "type": "histogram2dcontour"
           }
          ],
          "mesh3d": [
           {
            "colorbar": {
             "outlinewidth": 0,
             "ticks": ""
            },
            "type": "mesh3d"
           }
          ],
          "parcoords": [
           {
            "line": {
             "colorbar": {
              "outlinewidth": 0,
              "ticks": ""
             }
            },
            "type": "parcoords"
           }
          ],
          "pie": [
           {
            "automargin": true,
            "type": "pie"
           }
          ],
          "scatter": [
           {
            "fillpattern": {
             "fillmode": "overlay",
             "size": 10,
             "solidity": 0.2
            },
            "type": "scatter"
           }
          ],
          "scatter3d": [
           {
            "line": {
             "colorbar": {
              "outlinewidth": 0,
              "ticks": ""
             }
            },
            "marker": {
             "colorbar": {
              "outlinewidth": 0,
              "ticks": ""
             }
            },
            "type": "scatter3d"
           }
          ],
          "scattercarpet": [
           {
            "marker": {
             "colorbar": {
              "outlinewidth": 0,
              "ticks": ""
             }
            },
            "type": "scattercarpet"
           }
          ],
          "scattergeo": [
           {
            "marker": {
             "colorbar": {
              "outlinewidth": 0,
              "ticks": ""
             }
            },
            "type": "scattergeo"
           }
          ],
          "scattergl": [
           {
            "marker": {
             "colorbar": {
              "outlinewidth": 0,
              "ticks": ""
             }
            },
            "type": "scattergl"
           }
          ],
          "scattermapbox": [
           {
            "marker": {
             "colorbar": {
              "outlinewidth": 0,
              "ticks": ""
             }
            },
            "type": "scattermapbox"
           }
          ],
          "scatterpolar": [
           {
            "marker": {
             "colorbar": {
              "outlinewidth": 0,
              "ticks": ""
             }
            },
            "type": "scatterpolar"
           }
          ],
          "scatterpolargl": [
           {
            "marker": {
             "colorbar": {
              "outlinewidth": 0,
              "ticks": ""
             }
            },
            "type": "scatterpolargl"
           }
          ],
          "scatterternary": [
           {
            "marker": {
             "colorbar": {
              "outlinewidth": 0,
              "ticks": ""
             }
            },
            "type": "scatterternary"
           }
          ],
          "surface": [
           {
            "colorbar": {
             "outlinewidth": 0,
             "ticks": ""
            },
            "colorscale": [
             [
              0,
              "#0d0887"
             ],
             [
              0.1111111111111111,
              "#46039f"
             ],
             [
              0.2222222222222222,
              "#7201a8"
             ],
             [
              0.3333333333333333,
              "#9c179e"
             ],
             [
              0.4444444444444444,
              "#bd3786"
             ],
             [
              0.5555555555555556,
              "#d8576b"
             ],
             [
              0.6666666666666666,
              "#ed7953"
             ],
             [
              0.7777777777777778,
              "#fb9f3a"
             ],
             [
              0.8888888888888888,
              "#fdca26"
             ],
             [
              1,
              "#f0f921"
             ]
            ],
            "type": "surface"
           }
          ],
          "table": [
           {
            "cells": {
             "fill": {
              "color": "#EBF0F8"
             },
             "line": {
              "color": "white"
             }
            },
            "header": {
             "fill": {
              "color": "#C8D4E3"
             },
             "line": {
              "color": "white"
             }
            },
            "type": "table"
           }
          ]
         },
         "layout": {
          "annotationdefaults": {
           "arrowcolor": "#2a3f5f",
           "arrowhead": 0,
           "arrowwidth": 1
          },
          "autotypenumbers": "strict",
          "coloraxis": {
           "colorbar": {
            "outlinewidth": 0,
            "ticks": ""
           }
          },
          "colorscale": {
           "diverging": [
            [
             0,
             "#8e0152"
            ],
            [
             0.1,
             "#c51b7d"
            ],
            [
             0.2,
             "#de77ae"
            ],
            [
             0.3,
             "#f1b6da"
            ],
            [
             0.4,
             "#fde0ef"
            ],
            [
             0.5,
             "#f7f7f7"
            ],
            [
             0.6,
             "#e6f5d0"
            ],
            [
             0.7,
             "#b8e186"
            ],
            [
             0.8,
             "#7fbc41"
            ],
            [
             0.9,
             "#4d9221"
            ],
            [
             1,
             "#276419"
            ]
           ],
           "sequential": [
            [
             0,
             "#0d0887"
            ],
            [
             0.1111111111111111,
             "#46039f"
            ],
            [
             0.2222222222222222,
             "#7201a8"
            ],
            [
             0.3333333333333333,
             "#9c179e"
            ],
            [
             0.4444444444444444,
             "#bd3786"
            ],
            [
             0.5555555555555556,
             "#d8576b"
            ],
            [
             0.6666666666666666,
             "#ed7953"
            ],
            [
             0.7777777777777778,
             "#fb9f3a"
            ],
            [
             0.8888888888888888,
             "#fdca26"
            ],
            [
             1,
             "#f0f921"
            ]
           ],
           "sequentialminus": [
            [
             0,
             "#0d0887"
            ],
            [
             0.1111111111111111,
             "#46039f"
            ],
            [
             0.2222222222222222,
             "#7201a8"
            ],
            [
             0.3333333333333333,
             "#9c179e"
            ],
            [
             0.4444444444444444,
             "#bd3786"
            ],
            [
             0.5555555555555556,
             "#d8576b"
            ],
            [
             0.6666666666666666,
             "#ed7953"
            ],
            [
             0.7777777777777778,
             "#fb9f3a"
            ],
            [
             0.8888888888888888,
             "#fdca26"
            ],
            [
             1,
             "#f0f921"
            ]
           ]
          },
          "colorway": [
           "#636efa",
           "#EF553B",
           "#00cc96",
           "#ab63fa",
           "#FFA15A",
           "#19d3f3",
           "#FF6692",
           "#B6E880",
           "#FF97FF",
           "#FECB52"
          ],
          "font": {
           "color": "#2a3f5f"
          },
          "geo": {
           "bgcolor": "white",
           "lakecolor": "white",
           "landcolor": "#E5ECF6",
           "showlakes": true,
           "showland": true,
           "subunitcolor": "white"
          },
          "hoverlabel": {
           "align": "left"
          },
          "hovermode": "closest",
          "mapbox": {
           "style": "light"
          },
          "paper_bgcolor": "white",
          "plot_bgcolor": "#E5ECF6",
          "polar": {
           "angularaxis": {
            "gridcolor": "white",
            "linecolor": "white",
            "ticks": ""
           },
           "bgcolor": "#E5ECF6",
           "radialaxis": {
            "gridcolor": "white",
            "linecolor": "white",
            "ticks": ""
           }
          },
          "scene": {
           "xaxis": {
            "backgroundcolor": "#E5ECF6",
            "gridcolor": "white",
            "gridwidth": 2,
            "linecolor": "white",
            "showbackground": true,
            "ticks": "",
            "zerolinecolor": "white"
           },
           "yaxis": {
            "backgroundcolor": "#E5ECF6",
            "gridcolor": "white",
            "gridwidth": 2,
            "linecolor": "white",
            "showbackground": true,
            "ticks": "",
            "zerolinecolor": "white"
           },
           "zaxis": {
            "backgroundcolor": "#E5ECF6",
            "gridcolor": "white",
            "gridwidth": 2,
            "linecolor": "white",
            "showbackground": true,
            "ticks": "",
            "zerolinecolor": "white"
           }
          },
          "shapedefaults": {
           "line": {
            "color": "#2a3f5f"
           }
          },
          "ternary": {
           "aaxis": {
            "gridcolor": "white",
            "linecolor": "white",
            "ticks": ""
           },
           "baxis": {
            "gridcolor": "white",
            "linecolor": "white",
            "ticks": ""
           },
           "bgcolor": "#E5ECF6",
           "caxis": {
            "gridcolor": "white",
            "linecolor": "white",
            "ticks": ""
           }
          },
          "title": {
           "x": 0.05
          },
          "xaxis": {
           "automargin": true,
           "gridcolor": "white",
           "linecolor": "white",
           "ticks": "",
           "title": {
            "standoff": 15
           },
           "zerolinecolor": "white",
           "zerolinewidth": 2
          },
          "yaxis": {
           "automargin": true,
           "gridcolor": "white",
           "linecolor": "white",
           "ticks": "",
           "title": {
            "standoff": 15
           },
           "zerolinecolor": "white",
           "zerolinewidth": 2
          }
         }
        },
        "width": 900,
        "xaxis": {
         "gridcolor": "#1f292f",
         "nticks": 5,
         "rangeslider": {
          "visible": false
         },
         "type": "category"
        },
        "yaxis": {
         "gridcolor": "#1f292f"
        }
       }
      }
     },
     "metadata": {},
     "output_type": "display_data"
    },
    {
     "name": "stdout",
     "output_type": "stream",
     "text": [
      "EUR_USD 980\n"
     ]
    },
    {
     "data": {
      "application/vnd.plotly.v1+json": {
       "config": {
        "plotlyServerURL": "https://plot.ly"
       },
       "data": [
        {
         "line": {
          "shape": "spline",
          "width": 2
         },
         "name": "Gain_C",
         "type": "scatter",
         "x": [
          "2023-06-01T12:00:00+00:00",
          "2023-06-02T18:00:00+00:00",
          "2023-06-05T23:00:00+00:00",
          "2023-06-06T13:00:00+00:00",
          "2023-06-07T13:00:00+00:00",
          "2023-06-09T18:00:00+00:00",
          "2023-06-12T13:00:00+00:00",
          "2023-06-12T19:00:00+00:00",
          "2023-06-13T00:00:00+00:00",
          "2023-06-19T04:00:00+00:00",
          "2023-06-20T12:00:00+00:00",
          "2023-06-20T15:00:00+00:00",
          "2023-06-21T14:00:00+00:00",
          "2023-06-22T20:00:00+00:00",
          "2023-06-26T13:00:00+00:00",
          "2023-06-28T14:00:00+00:00",
          "2023-06-30T17:00:00+00:00",
          "2023-07-04T08:00:00+00:00",
          "2023-07-06T14:00:00+00:00",
          "2023-07-18T17:00:00+00:00",
          "2023-07-20T09:00:00+00:00",
          "2023-07-20T10:00:00+00:00",
          "2023-07-26T10:00:00+00:00",
          "2023-07-27T16:00:00+00:00",
          "2023-07-28T20:00:00+00:00",
          "2023-07-31T21:00:00+00:00",
          "2023-08-02T03:00:00+00:00",
          "2023-08-02T11:00:00+00:00",
          "2023-08-03T23:00:00+00:00",
          "2023-08-08T03:00:00+00:00",
          "2023-08-09T10:00:00+00:00",
          "2023-08-11T00:00:00+00:00",
          "2023-08-15T13:00:00+00:00",
          "2023-08-15T21:00:00+00:00",
          "2023-08-16T10:00:00+00:00",
          "2023-08-16T15:00:00+00:00",
          "2023-08-18T05:00:00+00:00",
          "2023-08-18T11:00:00+00:00",
          "2023-08-21T03:00:00+00:00",
          "2023-08-22T14:00:00+00:00",
          "2023-08-23T22:00:00+00:00",
          "2023-08-24T14:00:00+00:00",
          "2023-08-28T03:00:00+00:00",
          "2023-08-29T13:00:00+00:00",
          "2023-08-29T16:00:00+00:00",
          "2023-08-31T11:00:00+00:00",
          "2023-09-05T04:00:00+00:00",
          "2023-09-05T07:00:00+00:00",
          "2023-09-08T08:00:00+00:00",
          "2023-09-08T12:00:00+00:00",
          "2023-09-08T13:00:00+00:00",
          "2023-09-08T15:00:00+00:00",
          "2023-09-10T21:00:00+00:00",
          "2023-09-12T10:00:00+00:00",
          "2023-09-12T23:00:00+00:00",
          "2023-09-13T23:00:00+00:00",
          "2023-09-17T22:00:00+00:00",
          "2023-09-19T23:00:00+00:00",
          "2023-09-20T10:00:00+00:00",
          "2023-09-20T23:00:00+00:00",
          "2023-09-24T21:00:00+00:00",
          "2023-09-24T22:00:00+00:00",
          "2023-09-28T15:00:00+00:00",
          "2023-10-02T00:00:00+00:00",
          "2023-10-04T10:00:00+00:00",
          "2023-10-09T08:00:00+00:00",
          "2023-10-09T22:00:00+00:00",
          "2023-10-12T14:00:00+00:00",
          "2023-10-16T10:00:00+00:00",
          "2023-10-18T15:00:00+00:00",
          "2023-10-19T15:00:00+00:00",
          "2023-10-23T06:00:00+00:00",
          "2023-10-23T09:00:00+00:00",
          "2023-10-24T15:00:00+00:00",
          "2023-10-27T02:00:00+00:00",
          "2023-10-30T07:00:00+00:00",
          "2023-10-30T10:00:00+00:00",
          "2023-10-31T20:00:00+00:00",
          "2023-11-02T02:00:00+00:00",
          "2023-11-07T01:00:00+00:00",
          "2023-11-08T19:00:00+00:00",
          "2023-11-09T21:00:00+00:00",
          "2023-11-13T01:00:00+00:00",
          "2023-11-16T01:00:00+00:00",
          "2023-11-16T16:00:00+00:00",
          "2023-11-21T18:00:00+00:00",
          "2023-11-23T08:00:00+00:00",
          "2023-11-29T18:00:00+00:00",
          "2023-12-07T17:00:00+00:00",
          "2023-12-08T13:00:00+00:00",
          "2023-12-12T03:00:00+00:00",
          "2023-12-15T16:00:00+00:00",
          "2023-12-18T22:00:00+00:00",
          "2023-12-20T17:00:00+00:00",
          "2023-12-21T13:00:00+00:00",
          "2023-12-28T19:00:00+00:00",
          "2024-01-04T10:00:00+00:00",
          "2024-01-05T09:00:00+00:00",
          "2024-01-05T20:00:00+00:00",
          "2024-01-08T10:00:00+00:00",
          "2024-01-08T12:00:00+00:00",
          "2024-01-09T12:00:00+00:00",
          "2024-01-10T15:00:00+00:00",
          "2024-01-11T18:00:00+00:00",
          "2024-01-11T19:00:00+00:00",
          "2024-01-11T20:00:00+00:00",
          "2024-01-12T00:00:00+00:00",
          "2024-01-12T11:00:00+00:00"
         ],
         "y": [
          4.299999999999304,
          5.299999999999194,
          -33.49999999999964,
          -98.09999999999874,
          -85.49999999999835,
          -88.79999999999777,
          -81.89999999999696,
          -82.49999999999645,
          91.60000000000281,
          106.90000000000312,
          87.30000000000351,
          32.40000000000356,
          33.50000000000411,
          76.50000000000381,
          62.500000000003126,
          49.50000000000234,
          33.30000000000279,
          60.70000000000466,
          411.3000000000055,
          417.90000000000435,
          409.80000000000234,
          531.9000000000007,
          440.1999999999994,
          413.39999999999924,
          394.90000000000015,
          406.4,
          397.8999999999998,
          425.50000000000074,
          456.4000000000011,
          461.800000000001,
          473.3000000000008,
          521.1000000000008,
          485.6999999999998,
          472.199999999998,
          456.8999999999977,
          476.6999999999986,
          456.49999999999955,
          439.10000000000105,
          409.90000000000293,
          396.500000000004,
          371.20000000000476,
          401.0000000000046,
          395.3000000000028,
          336.10000000000133,
          341.29999999999984,
          417.1999999999997,
          381.40000000000055,
          426.20000000000095,
          416.9000000000022,
          393.10000000000394,
          375.8000000000039,
          368.00000000000387,
          367.40000000000435,
          330.400000000004,
          310.30000000000337,
          379.1000000000033,
          396.30000000000496,
          374.3000000000052,
          320.90000000000396,
          324.9000000000035,
          328.2000000000029,
          401.1000000000031,
          388.8000000000047,
          449.5000000000049,
          487.70000000000425,
          460.5000000000037,
          447.40000000000225,
          470.7000000000017,
          469.60000000000116,
          431.09999999999985,
          443.89999999999935,
          433.1999999999981,
          433.7999999999976,
          463.0999999999986,
          455.2999999999986,
          437.1999999999977,
          436.69999999999663,
          415.19999999999567,
          529.7999999999959,
          538.099999999997,
          503.99999999999784,
          485.3999999999981,
          642.499999999997,
          636.4999999999955,
          695.4999999999956,
          686.4999999999966,
          753.3999999999975,
          924.2999999999979,
          857.4999999999977,
          836.0999999999974,
          973.0999999999979,
          955.6999999999994,
          990.9000000000012,
          957.800000000002,
          1031.3000000000018,
          1140.2000000000025,
          1097.5000000000025,
          1071.1000000000026,
          1074.200000000003,
          1071.9000000000035,
          1067.7000000000048,
          1040.9000000000046,
          1038.3000000000031,
          1021.1000000000015,
          1010.6000000000015,
          1006.3000000000022,
          980.2000000000022,
          980.2000000000022
         ]
        }
       ],
       "layout": {
        "font": {
         "color": "#e1e1e1",
         "size": 8
        },
        "height": 400,
        "margin": {
         "b": 10,
         "l": 10,
         "r": 10,
         "t": 10
        },
        "paper_bgcolor": "#2c303c",
        "plot_bgcolor": "#2c303c",
        "template": {
         "data": {
          "bar": [
           {
            "error_x": {
             "color": "#2a3f5f"
            },
            "error_y": {
             "color": "#2a3f5f"
            },
            "marker": {
             "line": {
              "color": "#E5ECF6",
              "width": 0.5
             },
             "pattern": {
              "fillmode": "overlay",
              "size": 10,
              "solidity": 0.2
             }
            },
            "type": "bar"
           }
          ],
          "barpolar": [
           {
            "marker": {
             "line": {
              "color": "#E5ECF6",
              "width": 0.5
             },
             "pattern": {
              "fillmode": "overlay",
              "size": 10,
              "solidity": 0.2
             }
            },
            "type": "barpolar"
           }
          ],
          "carpet": [
           {
            "aaxis": {
             "endlinecolor": "#2a3f5f",
             "gridcolor": "white",
             "linecolor": "white",
             "minorgridcolor": "white",
             "startlinecolor": "#2a3f5f"
            },
            "baxis": {
             "endlinecolor": "#2a3f5f",
             "gridcolor": "white",
             "linecolor": "white",
             "minorgridcolor": "white",
             "startlinecolor": "#2a3f5f"
            },
            "type": "carpet"
           }
          ],
          "choropleth": [
           {
            "colorbar": {
             "outlinewidth": 0,
             "ticks": ""
            },
            "type": "choropleth"
           }
          ],
          "contour": [
           {
            "colorbar": {
             "outlinewidth": 0,
             "ticks": ""
            },
            "colorscale": [
             [
              0,
              "#0d0887"
             ],
             [
              0.1111111111111111,
              "#46039f"
             ],
             [
              0.2222222222222222,
              "#7201a8"
             ],
             [
              0.3333333333333333,
              "#9c179e"
             ],
             [
              0.4444444444444444,
              "#bd3786"
             ],
             [
              0.5555555555555556,
              "#d8576b"
             ],
             [
              0.6666666666666666,
              "#ed7953"
             ],
             [
              0.7777777777777778,
              "#fb9f3a"
             ],
             [
              0.8888888888888888,
              "#fdca26"
             ],
             [
              1,
              "#f0f921"
             ]
            ],
            "type": "contour"
           }
          ],
          "contourcarpet": [
           {
            "colorbar": {
             "outlinewidth": 0,
             "ticks": ""
            },
            "type": "contourcarpet"
           }
          ],
          "heatmap": [
           {
            "colorbar": {
             "outlinewidth": 0,
             "ticks": ""
            },
            "colorscale": [
             [
              0,
              "#0d0887"
             ],
             [
              0.1111111111111111,
              "#46039f"
             ],
             [
              0.2222222222222222,
              "#7201a8"
             ],
             [
              0.3333333333333333,
              "#9c179e"
             ],
             [
              0.4444444444444444,
              "#bd3786"
             ],
             [
              0.5555555555555556,
              "#d8576b"
             ],
             [
              0.6666666666666666,
              "#ed7953"
             ],
             [
              0.7777777777777778,
              "#fb9f3a"
             ],
             [
              0.8888888888888888,
              "#fdca26"
             ],
             [
              1,
              "#f0f921"
             ]
            ],
            "type": "heatmap"
           }
          ],
          "heatmapgl": [
           {
            "colorbar": {
             "outlinewidth": 0,
             "ticks": ""
            },
            "colorscale": [
             [
              0,
              "#0d0887"
             ],
             [
              0.1111111111111111,
              "#46039f"
             ],
             [
              0.2222222222222222,
              "#7201a8"
             ],
             [
              0.3333333333333333,
              "#9c179e"
             ],
             [
              0.4444444444444444,
              "#bd3786"
             ],
             [
              0.5555555555555556,
              "#d8576b"
             ],
             [
              0.6666666666666666,
              "#ed7953"
             ],
             [
              0.7777777777777778,
              "#fb9f3a"
             ],
             [
              0.8888888888888888,
              "#fdca26"
             ],
             [
              1,
              "#f0f921"
             ]
            ],
            "type": "heatmapgl"
           }
          ],
          "histogram": [
           {
            "marker": {
             "pattern": {
              "fillmode": "overlay",
              "size": 10,
              "solidity": 0.2
             }
            },
            "type": "histogram"
           }
          ],
          "histogram2d": [
           {
            "colorbar": {
             "outlinewidth": 0,
             "ticks": ""
            },
            "colorscale": [
             [
              0,
              "#0d0887"
             ],
             [
              0.1111111111111111,
              "#46039f"
             ],
             [
              0.2222222222222222,
              "#7201a8"
             ],
             [
              0.3333333333333333,
              "#9c179e"
             ],
             [
              0.4444444444444444,
              "#bd3786"
             ],
             [
              0.5555555555555556,
              "#d8576b"
             ],
             [
              0.6666666666666666,
              "#ed7953"
             ],
             [
              0.7777777777777778,
              "#fb9f3a"
             ],
             [
              0.8888888888888888,
              "#fdca26"
             ],
             [
              1,
              "#f0f921"
             ]
            ],
            "type": "histogram2d"
           }
          ],
          "histogram2dcontour": [
           {
            "colorbar": {
             "outlinewidth": 0,
             "ticks": ""
            },
            "colorscale": [
             [
              0,
              "#0d0887"
             ],
             [
              0.1111111111111111,
              "#46039f"
             ],
             [
              0.2222222222222222,
              "#7201a8"
             ],
             [
              0.3333333333333333,
              "#9c179e"
             ],
             [
              0.4444444444444444,
              "#bd3786"
             ],
             [
              0.5555555555555556,
              "#d8576b"
             ],
             [
              0.6666666666666666,
              "#ed7953"
             ],
             [
              0.7777777777777778,
              "#fb9f3a"
             ],
             [
              0.8888888888888888,
              "#fdca26"
             ],
             [
              1,
              "#f0f921"
             ]
            ],
            "type": "histogram2dcontour"
           }
          ],
          "mesh3d": [
           {
            "colorbar": {
             "outlinewidth": 0,
             "ticks": ""
            },
            "type": "mesh3d"
           }
          ],
          "parcoords": [
           {
            "line": {
             "colorbar": {
              "outlinewidth": 0,
              "ticks": ""
             }
            },
            "type": "parcoords"
           }
          ],
          "pie": [
           {
            "automargin": true,
            "type": "pie"
           }
          ],
          "scatter": [
           {
            "fillpattern": {
             "fillmode": "overlay",
             "size": 10,
             "solidity": 0.2
            },
            "type": "scatter"
           }
          ],
          "scatter3d": [
           {
            "line": {
             "colorbar": {
              "outlinewidth": 0,
              "ticks": ""
             }
            },
            "marker": {
             "colorbar": {
              "outlinewidth": 0,
              "ticks": ""
             }
            },
            "type": "scatter3d"
           }
          ],
          "scattercarpet": [
           {
            "marker": {
             "colorbar": {
              "outlinewidth": 0,
              "ticks": ""
             }
            },
            "type": "scattercarpet"
           }
          ],
          "scattergeo": [
           {
            "marker": {
             "colorbar": {
              "outlinewidth": 0,
              "ticks": ""
             }
            },
            "type": "scattergeo"
           }
          ],
          "scattergl": [
           {
            "marker": {
             "colorbar": {
              "outlinewidth": 0,
              "ticks": ""
             }
            },
            "type": "scattergl"
           }
          ],
          "scattermapbox": [
           {
            "marker": {
             "colorbar": {
              "outlinewidth": 0,
              "ticks": ""
             }
            },
            "type": "scattermapbox"
           }
          ],
          "scatterpolar": [
           {
            "marker": {
             "colorbar": {
              "outlinewidth": 0,
              "ticks": ""
             }
            },
            "type": "scatterpolar"
           }
          ],
          "scatterpolargl": [
           {
            "marker": {
             "colorbar": {
              "outlinewidth": 0,
              "ticks": ""
             }
            },
            "type": "scatterpolargl"
           }
          ],
          "scatterternary": [
           {
            "marker": {
             "colorbar": {
              "outlinewidth": 0,
              "ticks": ""
             }
            },
            "type": "scatterternary"
           }
          ],
          "surface": [
           {
            "colorbar": {
             "outlinewidth": 0,
             "ticks": ""
            },
            "colorscale": [
             [
              0,
              "#0d0887"
             ],
             [
              0.1111111111111111,
              "#46039f"
             ],
             [
              0.2222222222222222,
              "#7201a8"
             ],
             [
              0.3333333333333333,
              "#9c179e"
             ],
             [
              0.4444444444444444,
              "#bd3786"
             ],
             [
              0.5555555555555556,
              "#d8576b"
             ],
             [
              0.6666666666666666,
              "#ed7953"
             ],
             [
              0.7777777777777778,
              "#fb9f3a"
             ],
             [
              0.8888888888888888,
              "#fdca26"
             ],
             [
              1,
              "#f0f921"
             ]
            ],
            "type": "surface"
           }
          ],
          "table": [
           {
            "cells": {
             "fill": {
              "color": "#EBF0F8"
             },
             "line": {
              "color": "white"
             }
            },
            "header": {
             "fill": {
              "color": "#C8D4E3"
             },
             "line": {
              "color": "white"
             }
            },
            "type": "table"
           }
          ]
         },
         "layout": {
          "annotationdefaults": {
           "arrowcolor": "#2a3f5f",
           "arrowhead": 0,
           "arrowwidth": 1
          },
          "autotypenumbers": "strict",
          "coloraxis": {
           "colorbar": {
            "outlinewidth": 0,
            "ticks": ""
           }
          },
          "colorscale": {
           "diverging": [
            [
             0,
             "#8e0152"
            ],
            [
             0.1,
             "#c51b7d"
            ],
            [
             0.2,
             "#de77ae"
            ],
            [
             0.3,
             "#f1b6da"
            ],
            [
             0.4,
             "#fde0ef"
            ],
            [
             0.5,
             "#f7f7f7"
            ],
            [
             0.6,
             "#e6f5d0"
            ],
            [
             0.7,
             "#b8e186"
            ],
            [
             0.8,
             "#7fbc41"
            ],
            [
             0.9,
             "#4d9221"
            ],
            [
             1,
             "#276419"
            ]
           ],
           "sequential": [
            [
             0,
             "#0d0887"
            ],
            [
             0.1111111111111111,
             "#46039f"
            ],
            [
             0.2222222222222222,
             "#7201a8"
            ],
            [
             0.3333333333333333,
             "#9c179e"
            ],
            [
             0.4444444444444444,
             "#bd3786"
            ],
            [
             0.5555555555555556,
             "#d8576b"
            ],
            [
             0.6666666666666666,
             "#ed7953"
            ],
            [
             0.7777777777777778,
             "#fb9f3a"
            ],
            [
             0.8888888888888888,
             "#fdca26"
            ],
            [
             1,
             "#f0f921"
            ]
           ],
           "sequentialminus": [
            [
             0,
             "#0d0887"
            ],
            [
             0.1111111111111111,
             "#46039f"
            ],
            [
             0.2222222222222222,
             "#7201a8"
            ],
            [
             0.3333333333333333,
             "#9c179e"
            ],
            [
             0.4444444444444444,
             "#bd3786"
            ],
            [
             0.5555555555555556,
             "#d8576b"
            ],
            [
             0.6666666666666666,
             "#ed7953"
            ],
            [
             0.7777777777777778,
             "#fb9f3a"
            ],
            [
             0.8888888888888888,
             "#fdca26"
            ],
            [
             1,
             "#f0f921"
            ]
           ]
          },
          "colorway": [
           "#636efa",
           "#EF553B",
           "#00cc96",
           "#ab63fa",
           "#FFA15A",
           "#19d3f3",
           "#FF6692",
           "#B6E880",
           "#FF97FF",
           "#FECB52"
          ],
          "font": {
           "color": "#2a3f5f"
          },
          "geo": {
           "bgcolor": "white",
           "lakecolor": "white",
           "landcolor": "#E5ECF6",
           "showlakes": true,
           "showland": true,
           "subunitcolor": "white"
          },
          "hoverlabel": {
           "align": "left"
          },
          "hovermode": "closest",
          "mapbox": {
           "style": "light"
          },
          "paper_bgcolor": "white",
          "plot_bgcolor": "#E5ECF6",
          "polar": {
           "angularaxis": {
            "gridcolor": "white",
            "linecolor": "white",
            "ticks": ""
           },
           "bgcolor": "#E5ECF6",
           "radialaxis": {
            "gridcolor": "white",
            "linecolor": "white",
            "ticks": ""
           }
          },
          "scene": {
           "xaxis": {
            "backgroundcolor": "#E5ECF6",
            "gridcolor": "white",
            "gridwidth": 2,
            "linecolor": "white",
            "showbackground": true,
            "ticks": "",
            "zerolinecolor": "white"
           },
           "yaxis": {
            "backgroundcolor": "#E5ECF6",
            "gridcolor": "white",
            "gridwidth": 2,
            "linecolor": "white",
            "showbackground": true,
            "ticks": "",
            "zerolinecolor": "white"
           },
           "zaxis": {
            "backgroundcolor": "#E5ECF6",
            "gridcolor": "white",
            "gridwidth": 2,
            "linecolor": "white",
            "showbackground": true,
            "ticks": "",
            "zerolinecolor": "white"
           }
          },
          "shapedefaults": {
           "line": {
            "color": "#2a3f5f"
           }
          },
          "ternary": {
           "aaxis": {
            "gridcolor": "white",
            "linecolor": "white",
            "ticks": ""
           },
           "baxis": {
            "gridcolor": "white",
            "linecolor": "white",
            "ticks": ""
           },
           "bgcolor": "#E5ECF6",
           "caxis": {
            "gridcolor": "white",
            "linecolor": "white",
            "ticks": ""
           }
          },
          "title": {
           "x": 0.05
          },
          "xaxis": {
           "automargin": true,
           "gridcolor": "white",
           "linecolor": "white",
           "ticks": "",
           "title": {
            "standoff": 15
           },
           "zerolinecolor": "white",
           "zerolinewidth": 2
          },
          "yaxis": {
           "automargin": true,
           "gridcolor": "white",
           "linecolor": "white",
           "ticks": "",
           "title": {
            "standoff": 15
           },
           "zerolinecolor": "white",
           "zerolinewidth": 2
          }
         }
        },
        "width": 900,
        "xaxis": {
         "gridcolor": "#1f292f",
         "nticks": 5,
         "rangeslider": {
          "visible": false
         },
         "type": "category"
        },
        "yaxis": {
         "gridcolor": "#1f292f"
        }
       }
      }
     },
     "metadata": {},
     "output_type": "display_data"
    },
    {
     "name": "stdout",
     "output_type": "stream",
     "text": [
      "CAD_JPY 780\n"
     ]
    },
    {
     "data": {
      "application/vnd.plotly.v1+json": {
       "config": {
        "plotlyServerURL": "https://plot.ly"
       },
       "data": [
        {
         "line": {
          "shape": "spline",
          "width": 2
         },
         "name": "Gain_C",
         "type": "scatter",
         "x": [
          "2023-06-01T03:00:00+00:00",
          "2023-06-05T21:00:00+00:00",
          "2023-06-06T18:00:00+00:00",
          "2023-06-07T07:00:00+00:00",
          "2023-06-07T14:00:00+00:00",
          "2023-06-08T16:00:00+00:00",
          "2023-06-09T10:00:00+00:00",
          "2023-06-12T17:00:00+00:00",
          "2023-06-13T13:00:00+00:00",
          "2023-06-14T19:00:00+00:00",
          "2023-06-15T02:00:00+00:00",
          "2023-06-20T04:00:00+00:00",
          "2023-06-21T08:00:00+00:00",
          "2023-06-28T01:00:00+00:00",
          "2023-06-29T15:00:00+00:00",
          "2023-06-30T18:00:00+00:00",
          "2023-07-03T10:00:00+00:00",
          "2023-07-05T08:00:00+00:00",
          "2023-07-13T17:00:00+00:00",
          "2023-07-14T20:00:00+00:00",
          "2023-07-17T18:00:00+00:00",
          "2023-07-18T08:00:00+00:00",
          "2023-07-18T18:00:00+00:00",
          "2023-07-25T16:00:00+00:00",
          "2023-07-27T14:00:00+00:00",
          "2023-07-27T20:00:00+00:00",
          "2023-07-28T18:00:00+00:00",
          "2023-08-01T23:00:00+00:00",
          "2023-08-07T17:00:00+00:00",
          "2023-08-08T14:00:00+00:00",
          "2023-08-08T21:00:00+00:00",
          "2023-08-15T16:00:00+00:00",
          "2023-08-16T17:00:00+00:00",
          "2023-08-17T19:00:00+00:00",
          "2023-08-21T09:00:00+00:00",
          "2023-08-22T14:00:00+00:00",
          "2023-08-24T09:00:00+00:00",
          "2023-08-29T06:00:00+00:00",
          "2023-08-29T12:00:00+00:00",
          "2023-08-29T16:00:00+00:00",
          "2023-08-30T06:00:00+00:00",
          "2023-08-31T09:00:00+00:00",
          "2023-09-04T08:00:00+00:00",
          "2023-09-06T11:00:00+00:00",
          "2023-09-06T20:00:00+00:00",
          "2023-09-07T10:00:00+00:00",
          "2023-09-08T13:00:00+00:00",
          "2023-09-11T05:00:00+00:00",
          "2023-09-12T02:00:00+00:00",
          "2023-09-21T06:00:00+00:00",
          "2023-09-22T07:00:00+00:00",
          "2023-09-26T14:00:00+00:00",
          "2023-09-27T15:00:00+00:00",
          "2023-09-29T01:00:00+00:00",
          "2023-09-29T03:00:00+00:00",
          "2023-09-29T18:00:00+00:00",
          "2023-10-06T02:00:00+00:00",
          "2023-10-12T19:00:00+00:00",
          "2023-10-15T23:00:00+00:00",
          "2023-10-17T13:00:00+00:00",
          "2023-10-17T23:00:00+00:00",
          "2023-10-18T00:00:00+00:00",
          "2023-10-18T09:00:00+00:00",
          "2023-10-18T14:00:00+00:00",
          "2023-10-20T05:00:00+00:00",
          "2023-10-23T03:00:00+00:00",
          "2023-10-23T17:00:00+00:00",
          "2023-10-24T01:00:00+00:00",
          "2023-10-24T04:00:00+00:00",
          "2023-10-24T13:00:00+00:00",
          "2023-10-26T11:00:00+00:00",
          "2023-10-26T13:00:00+00:00",
          "2023-10-31T04:00:00+00:00",
          "2023-11-01T17:00:00+00:00",
          "2023-11-02T16:00:00+00:00",
          "2023-11-07T08:00:00+00:00",
          "2023-11-08T15:00:00+00:00",
          "2023-11-08T16:00:00+00:00",
          "2023-11-08T19:00:00+00:00",
          "2023-11-14T08:00:00+00:00",
          "2023-11-15T01:00:00+00:00",
          "2023-11-16T15:00:00+00:00",
          "2023-11-21T21:00:00+00:00",
          "2023-11-24T06:00:00+00:00",
          "2023-11-24T12:00:00+00:00",
          "2023-11-27T08:00:00+00:00",
          "2023-11-28T14:00:00+00:00",
          "2023-11-28T17:00:00+00:00",
          "2023-11-30T15:00:00+00:00",
          "2023-12-03T22:00:00+00:00",
          "2023-12-05T02:00:00+00:00",
          "2023-12-05T05:00:00+00:00",
          "2023-12-06T11:00:00+00:00",
          "2023-12-06T23:00:00+00:00",
          "2023-12-08T18:00:00+00:00",
          "2023-12-12T09:00:00+00:00",
          "2023-12-13T13:00:00+00:00",
          "2023-12-13T16:00:00+00:00",
          "2023-12-15T02:00:00+00:00",
          "2023-12-20T13:00:00+00:00",
          "2023-12-22T10:00:00+00:00",
          "2023-12-27T19:00:00+00:00",
          "2023-12-29T15:00:00+00:00",
          "2023-12-29T18:00:00+00:00",
          "2024-01-02T10:00:00+00:00",
          "2024-01-02T16:00:00+00:00",
          "2024-01-03T09:00:00+00:00",
          "2024-01-07T23:00:00+00:00",
          "2024-01-09T23:00:00+00:00",
          "2024-01-11T22:00:00+00:00"
         ],
         "y": [
          96.5999999999994,
          56.59999999999883,
          29.49999999999875,
          -37.60000000000048,
          -95.49999999999983,
          -155.19999999999925,
          -178.19999999999823,
          -224.29999999999808,
          -215.7999999999987,
          -286.699999999999,
          -114.4999999999996,
          -106.49999999999977,
          54.000000000000625,
          22.400000000000375,
          0.49999999999954525,
          -19.600000000001216,
          -63.000000000000966,
          282.2000000000003,
          252.1000000000015,
          235.80000000000183,
          182.80000000000172,
          109.2000000000013,
          267.40000000000066,
          259.60000000000036,
          102.59999999999962,
          0.39999999999906777,
          124.99999999999858,
          239.19999999999817,
          206.69999999999789,
          149.09999999999712,
          258.1999999999965,
          248.7999999999957,
          205.39999999999452,
          184.0999999999937,
          165.99999999999397,
          191.79999999999495,
          219.59999999999553,
          184.39999999999515,
          124.99999999999432,
          80.79999999999359,
          64.59999999999297,
          63.59999999999246,
          91.4999999999921,
          59.3999999999923,
          30.099999999993088,
          6.7999999999941,
          -67.40000000000492,
          -123.00000000000466,
          64.39999999999486,
          50.19999999999527,
          76.39999999999532,
          47.599999999994225,
          53.19999999999396,
          41.19999999999351,
          -18.800000000007344,
          157.49999999999176,
          256.49999999999125,
          236.79999999999097,
          235.99999999999,
          227.69999999999015,
          224.39999999999145,
          200.5999999999915,
          149.899999999991,
          161.19999999999095,
          162.99999999999102,
          150.199999999991,
          138.9999999999901,
          125.39999999998912,
          98.79999999998859,
          129.0999999999883,
          108.99999999998897,
          134.69999999998947,
          172.49999999998948,
          129.59999999998928,
          155.1999999999893,
          171.69999999998993,
          165.79999999999018,
          149.39999999999003,
          180.1999999999893,
          165.39999999998827,
          122.99999999998761,
          239.39999999998776,
          313.1999999999877,
          283.59999999998706,
          281.3999999999865,
          300.9999999999863,
          258.59999999998706,
          227.7999999999878,
          194.19999999998794,
          200.19999999998817,
          186.79999999998813,
          174.49999999998766,
          144.39999999998747,
          308.29999999998705,
          362.1999999999872,
          369.19999999998794,
          356.0999999999879,
          446.49999999998755,
          583.5999999999871,
          623.8999999999862,
          657.9999999999857,
          703.599999999986,
          659.5999999999863,
          617.9999999999866,
          587.3999999999869,
          543.3999999999871,
          671.3999999999872,
          716.4999999999866,
          780.4999999999866,
          780.4999999999866
         ]
        }
       ],
       "layout": {
        "font": {
         "color": "#e1e1e1",
         "size": 8
        },
        "height": 400,
        "margin": {
         "b": 10,
         "l": 10,
         "r": 10,
         "t": 10
        },
        "paper_bgcolor": "#2c303c",
        "plot_bgcolor": "#2c303c",
        "template": {
         "data": {
          "bar": [
           {
            "error_x": {
             "color": "#2a3f5f"
            },
            "error_y": {
             "color": "#2a3f5f"
            },
            "marker": {
             "line": {
              "color": "#E5ECF6",
              "width": 0.5
             },
             "pattern": {
              "fillmode": "overlay",
              "size": 10,
              "solidity": 0.2
             }
            },
            "type": "bar"
           }
          ],
          "barpolar": [
           {
            "marker": {
             "line": {
              "color": "#E5ECF6",
              "width": 0.5
             },
             "pattern": {
              "fillmode": "overlay",
              "size": 10,
              "solidity": 0.2
             }
            },
            "type": "barpolar"
           }
          ],
          "carpet": [
           {
            "aaxis": {
             "endlinecolor": "#2a3f5f",
             "gridcolor": "white",
             "linecolor": "white",
             "minorgridcolor": "white",
             "startlinecolor": "#2a3f5f"
            },
            "baxis": {
             "endlinecolor": "#2a3f5f",
             "gridcolor": "white",
             "linecolor": "white",
             "minorgridcolor": "white",
             "startlinecolor": "#2a3f5f"
            },
            "type": "carpet"
           }
          ],
          "choropleth": [
           {
            "colorbar": {
             "outlinewidth": 0,
             "ticks": ""
            },
            "type": "choropleth"
           }
          ],
          "contour": [
           {
            "colorbar": {
             "outlinewidth": 0,
             "ticks": ""
            },
            "colorscale": [
             [
              0,
              "#0d0887"
             ],
             [
              0.1111111111111111,
              "#46039f"
             ],
             [
              0.2222222222222222,
              "#7201a8"
             ],
             [
              0.3333333333333333,
              "#9c179e"
             ],
             [
              0.4444444444444444,
              "#bd3786"
             ],
             [
              0.5555555555555556,
              "#d8576b"
             ],
             [
              0.6666666666666666,
              "#ed7953"
             ],
             [
              0.7777777777777778,
              "#fb9f3a"
             ],
             [
              0.8888888888888888,
              "#fdca26"
             ],
             [
              1,
              "#f0f921"
             ]
            ],
            "type": "contour"
           }
          ],
          "contourcarpet": [
           {
            "colorbar": {
             "outlinewidth": 0,
             "ticks": ""
            },
            "type": "contourcarpet"
           }
          ],
          "heatmap": [
           {
            "colorbar": {
             "outlinewidth": 0,
             "ticks": ""
            },
            "colorscale": [
             [
              0,
              "#0d0887"
             ],
             [
              0.1111111111111111,
              "#46039f"
             ],
             [
              0.2222222222222222,
              "#7201a8"
             ],
             [
              0.3333333333333333,
              "#9c179e"
             ],
             [
              0.4444444444444444,
              "#bd3786"
             ],
             [
              0.5555555555555556,
              "#d8576b"
             ],
             [
              0.6666666666666666,
              "#ed7953"
             ],
             [
              0.7777777777777778,
              "#fb9f3a"
             ],
             [
              0.8888888888888888,
              "#fdca26"
             ],
             [
              1,
              "#f0f921"
             ]
            ],
            "type": "heatmap"
           }
          ],
          "heatmapgl": [
           {
            "colorbar": {
             "outlinewidth": 0,
             "ticks": ""
            },
            "colorscale": [
             [
              0,
              "#0d0887"
             ],
             [
              0.1111111111111111,
              "#46039f"
             ],
             [
              0.2222222222222222,
              "#7201a8"
             ],
             [
              0.3333333333333333,
              "#9c179e"
             ],
             [
              0.4444444444444444,
              "#bd3786"
             ],
             [
              0.5555555555555556,
              "#d8576b"
             ],
             [
              0.6666666666666666,
              "#ed7953"
             ],
             [
              0.7777777777777778,
              "#fb9f3a"
             ],
             [
              0.8888888888888888,
              "#fdca26"
             ],
             [
              1,
              "#f0f921"
             ]
            ],
            "type": "heatmapgl"
           }
          ],
          "histogram": [
           {
            "marker": {
             "pattern": {
              "fillmode": "overlay",
              "size": 10,
              "solidity": 0.2
             }
            },
            "type": "histogram"
           }
          ],
          "histogram2d": [
           {
            "colorbar": {
             "outlinewidth": 0,
             "ticks": ""
            },
            "colorscale": [
             [
              0,
              "#0d0887"
             ],
             [
              0.1111111111111111,
              "#46039f"
             ],
             [
              0.2222222222222222,
              "#7201a8"
             ],
             [
              0.3333333333333333,
              "#9c179e"
             ],
             [
              0.4444444444444444,
              "#bd3786"
             ],
             [
              0.5555555555555556,
              "#d8576b"
             ],
             [
              0.6666666666666666,
              "#ed7953"
             ],
             [
              0.7777777777777778,
              "#fb9f3a"
             ],
             [
              0.8888888888888888,
              "#fdca26"
             ],
             [
              1,
              "#f0f921"
             ]
            ],
            "type": "histogram2d"
           }
          ],
          "histogram2dcontour": [
           {
            "colorbar": {
             "outlinewidth": 0,
             "ticks": ""
            },
            "colorscale": [
             [
              0,
              "#0d0887"
             ],
             [
              0.1111111111111111,
              "#46039f"
             ],
             [
              0.2222222222222222,
              "#7201a8"
             ],
             [
              0.3333333333333333,
              "#9c179e"
             ],
             [
              0.4444444444444444,
              "#bd3786"
             ],
             [
              0.5555555555555556,
              "#d8576b"
             ],
             [
              0.6666666666666666,
              "#ed7953"
             ],
             [
              0.7777777777777778,
              "#fb9f3a"
             ],
             [
              0.8888888888888888,
              "#fdca26"
             ],
             [
              1,
              "#f0f921"
             ]
            ],
            "type": "histogram2dcontour"
           }
          ],
          "mesh3d": [
           {
            "colorbar": {
             "outlinewidth": 0,
             "ticks": ""
            },
            "type": "mesh3d"
           }
          ],
          "parcoords": [
           {
            "line": {
             "colorbar": {
              "outlinewidth": 0,
              "ticks": ""
             }
            },
            "type": "parcoords"
           }
          ],
          "pie": [
           {
            "automargin": true,
            "type": "pie"
           }
          ],
          "scatter": [
           {
            "fillpattern": {
             "fillmode": "overlay",
             "size": 10,
             "solidity": 0.2
            },
            "type": "scatter"
           }
          ],
          "scatter3d": [
           {
            "line": {
             "colorbar": {
              "outlinewidth": 0,
              "ticks": ""
             }
            },
            "marker": {
             "colorbar": {
              "outlinewidth": 0,
              "ticks": ""
             }
            },
            "type": "scatter3d"
           }
          ],
          "scattercarpet": [
           {
            "marker": {
             "colorbar": {
              "outlinewidth": 0,
              "ticks": ""
             }
            },
            "type": "scattercarpet"
           }
          ],
          "scattergeo": [
           {
            "marker": {
             "colorbar": {
              "outlinewidth": 0,
              "ticks": ""
             }
            },
            "type": "scattergeo"
           }
          ],
          "scattergl": [
           {
            "marker": {
             "colorbar": {
              "outlinewidth": 0,
              "ticks": ""
             }
            },
            "type": "scattergl"
           }
          ],
          "scattermapbox": [
           {
            "marker": {
             "colorbar": {
              "outlinewidth": 0,
              "ticks": ""
             }
            },
            "type": "scattermapbox"
           }
          ],
          "scatterpolar": [
           {
            "marker": {
             "colorbar": {
              "outlinewidth": 0,
              "ticks": ""
             }
            },
            "type": "scatterpolar"
           }
          ],
          "scatterpolargl": [
           {
            "marker": {
             "colorbar": {
              "outlinewidth": 0,
              "ticks": ""
             }
            },
            "type": "scatterpolargl"
           }
          ],
          "scatterternary": [
           {
            "marker": {
             "colorbar": {
              "outlinewidth": 0,
              "ticks": ""
             }
            },
            "type": "scatterternary"
           }
          ],
          "surface": [
           {
            "colorbar": {
             "outlinewidth": 0,
             "ticks": ""
            },
            "colorscale": [
             [
              0,
              "#0d0887"
             ],
             [
              0.1111111111111111,
              "#46039f"
             ],
             [
              0.2222222222222222,
              "#7201a8"
             ],
             [
              0.3333333333333333,
              "#9c179e"
             ],
             [
              0.4444444444444444,
              "#bd3786"
             ],
             [
              0.5555555555555556,
              "#d8576b"
             ],
             [
              0.6666666666666666,
              "#ed7953"
             ],
             [
              0.7777777777777778,
              "#fb9f3a"
             ],
             [
              0.8888888888888888,
              "#fdca26"
             ],
             [
              1,
              "#f0f921"
             ]
            ],
            "type": "surface"
           }
          ],
          "table": [
           {
            "cells": {
             "fill": {
              "color": "#EBF0F8"
             },
             "line": {
              "color": "white"
             }
            },
            "header": {
             "fill": {
              "color": "#C8D4E3"
             },
             "line": {
              "color": "white"
             }
            },
            "type": "table"
           }
          ]
         },
         "layout": {
          "annotationdefaults": {
           "arrowcolor": "#2a3f5f",
           "arrowhead": 0,
           "arrowwidth": 1
          },
          "autotypenumbers": "strict",
          "coloraxis": {
           "colorbar": {
            "outlinewidth": 0,
            "ticks": ""
           }
          },
          "colorscale": {
           "diverging": [
            [
             0,
             "#8e0152"
            ],
            [
             0.1,
             "#c51b7d"
            ],
            [
             0.2,
             "#de77ae"
            ],
            [
             0.3,
             "#f1b6da"
            ],
            [
             0.4,
             "#fde0ef"
            ],
            [
             0.5,
             "#f7f7f7"
            ],
            [
             0.6,
             "#e6f5d0"
            ],
            [
             0.7,
             "#b8e186"
            ],
            [
             0.8,
             "#7fbc41"
            ],
            [
             0.9,
             "#4d9221"
            ],
            [
             1,
             "#276419"
            ]
           ],
           "sequential": [
            [
             0,
             "#0d0887"
            ],
            [
             0.1111111111111111,
             "#46039f"
            ],
            [
             0.2222222222222222,
             "#7201a8"
            ],
            [
             0.3333333333333333,
             "#9c179e"
            ],
            [
             0.4444444444444444,
             "#bd3786"
            ],
            [
             0.5555555555555556,
             "#d8576b"
            ],
            [
             0.6666666666666666,
             "#ed7953"
            ],
            [
             0.7777777777777778,
             "#fb9f3a"
            ],
            [
             0.8888888888888888,
             "#fdca26"
            ],
            [
             1,
             "#f0f921"
            ]
           ],
           "sequentialminus": [
            [
             0,
             "#0d0887"
            ],
            [
             0.1111111111111111,
             "#46039f"
            ],
            [
             0.2222222222222222,
             "#7201a8"
            ],
            [
             0.3333333333333333,
             "#9c179e"
            ],
            [
             0.4444444444444444,
             "#bd3786"
            ],
            [
             0.5555555555555556,
             "#d8576b"
            ],
            [
             0.6666666666666666,
             "#ed7953"
            ],
            [
             0.7777777777777778,
             "#fb9f3a"
            ],
            [
             0.8888888888888888,
             "#fdca26"
            ],
            [
             1,
             "#f0f921"
            ]
           ]
          },
          "colorway": [
           "#636efa",
           "#EF553B",
           "#00cc96",
           "#ab63fa",
           "#FFA15A",
           "#19d3f3",
           "#FF6692",
           "#B6E880",
           "#FF97FF",
           "#FECB52"
          ],
          "font": {
           "color": "#2a3f5f"
          },
          "geo": {
           "bgcolor": "white",
           "lakecolor": "white",
           "landcolor": "#E5ECF6",
           "showlakes": true,
           "showland": true,
           "subunitcolor": "white"
          },
          "hoverlabel": {
           "align": "left"
          },
          "hovermode": "closest",
          "mapbox": {
           "style": "light"
          },
          "paper_bgcolor": "white",
          "plot_bgcolor": "#E5ECF6",
          "polar": {
           "angularaxis": {
            "gridcolor": "white",
            "linecolor": "white",
            "ticks": ""
           },
           "bgcolor": "#E5ECF6",
           "radialaxis": {
            "gridcolor": "white",
            "linecolor": "white",
            "ticks": ""
           }
          },
          "scene": {
           "xaxis": {
            "backgroundcolor": "#E5ECF6",
            "gridcolor": "white",
            "gridwidth": 2,
            "linecolor": "white",
            "showbackground": true,
            "ticks": "",
            "zerolinecolor": "white"
           },
           "yaxis": {
            "backgroundcolor": "#E5ECF6",
            "gridcolor": "white",
            "gridwidth": 2,
            "linecolor": "white",
            "showbackground": true,
            "ticks": "",
            "zerolinecolor": "white"
           },
           "zaxis": {
            "backgroundcolor": "#E5ECF6",
            "gridcolor": "white",
            "gridwidth": 2,
            "linecolor": "white",
            "showbackground": true,
            "ticks": "",
            "zerolinecolor": "white"
           }
          },
          "shapedefaults": {
           "line": {
            "color": "#2a3f5f"
           }
          },
          "ternary": {
           "aaxis": {
            "gridcolor": "white",
            "linecolor": "white",
            "ticks": ""
           },
           "baxis": {
            "gridcolor": "white",
            "linecolor": "white",
            "ticks": ""
           },
           "bgcolor": "#E5ECF6",
           "caxis": {
            "gridcolor": "white",
            "linecolor": "white",
            "ticks": ""
           }
          },
          "title": {
           "x": 0.05
          },
          "xaxis": {
           "automargin": true,
           "gridcolor": "white",
           "linecolor": "white",
           "ticks": "",
           "title": {
            "standoff": 15
           },
           "zerolinecolor": "white",
           "zerolinewidth": 2
          },
          "yaxis": {
           "automargin": true,
           "gridcolor": "white",
           "linecolor": "white",
           "ticks": "",
           "title": {
            "standoff": 15
           },
           "zerolinecolor": "white",
           "zerolinewidth": 2
          }
         }
        },
        "width": 900,
        "xaxis": {
         "gridcolor": "#1f292f",
         "nticks": 5,
         "rangeslider": {
          "visible": false
         },
         "type": "category"
        },
        "yaxis": {
         "gridcolor": "#1f292f"
        }
       }
      }
     },
     "metadata": {},
     "output_type": "display_data"
    },
    {
     "name": "stdout",
     "output_type": "stream",
     "text": [
      "AUD_USD 627\n"
     ]
    },
    {
     "data": {
      "application/vnd.plotly.v1+json": {
       "config": {
        "plotlyServerURL": "https://plot.ly"
       },
       "data": [
        {
         "line": {
          "shape": "spline",
          "width": 2
         },
         "name": "Gain_C",
         "type": "scatter",
         "x": [
          "2023-06-01T02:00:00+00:00",
          "2023-06-05T07:00:00+00:00",
          "2023-06-05T19:00:00+00:00",
          "2023-06-07T20:00:00+00:00",
          "2023-06-08T11:00:00+00:00",
          "2023-06-19T02:00:00+00:00",
          "2023-06-21T21:00:00+00:00",
          "2023-06-22T11:00:00+00:00",
          "2023-06-27T01:00:00+00:00",
          "2023-06-27T23:00:00+00:00",
          "2023-06-29T15:00:00+00:00",
          "2023-07-05T09:00:00+00:00",
          "2023-07-07T15:00:00+00:00",
          "2023-07-10T11:00:00+00:00",
          "2023-07-10T21:00:00+00:00",
          "2023-07-11T15:00:00+00:00",
          "2023-07-11T20:00:00+00:00",
          "2023-07-14T16:00:00+00:00",
          "2023-07-18T10:00:00+00:00",
          "2023-07-18T11:00:00+00:00",
          "2023-07-20T04:00:00+00:00",
          "2023-07-20T20:00:00+00:00",
          "2023-07-24T18:00:00+00:00",
          "2023-07-26T09:00:00+00:00",
          "2023-07-27T03:00:00+00:00",
          "2023-07-27T17:00:00+00:00",
          "2023-07-31T08:00:00+00:00",
          "2023-08-01T07:00:00+00:00",
          "2023-08-03T22:00:00+00:00",
          "2023-08-07T12:00:00+00:00",
          "2023-08-09T04:00:00+00:00",
          "2023-08-09T19:00:00+00:00",
          "2023-08-10T08:00:00+00:00",
          "2023-08-10T22:00:00+00:00",
          "2023-08-15T03:00:00+00:00",
          "2023-08-15T12:00:00+00:00",
          "2023-08-20T22:00:00+00:00",
          "2023-08-21T01:00:00+00:00",
          "2023-08-21T13:00:00+00:00",
          "2023-08-21T14:00:00+00:00",
          "2023-08-21T16:00:00+00:00",
          "2023-08-24T14:00:00+00:00",
          "2023-08-28T04:00:00+00:00",
          "2023-08-28T15:00:00+00:00",
          "2023-08-28T17:00:00+00:00",
          "2023-08-31T13:00:00+00:00",
          "2023-09-06T14:00:00+00:00",
          "2023-09-06T23:00:00+00:00",
          "2023-09-07T14:00:00+00:00",
          "2023-09-07T16:00:00+00:00",
          "2023-09-08T04:00:00+00:00",
          "2023-09-10T21:00:00+00:00",
          "2023-09-11T02:00:00+00:00",
          "2023-09-12T13:00:00+00:00",
          "2023-09-13T20:00:00+00:00",
          "2023-09-15T18:00:00+00:00",
          "2023-09-19T07:00:00+00:00",
          "2023-09-21T01:00:00+00:00",
          "2023-09-22T09:00:00+00:00",
          "2023-09-25T07:00:00+00:00",
          "2023-09-28T10:00:00+00:00",
          "2023-10-01T23:00:00+00:00",
          "2023-10-04T12:00:00+00:00",
          "2023-10-06T13:00:00+00:00",
          "2023-10-06T17:00:00+00:00",
          "2023-10-09T05:00:00+00:00",
          "2023-10-09T16:00:00+00:00",
          "2023-10-11T15:00:00+00:00",
          "2023-10-16T06:00:00+00:00",
          "2023-10-18T16:00:00+00:00",
          "2023-10-20T00:00:00+00:00",
          "2023-10-20T03:00:00+00:00",
          "2023-10-23T16:00:00+00:00",
          "2023-10-25T12:00:00+00:00",
          "2023-10-26T20:00:00+00:00",
          "2023-10-31T07:00:00+00:00",
          "2023-11-01T14:00:00+00:00",
          "2023-11-06T22:00:00+00:00",
          "2023-11-13T08:00:00+00:00",
          "2023-11-14T11:00:00+00:00",
          "2023-11-14T13:00:00+00:00",
          "2023-11-16T03:00:00+00:00",
          "2023-11-17T12:00:00+00:00",
          "2023-11-21T22:00:00+00:00",
          "2023-11-23T06:00:00+00:00",
          "2023-11-29T14:00:00+00:00",
          "2023-12-01T15:00:00+00:00",
          "2023-12-04T16:00:00+00:00",
          "2023-12-06T08:00:00+00:00",
          "2023-12-06T20:00:00+00:00",
          "2023-12-07T15:00:00+00:00",
          "2023-12-08T19:00:00+00:00",
          "2023-12-12T03:00:00+00:00",
          "2023-12-12T19:00:00+00:00",
          "2023-12-13T18:00:00+00:00",
          "2023-12-15T14:00:00+00:00",
          "2023-12-15T15:00:00+00:00",
          "2023-12-15T18:00:00+00:00",
          "2023-12-18T05:00:00+00:00",
          "2023-12-18T21:00:00+00:00",
          "2023-12-19T04:00:00+00:00",
          "2023-12-20T22:00:00+00:00",
          "2023-12-21T15:00:00+00:00",
          "2023-12-28T13:00:00+00:00",
          "2023-12-28T15:00:00+00:00",
          "2023-12-28T16:00:00+00:00",
          "2024-01-05T21:00:00+00:00",
          "2024-01-08T10:00:00+00:00",
          "2024-01-08T20:00:00+00:00",
          "2024-01-09T11:00:00+00:00",
          "2024-01-10T11:00:00+00:00",
          "2024-01-11T15:00:00+00:00",
          "2024-01-12T05:00:00+00:00",
          "2024-01-12T12:00:00+00:00",
          "2024-01-12T14:00:00+00:00",
          "2024-01-12T18:00:00+00:00"
         ],
         "y": [
          80.60000000000066,
          58.00000000000138,
          95.20000000000195,
          63.10000000000149,
          228.600000000001,
          283.7000000000011,
          273.90000000000134,
          349.600000000001,
          321.9000000000005,
          371.7999999999999,
          411.59999999999974,
          399.19999999999953,
          358.3999999999987,
          326.3999999999989,
          313.39999999999924,
          291.19999999999925,
          454.199999999999,
          486.19999999999885,
          474.99999999999875,
          447.7999999999982,
          394.59999999999826,
          431.69999999999817,
          449.59999999999775,
          399.8999999999975,
          321.7999999999976,
          359.5999999999977,
          310.79999999999774,
          398.3999999999987,
          421.7999999999988,
          447.599999999998,
          424.5999999999972,
          404.5999999999972,
          369.999999999997,
          379.999999999997,
          344.39999999999804,
          406.89999999999895,
          398.39999999999986,
          389.7000000000006,
          378.60000000000116,
          370.40000000000185,
          400.2000000000017,
          407.00000000000074,
          402.79999999999984,
          405.9999999999997,
          461.5999999999998,
          563.1999999999992,
          568.7999999999993,
          574.5,
          575,
          564.5,
          563.4000000000005,
          534.0000000000011,
          537.4000000000012,
          534.4000000000004,
          545.9999999999998,
          526.5999999999992,
          494.8999999999992,
          476.49999999999966,
          459.30000000000024,
          489.6000000000011,
          535.4000000000013,
          635.8000000000008,
          633.4000000000005,
          580.0000000000005,
          547.6000000000003,
          525.6000000000005,
          554.4000000000004,
          635.4999999999999,
          644.7999999999997,
          665,
          670.1999999999997,
          645.7999999999997,
          641.0000000000005,
          658.0000000000008,
          694.800000000001,
          671.8000000000013,
          780.3000000000015,
          898.3000000000019,
          894.6000000000021,
          821.7000000000019,
          847.2000000000013,
          813.600000000001,
          865.8000000000011,
          853.8000000000013,
          910.9000000000012,
          893.9000000000009,
          873.8000000000013,
          915.4000000000018,
          888.3000000000019,
          848.0000000000022,
          837.6000000000029,
          829.2000000000033,
          796.2000000000037,
          779.6000000000038,
          899.6000000000039,
          871.4000000000045,
          847.1000000000053,
          830.2000000000055,
          823.8000000000058,
          806.8000000000065,
          817.9000000000071,
          766.8000000000077,
          807.6000000000085,
          773.4000000000087,
          755.1000000000088,
          881.4000000000091,
          858.2000000000091,
          832.0000000000095,
          804.0000000000105,
          790.0000000000109,
          745.6000000000109,
          710.2000000000111,
          696.4000000000106,
          658.4000000000103,
          627.2000000000102,
          627.2000000000102
         ]
        }
       ],
       "layout": {
        "font": {
         "color": "#e1e1e1",
         "size": 8
        },
        "height": 400,
        "margin": {
         "b": 10,
         "l": 10,
         "r": 10,
         "t": 10
        },
        "paper_bgcolor": "#2c303c",
        "plot_bgcolor": "#2c303c",
        "template": {
         "data": {
          "bar": [
           {
            "error_x": {
             "color": "#2a3f5f"
            },
            "error_y": {
             "color": "#2a3f5f"
            },
            "marker": {
             "line": {
              "color": "#E5ECF6",
              "width": 0.5
             },
             "pattern": {
              "fillmode": "overlay",
              "size": 10,
              "solidity": 0.2
             }
            },
            "type": "bar"
           }
          ],
          "barpolar": [
           {
            "marker": {
             "line": {
              "color": "#E5ECF6",
              "width": 0.5
             },
             "pattern": {
              "fillmode": "overlay",
              "size": 10,
              "solidity": 0.2
             }
            },
            "type": "barpolar"
           }
          ],
          "carpet": [
           {
            "aaxis": {
             "endlinecolor": "#2a3f5f",
             "gridcolor": "white",
             "linecolor": "white",
             "minorgridcolor": "white",
             "startlinecolor": "#2a3f5f"
            },
            "baxis": {
             "endlinecolor": "#2a3f5f",
             "gridcolor": "white",
             "linecolor": "white",
             "minorgridcolor": "white",
             "startlinecolor": "#2a3f5f"
            },
            "type": "carpet"
           }
          ],
          "choropleth": [
           {
            "colorbar": {
             "outlinewidth": 0,
             "ticks": ""
            },
            "type": "choropleth"
           }
          ],
          "contour": [
           {
            "colorbar": {
             "outlinewidth": 0,
             "ticks": ""
            },
            "colorscale": [
             [
              0,
              "#0d0887"
             ],
             [
              0.1111111111111111,
              "#46039f"
             ],
             [
              0.2222222222222222,
              "#7201a8"
             ],
             [
              0.3333333333333333,
              "#9c179e"
             ],
             [
              0.4444444444444444,
              "#bd3786"
             ],
             [
              0.5555555555555556,
              "#d8576b"
             ],
             [
              0.6666666666666666,
              "#ed7953"
             ],
             [
              0.7777777777777778,
              "#fb9f3a"
             ],
             [
              0.8888888888888888,
              "#fdca26"
             ],
             [
              1,
              "#f0f921"
             ]
            ],
            "type": "contour"
           }
          ],
          "contourcarpet": [
           {
            "colorbar": {
             "outlinewidth": 0,
             "ticks": ""
            },
            "type": "contourcarpet"
           }
          ],
          "heatmap": [
           {
            "colorbar": {
             "outlinewidth": 0,
             "ticks": ""
            },
            "colorscale": [
             [
              0,
              "#0d0887"
             ],
             [
              0.1111111111111111,
              "#46039f"
             ],
             [
              0.2222222222222222,
              "#7201a8"
             ],
             [
              0.3333333333333333,
              "#9c179e"
             ],
             [
              0.4444444444444444,
              "#bd3786"
             ],
             [
              0.5555555555555556,
              "#d8576b"
             ],
             [
              0.6666666666666666,
              "#ed7953"
             ],
             [
              0.7777777777777778,
              "#fb9f3a"
             ],
             [
              0.8888888888888888,
              "#fdca26"
             ],
             [
              1,
              "#f0f921"
             ]
            ],
            "type": "heatmap"
           }
          ],
          "heatmapgl": [
           {
            "colorbar": {
             "outlinewidth": 0,
             "ticks": ""
            },
            "colorscale": [
             [
              0,
              "#0d0887"
             ],
             [
              0.1111111111111111,
              "#46039f"
             ],
             [
              0.2222222222222222,
              "#7201a8"
             ],
             [
              0.3333333333333333,
              "#9c179e"
             ],
             [
              0.4444444444444444,
              "#bd3786"
             ],
             [
              0.5555555555555556,
              "#d8576b"
             ],
             [
              0.6666666666666666,
              "#ed7953"
             ],
             [
              0.7777777777777778,
              "#fb9f3a"
             ],
             [
              0.8888888888888888,
              "#fdca26"
             ],
             [
              1,
              "#f0f921"
             ]
            ],
            "type": "heatmapgl"
           }
          ],
          "histogram": [
           {
            "marker": {
             "pattern": {
              "fillmode": "overlay",
              "size": 10,
              "solidity": 0.2
             }
            },
            "type": "histogram"
           }
          ],
          "histogram2d": [
           {
            "colorbar": {
             "outlinewidth": 0,
             "ticks": ""
            },
            "colorscale": [
             [
              0,
              "#0d0887"
             ],
             [
              0.1111111111111111,
              "#46039f"
             ],
             [
              0.2222222222222222,
              "#7201a8"
             ],
             [
              0.3333333333333333,
              "#9c179e"
             ],
             [
              0.4444444444444444,
              "#bd3786"
             ],
             [
              0.5555555555555556,
              "#d8576b"
             ],
             [
              0.6666666666666666,
              "#ed7953"
             ],
             [
              0.7777777777777778,
              "#fb9f3a"
             ],
             [
              0.8888888888888888,
              "#fdca26"
             ],
             [
              1,
              "#f0f921"
             ]
            ],
            "type": "histogram2d"
           }
          ],
          "histogram2dcontour": [
           {
            "colorbar": {
             "outlinewidth": 0,
             "ticks": ""
            },
            "colorscale": [
             [
              0,
              "#0d0887"
             ],
             [
              0.1111111111111111,
              "#46039f"
             ],
             [
              0.2222222222222222,
              "#7201a8"
             ],
             [
              0.3333333333333333,
              "#9c179e"
             ],
             [
              0.4444444444444444,
              "#bd3786"
             ],
             [
              0.5555555555555556,
              "#d8576b"
             ],
             [
              0.6666666666666666,
              "#ed7953"
             ],
             [
              0.7777777777777778,
              "#fb9f3a"
             ],
             [
              0.8888888888888888,
              "#fdca26"
             ],
             [
              1,
              "#f0f921"
             ]
            ],
            "type": "histogram2dcontour"
           }
          ],
          "mesh3d": [
           {
            "colorbar": {
             "outlinewidth": 0,
             "ticks": ""
            },
            "type": "mesh3d"
           }
          ],
          "parcoords": [
           {
            "line": {
             "colorbar": {
              "outlinewidth": 0,
              "ticks": ""
             }
            },
            "type": "parcoords"
           }
          ],
          "pie": [
           {
            "automargin": true,
            "type": "pie"
           }
          ],
          "scatter": [
           {
            "fillpattern": {
             "fillmode": "overlay",
             "size": 10,
             "solidity": 0.2
            },
            "type": "scatter"
           }
          ],
          "scatter3d": [
           {
            "line": {
             "colorbar": {
              "outlinewidth": 0,
              "ticks": ""
             }
            },
            "marker": {
             "colorbar": {
              "outlinewidth": 0,
              "ticks": ""
             }
            },
            "type": "scatter3d"
           }
          ],
          "scattercarpet": [
           {
            "marker": {
             "colorbar": {
              "outlinewidth": 0,
              "ticks": ""
             }
            },
            "type": "scattercarpet"
           }
          ],
          "scattergeo": [
           {
            "marker": {
             "colorbar": {
              "outlinewidth": 0,
              "ticks": ""
             }
            },
            "type": "scattergeo"
           }
          ],
          "scattergl": [
           {
            "marker": {
             "colorbar": {
              "outlinewidth": 0,
              "ticks": ""
             }
            },
            "type": "scattergl"
           }
          ],
          "scattermapbox": [
           {
            "marker": {
             "colorbar": {
              "outlinewidth": 0,
              "ticks": ""
             }
            },
            "type": "scattermapbox"
           }
          ],
          "scatterpolar": [
           {
            "marker": {
             "colorbar": {
              "outlinewidth": 0,
              "ticks": ""
             }
            },
            "type": "scatterpolar"
           }
          ],
          "scatterpolargl": [
           {
            "marker": {
             "colorbar": {
              "outlinewidth": 0,
              "ticks": ""
             }
            },
            "type": "scatterpolargl"
           }
          ],
          "scatterternary": [
           {
            "marker": {
             "colorbar": {
              "outlinewidth": 0,
              "ticks": ""
             }
            },
            "type": "scatterternary"
           }
          ],
          "surface": [
           {
            "colorbar": {
             "outlinewidth": 0,
             "ticks": ""
            },
            "colorscale": [
             [
              0,
              "#0d0887"
             ],
             [
              0.1111111111111111,
              "#46039f"
             ],
             [
              0.2222222222222222,
              "#7201a8"
             ],
             [
              0.3333333333333333,
              "#9c179e"
             ],
             [
              0.4444444444444444,
              "#bd3786"
             ],
             [
              0.5555555555555556,
              "#d8576b"
             ],
             [
              0.6666666666666666,
              "#ed7953"
             ],
             [
              0.7777777777777778,
              "#fb9f3a"
             ],
             [
              0.8888888888888888,
              "#fdca26"
             ],
             [
              1,
              "#f0f921"
             ]
            ],
            "type": "surface"
           }
          ],
          "table": [
           {
            "cells": {
             "fill": {
              "color": "#EBF0F8"
             },
             "line": {
              "color": "white"
             }
            },
            "header": {
             "fill": {
              "color": "#C8D4E3"
             },
             "line": {
              "color": "white"
             }
            },
            "type": "table"
           }
          ]
         },
         "layout": {
          "annotationdefaults": {
           "arrowcolor": "#2a3f5f",
           "arrowhead": 0,
           "arrowwidth": 1
          },
          "autotypenumbers": "strict",
          "coloraxis": {
           "colorbar": {
            "outlinewidth": 0,
            "ticks": ""
           }
          },
          "colorscale": {
           "diverging": [
            [
             0,
             "#8e0152"
            ],
            [
             0.1,
             "#c51b7d"
            ],
            [
             0.2,
             "#de77ae"
            ],
            [
             0.3,
             "#f1b6da"
            ],
            [
             0.4,
             "#fde0ef"
            ],
            [
             0.5,
             "#f7f7f7"
            ],
            [
             0.6,
             "#e6f5d0"
            ],
            [
             0.7,
             "#b8e186"
            ],
            [
             0.8,
             "#7fbc41"
            ],
            [
             0.9,
             "#4d9221"
            ],
            [
             1,
             "#276419"
            ]
           ],
           "sequential": [
            [
             0,
             "#0d0887"
            ],
            [
             0.1111111111111111,
             "#46039f"
            ],
            [
             0.2222222222222222,
             "#7201a8"
            ],
            [
             0.3333333333333333,
             "#9c179e"
            ],
            [
             0.4444444444444444,
             "#bd3786"
            ],
            [
             0.5555555555555556,
             "#d8576b"
            ],
            [
             0.6666666666666666,
             "#ed7953"
            ],
            [
             0.7777777777777778,
             "#fb9f3a"
            ],
            [
             0.8888888888888888,
             "#fdca26"
            ],
            [
             1,
             "#f0f921"
            ]
           ],
           "sequentialminus": [
            [
             0,
             "#0d0887"
            ],
            [
             0.1111111111111111,
             "#46039f"
            ],
            [
             0.2222222222222222,
             "#7201a8"
            ],
            [
             0.3333333333333333,
             "#9c179e"
            ],
            [
             0.4444444444444444,
             "#bd3786"
            ],
            [
             0.5555555555555556,
             "#d8576b"
            ],
            [
             0.6666666666666666,
             "#ed7953"
            ],
            [
             0.7777777777777778,
             "#fb9f3a"
            ],
            [
             0.8888888888888888,
             "#fdca26"
            ],
            [
             1,
             "#f0f921"
            ]
           ]
          },
          "colorway": [
           "#636efa",
           "#EF553B",
           "#00cc96",
           "#ab63fa",
           "#FFA15A",
           "#19d3f3",
           "#FF6692",
           "#B6E880",
           "#FF97FF",
           "#FECB52"
          ],
          "font": {
           "color": "#2a3f5f"
          },
          "geo": {
           "bgcolor": "white",
           "lakecolor": "white",
           "landcolor": "#E5ECF6",
           "showlakes": true,
           "showland": true,
           "subunitcolor": "white"
          },
          "hoverlabel": {
           "align": "left"
          },
          "hovermode": "closest",
          "mapbox": {
           "style": "light"
          },
          "paper_bgcolor": "white",
          "plot_bgcolor": "#E5ECF6",
          "polar": {
           "angularaxis": {
            "gridcolor": "white",
            "linecolor": "white",
            "ticks": ""
           },
           "bgcolor": "#E5ECF6",
           "radialaxis": {
            "gridcolor": "white",
            "linecolor": "white",
            "ticks": ""
           }
          },
          "scene": {
           "xaxis": {
            "backgroundcolor": "#E5ECF6",
            "gridcolor": "white",
            "gridwidth": 2,
            "linecolor": "white",
            "showbackground": true,
            "ticks": "",
            "zerolinecolor": "white"
           },
           "yaxis": {
            "backgroundcolor": "#E5ECF6",
            "gridcolor": "white",
            "gridwidth": 2,
            "linecolor": "white",
            "showbackground": true,
            "ticks": "",
            "zerolinecolor": "white"
           },
           "zaxis": {
            "backgroundcolor": "#E5ECF6",
            "gridcolor": "white",
            "gridwidth": 2,
            "linecolor": "white",
            "showbackground": true,
            "ticks": "",
            "zerolinecolor": "white"
           }
          },
          "shapedefaults": {
           "line": {
            "color": "#2a3f5f"
           }
          },
          "ternary": {
           "aaxis": {
            "gridcolor": "white",
            "linecolor": "white",
            "ticks": ""
           },
           "baxis": {
            "gridcolor": "white",
            "linecolor": "white",
            "ticks": ""
           },
           "bgcolor": "#E5ECF6",
           "caxis": {
            "gridcolor": "white",
            "linecolor": "white",
            "ticks": ""
           }
          },
          "title": {
           "x": 0.05
          },
          "xaxis": {
           "automargin": true,
           "gridcolor": "white",
           "linecolor": "white",
           "ticks": "",
           "title": {
            "standoff": 15
           },
           "zerolinecolor": "white",
           "zerolinewidth": 2
          },
          "yaxis": {
           "automargin": true,
           "gridcolor": "white",
           "linecolor": "white",
           "ticks": "",
           "title": {
            "standoff": 15
           },
           "zerolinecolor": "white",
           "zerolinewidth": 2
          }
         }
        },
        "width": 900,
        "xaxis": {
         "gridcolor": "#1f292f",
         "nticks": 5,
         "rangeslider": {
          "visible": false
         },
         "type": "category"
        },
        "yaxis": {
         "gridcolor": "#1f292f"
        }
       }
      }
     },
     "metadata": {},
     "output_type": "display_data"
    },
    {
     "name": "stdout",
     "output_type": "stream",
     "text": [
      "GBP_AUD 451\n"
     ]
    },
    {
     "data": {
      "application/vnd.plotly.v1+json": {
       "config": {
        "plotlyServerURL": "https://plot.ly"
       },
       "data": [
        {
         "line": {
          "shape": "spline",
          "width": 2
         },
         "name": "Gain_C",
         "type": "scatter",
         "x": [
          "2023-06-01T16:00:00+00:00",
          "2023-06-07T17:00:00+00:00",
          "2023-06-09T14:00:00+00:00",
          "2023-06-13T17:00:00+00:00",
          "2023-06-15T05:00:00+00:00",
          "2023-06-16T11:00:00+00:00",
          "2023-06-20T00:00:00+00:00",
          "2023-06-20T01:00:00+00:00",
          "2023-06-21T16:00:00+00:00",
          "2023-06-22T06:00:00+00:00",
          "2023-06-27T00:00:00+00:00",
          "2023-06-27T16:00:00+00:00",
          "2023-06-29T07:00:00+00:00",
          "2023-06-30T14:00:00+00:00",
          "2023-07-02T23:00:00+00:00",
          "2023-07-03T02:00:00+00:00",
          "2023-07-03T08:00:00+00:00",
          "2023-07-05T08:00:00+00:00",
          "2023-07-09T22:00:00+00:00",
          "2023-07-10T07:00:00+00:00",
          "2023-07-12T06:00:00+00:00",
          "2023-07-14T12:00:00+00:00",
          "2023-07-18T19:00:00+00:00",
          "2023-07-21T04:00:00+00:00",
          "2023-07-24T14:00:00+00:00",
          "2023-07-26T01:00:00+00:00",
          "2023-07-27T08:00:00+00:00",
          "2023-07-28T03:00:00+00:00",
          "2023-07-31T10:00:00+00:00",
          "2023-08-01T09:00:00+00:00",
          "2023-08-03T14:00:00+00:00",
          "2023-08-07T00:00:00+00:00",
          "2023-08-07T04:00:00+00:00",
          "2023-08-07T12:00:00+00:00",
          "2023-08-09T03:00:00+00:00",
          "2023-08-11T06:00:00+00:00",
          "2023-08-15T03:00:00+00:00",
          "2023-08-15T09:00:00+00:00",
          "2023-08-18T14:00:00+00:00",
          "2023-08-18T20:00:00+00:00",
          "2023-08-20T22:00:00+00:00",
          "2023-08-21T01:00:00+00:00",
          "2023-08-21T04:00:00+00:00",
          "2023-08-21T05:00:00+00:00",
          "2023-08-21T06:00:00+00:00",
          "2023-08-21T07:00:00+00:00",
          "2023-08-22T09:00:00+00:00",
          "2023-08-25T18:00:00+00:00",
          "2023-08-28T01:00:00+00:00",
          "2023-08-30T15:00:00+00:00",
          "2023-08-31T16:00:00+00:00",
          "2023-09-04T16:00:00+00:00",
          "2023-09-06T12:00:00+00:00",
          "2023-09-13T02:00:00+00:00",
          "2023-09-14T00:00:00+00:00",
          "2023-09-18T14:00:00+00:00",
          "2023-09-18T22:00:00+00:00",
          "2023-09-21T03:00:00+00:00",
          "2023-09-22T03:00:00+00:00",
          "2023-09-27T06:00:00+00:00",
          "2023-09-28T17:00:00+00:00",
          "2023-10-02T02:00:00+00:00",
          "2023-10-05T03:00:00+00:00",
          "2023-10-06T10:00:00+00:00",
          "2023-10-09T13:00:00+00:00",
          "2023-10-10T17:00:00+00:00",
          "2023-10-16T00:00:00+00:00",
          "2023-10-18T17:00:00+00:00",
          "2023-10-20T01:00:00+00:00",
          "2023-10-20T04:00:00+00:00",
          "2023-10-24T10:00:00+00:00",
          "2023-10-25T18:00:00+00:00",
          "2023-10-26T23:00:00+00:00",
          "2023-10-31T00:00:00+00:00",
          "2023-11-01T13:00:00+00:00",
          "2023-11-03T10:00:00+00:00",
          "2023-11-08T05:00:00+00:00",
          "2023-11-08T19:00:00+00:00",
          "2023-11-13T11:00:00+00:00",
          "2023-11-13T20:00:00+00:00",
          "2023-11-14T20:00:00+00:00",
          "2023-11-16T17:00:00+00:00",
          "2023-11-17T12:00:00+00:00",
          "2023-11-21T13:00:00+00:00",
          "2023-11-22T17:00:00+00:00",
          "2023-11-23T16:00:00+00:00",
          "2023-11-27T15:00:00+00:00",
          "2023-11-29T03:00:00+00:00",
          "2023-11-30T08:00:00+00:00",
          "2023-12-04T20:00:00+00:00",
          "2023-12-06T06:00:00+00:00",
          "2023-12-07T03:00:00+00:00",
          "2023-12-07T14:00:00+00:00",
          "2023-12-11T00:00:00+00:00",
          "2023-12-12T04:00:00+00:00",
          "2023-12-12T19:00:00+00:00",
          "2023-12-13T14:00:00+00:00",
          "2023-12-14T19:00:00+00:00",
          "2023-12-15T19:00:00+00:00",
          "2023-12-19T15:00:00+00:00",
          "2023-12-19T17:00:00+00:00",
          "2023-12-19T18:00:00+00:00",
          "2023-12-19T19:00:00+00:00",
          "2023-12-27T17:00:00+00:00",
          "2023-12-28T18:00:00+00:00",
          "2023-12-29T12:00:00+00:00",
          "2024-01-02T08:00:00+00:00",
          "2024-01-03T03:00:00+00:00",
          "2024-01-10T04:00:00+00:00",
          "2024-01-10T17:00:00+00:00",
          "2024-01-12T14:00:00+00:00"
         ],
         "y": [
          345.40000000000015,
          295.4000000000012,
          319.40000000000083,
          227.80000000000027,
          112.79999999999961,
          152.39999999999924,
          78.10000000000099,
          87.00000000000156,
          32.00000000000096,
          224.10000000000045,
          176.60000000000014,
          193.79999999999959,
          181.69999999999803,
          143.99999999999753,
          105.49999999999844,
          35.19999999999975,
          14.300000000000495,
          151.79999999999978,
          73.90000000000015,
          108.60000000000099,
          312.6000000000007,
          357.0000000000007,
          501.00000000000034,
          494.2000000000002,
          407.20000000000095,
          398.1000000000013,
          280.4000000000007,
          275.60000000000036,
          133.40000000000137,
          230.2000000000027,
          269.80000000000234,
          258.60000000000224,
          221.60000000000187,
          272.2000000000003,
          251.99999999999895,
          271.39999999999725,
          118.39999999999634,
          322.199999999997,
          286.5999999999969,
          267.79999999999586,
          244.59999999999485,
          242.39999999999375,
          233.59999999999383,
          221.99999999999332,
          225.9999999999929,
          158.7999999999923,
          356.29999999999166,
          330.2999999999923,
          333.5999999999917,
          310.6999999999905,
          331.29999999999,
          434.7999999999908,
          594.2999999999921,
          492.39999999999293,
          627.5999999999926,
          610.0999999999913,
          632.7999999999912,
          531.9999999999925,
          602.1999999999928,
          551.399999999993,
          547.4999999999941,
          627.9999999999952,
          507.9999999999951,
          451.2999999999945,
          468.3999999999955,
          614.1999999999958,
          726.9999999999955,
          773.5999999999965,
          763.999999999998,
          764.9999999999978,
          776.7999999999975,
          735.8999999999982,
          804.5999999999997,
          749.200000000001,
          822.0000000000005,
          943.8999999999996,
          838.3999999999991,
          861.5999999999979,
          832.7999999999979,
          797.1999999999979,
          815.9999999999967,
          743.5999999999954,
          774.5999999999942,
          768.4999999999942,
          750.8999999999944,
          753.9999999999948,
          744.1999999999949,
          760.999999999994,
          802.5999999999934,
          845.7999999999945,
          753.699999999995,
          634.2999999999944,
          637.9999999999942,
          620.0999999999946,
          537.6999999999944,
          413.99999999999443,
          406.1999999999944,
          280.199999999995,
          366.29999999999507,
          365.9999999999931,
          367.1999999999921,
          353.59999999999184,
          489.99999999999056,
          420.69999999998953,
          308.1999999999897,
          262.79999999998984,
          262.39999999998946,
          531.59999999999,
          467.9999999999908,
          451.99999999999034,
          451.99999999999034
         ]
        }
       ],
       "layout": {
        "font": {
         "color": "#e1e1e1",
         "size": 8
        },
        "height": 400,
        "margin": {
         "b": 10,
         "l": 10,
         "r": 10,
         "t": 10
        },
        "paper_bgcolor": "#2c303c",
        "plot_bgcolor": "#2c303c",
        "template": {
         "data": {
          "bar": [
           {
            "error_x": {
             "color": "#2a3f5f"
            },
            "error_y": {
             "color": "#2a3f5f"
            },
            "marker": {
             "line": {
              "color": "#E5ECF6",
              "width": 0.5
             },
             "pattern": {
              "fillmode": "overlay",
              "size": 10,
              "solidity": 0.2
             }
            },
            "type": "bar"
           }
          ],
          "barpolar": [
           {
            "marker": {
             "line": {
              "color": "#E5ECF6",
              "width": 0.5
             },
             "pattern": {
              "fillmode": "overlay",
              "size": 10,
              "solidity": 0.2
             }
            },
            "type": "barpolar"
           }
          ],
          "carpet": [
           {
            "aaxis": {
             "endlinecolor": "#2a3f5f",
             "gridcolor": "white",
             "linecolor": "white",
             "minorgridcolor": "white",
             "startlinecolor": "#2a3f5f"
            },
            "baxis": {
             "endlinecolor": "#2a3f5f",
             "gridcolor": "white",
             "linecolor": "white",
             "minorgridcolor": "white",
             "startlinecolor": "#2a3f5f"
            },
            "type": "carpet"
           }
          ],
          "choropleth": [
           {
            "colorbar": {
             "outlinewidth": 0,
             "ticks": ""
            },
            "type": "choropleth"
           }
          ],
          "contour": [
           {
            "colorbar": {
             "outlinewidth": 0,
             "ticks": ""
            },
            "colorscale": [
             [
              0,
              "#0d0887"
             ],
             [
              0.1111111111111111,
              "#46039f"
             ],
             [
              0.2222222222222222,
              "#7201a8"
             ],
             [
              0.3333333333333333,
              "#9c179e"
             ],
             [
              0.4444444444444444,
              "#bd3786"
             ],
             [
              0.5555555555555556,
              "#d8576b"
             ],
             [
              0.6666666666666666,
              "#ed7953"
             ],
             [
              0.7777777777777778,
              "#fb9f3a"
             ],
             [
              0.8888888888888888,
              "#fdca26"
             ],
             [
              1,
              "#f0f921"
             ]
            ],
            "type": "contour"
           }
          ],
          "contourcarpet": [
           {
            "colorbar": {
             "outlinewidth": 0,
             "ticks": ""
            },
            "type": "contourcarpet"
           }
          ],
          "heatmap": [
           {
            "colorbar": {
             "outlinewidth": 0,
             "ticks": ""
            },
            "colorscale": [
             [
              0,
              "#0d0887"
             ],
             [
              0.1111111111111111,
              "#46039f"
             ],
             [
              0.2222222222222222,
              "#7201a8"
             ],
             [
              0.3333333333333333,
              "#9c179e"
             ],
             [
              0.4444444444444444,
              "#bd3786"
             ],
             [
              0.5555555555555556,
              "#d8576b"
             ],
             [
              0.6666666666666666,
              "#ed7953"
             ],
             [
              0.7777777777777778,
              "#fb9f3a"
             ],
             [
              0.8888888888888888,
              "#fdca26"
             ],
             [
              1,
              "#f0f921"
             ]
            ],
            "type": "heatmap"
           }
          ],
          "heatmapgl": [
           {
            "colorbar": {
             "outlinewidth": 0,
             "ticks": ""
            },
            "colorscale": [
             [
              0,
              "#0d0887"
             ],
             [
              0.1111111111111111,
              "#46039f"
             ],
             [
              0.2222222222222222,
              "#7201a8"
             ],
             [
              0.3333333333333333,
              "#9c179e"
             ],
             [
              0.4444444444444444,
              "#bd3786"
             ],
             [
              0.5555555555555556,
              "#d8576b"
             ],
             [
              0.6666666666666666,
              "#ed7953"
             ],
             [
              0.7777777777777778,
              "#fb9f3a"
             ],
             [
              0.8888888888888888,
              "#fdca26"
             ],
             [
              1,
              "#f0f921"
             ]
            ],
            "type": "heatmapgl"
           }
          ],
          "histogram": [
           {
            "marker": {
             "pattern": {
              "fillmode": "overlay",
              "size": 10,
              "solidity": 0.2
             }
            },
            "type": "histogram"
           }
          ],
          "histogram2d": [
           {
            "colorbar": {
             "outlinewidth": 0,
             "ticks": ""
            },
            "colorscale": [
             [
              0,
              "#0d0887"
             ],
             [
              0.1111111111111111,
              "#46039f"
             ],
             [
              0.2222222222222222,
              "#7201a8"
             ],
             [
              0.3333333333333333,
              "#9c179e"
             ],
             [
              0.4444444444444444,
              "#bd3786"
             ],
             [
              0.5555555555555556,
              "#d8576b"
             ],
             [
              0.6666666666666666,
              "#ed7953"
             ],
             [
              0.7777777777777778,
              "#fb9f3a"
             ],
             [
              0.8888888888888888,
              "#fdca26"
             ],
             [
              1,
              "#f0f921"
             ]
            ],
            "type": "histogram2d"
           }
          ],
          "histogram2dcontour": [
           {
            "colorbar": {
             "outlinewidth": 0,
             "ticks": ""
            },
            "colorscale": [
             [
              0,
              "#0d0887"
             ],
             [
              0.1111111111111111,
              "#46039f"
             ],
             [
              0.2222222222222222,
              "#7201a8"
             ],
             [
              0.3333333333333333,
              "#9c179e"
             ],
             [
              0.4444444444444444,
              "#bd3786"
             ],
             [
              0.5555555555555556,
              "#d8576b"
             ],
             [
              0.6666666666666666,
              "#ed7953"
             ],
             [
              0.7777777777777778,
              "#fb9f3a"
             ],
             [
              0.8888888888888888,
              "#fdca26"
             ],
             [
              1,
              "#f0f921"
             ]
            ],
            "type": "histogram2dcontour"
           }
          ],
          "mesh3d": [
           {
            "colorbar": {
             "outlinewidth": 0,
             "ticks": ""
            },
            "type": "mesh3d"
           }
          ],
          "parcoords": [
           {
            "line": {
             "colorbar": {
              "outlinewidth": 0,
              "ticks": ""
             }
            },
            "type": "parcoords"
           }
          ],
          "pie": [
           {
            "automargin": true,
            "type": "pie"
           }
          ],
          "scatter": [
           {
            "fillpattern": {
             "fillmode": "overlay",
             "size": 10,
             "solidity": 0.2
            },
            "type": "scatter"
           }
          ],
          "scatter3d": [
           {
            "line": {
             "colorbar": {
              "outlinewidth": 0,
              "ticks": ""
             }
            },
            "marker": {
             "colorbar": {
              "outlinewidth": 0,
              "ticks": ""
             }
            },
            "type": "scatter3d"
           }
          ],
          "scattercarpet": [
           {
            "marker": {
             "colorbar": {
              "outlinewidth": 0,
              "ticks": ""
             }
            },
            "type": "scattercarpet"
           }
          ],
          "scattergeo": [
           {
            "marker": {
             "colorbar": {
              "outlinewidth": 0,
              "ticks": ""
             }
            },
            "type": "scattergeo"
           }
          ],
          "scattergl": [
           {
            "marker": {
             "colorbar": {
              "outlinewidth": 0,
              "ticks": ""
             }
            },
            "type": "scattergl"
           }
          ],
          "scattermapbox": [
           {
            "marker": {
             "colorbar": {
              "outlinewidth": 0,
              "ticks": ""
             }
            },
            "type": "scattermapbox"
           }
          ],
          "scatterpolar": [
           {
            "marker": {
             "colorbar": {
              "outlinewidth": 0,
              "ticks": ""
             }
            },
            "type": "scatterpolar"
           }
          ],
          "scatterpolargl": [
           {
            "marker": {
             "colorbar": {
              "outlinewidth": 0,
              "ticks": ""
             }
            },
            "type": "scatterpolargl"
           }
          ],
          "scatterternary": [
           {
            "marker": {
             "colorbar": {
              "outlinewidth": 0,
              "ticks": ""
             }
            },
            "type": "scatterternary"
           }
          ],
          "surface": [
           {
            "colorbar": {
             "outlinewidth": 0,
             "ticks": ""
            },
            "colorscale": [
             [
              0,
              "#0d0887"
             ],
             [
              0.1111111111111111,
              "#46039f"
             ],
             [
              0.2222222222222222,
              "#7201a8"
             ],
             [
              0.3333333333333333,
              "#9c179e"
             ],
             [
              0.4444444444444444,
              "#bd3786"
             ],
             [
              0.5555555555555556,
              "#d8576b"
             ],
             [
              0.6666666666666666,
              "#ed7953"
             ],
             [
              0.7777777777777778,
              "#fb9f3a"
             ],
             [
              0.8888888888888888,
              "#fdca26"
             ],
             [
              1,
              "#f0f921"
             ]
            ],
            "type": "surface"
           }
          ],
          "table": [
           {
            "cells": {
             "fill": {
              "color": "#EBF0F8"
             },
             "line": {
              "color": "white"
             }
            },
            "header": {
             "fill": {
              "color": "#C8D4E3"
             },
             "line": {
              "color": "white"
             }
            },
            "type": "table"
           }
          ]
         },
         "layout": {
          "annotationdefaults": {
           "arrowcolor": "#2a3f5f",
           "arrowhead": 0,
           "arrowwidth": 1
          },
          "autotypenumbers": "strict",
          "coloraxis": {
           "colorbar": {
            "outlinewidth": 0,
            "ticks": ""
           }
          },
          "colorscale": {
           "diverging": [
            [
             0,
             "#8e0152"
            ],
            [
             0.1,
             "#c51b7d"
            ],
            [
             0.2,
             "#de77ae"
            ],
            [
             0.3,
             "#f1b6da"
            ],
            [
             0.4,
             "#fde0ef"
            ],
            [
             0.5,
             "#f7f7f7"
            ],
            [
             0.6,
             "#e6f5d0"
            ],
            [
             0.7,
             "#b8e186"
            ],
            [
             0.8,
             "#7fbc41"
            ],
            [
             0.9,
             "#4d9221"
            ],
            [
             1,
             "#276419"
            ]
           ],
           "sequential": [
            [
             0,
             "#0d0887"
            ],
            [
             0.1111111111111111,
             "#46039f"
            ],
            [
             0.2222222222222222,
             "#7201a8"
            ],
            [
             0.3333333333333333,
             "#9c179e"
            ],
            [
             0.4444444444444444,
             "#bd3786"
            ],
            [
             0.5555555555555556,
             "#d8576b"
            ],
            [
             0.6666666666666666,
             "#ed7953"
            ],
            [
             0.7777777777777778,
             "#fb9f3a"
            ],
            [
             0.8888888888888888,
             "#fdca26"
            ],
            [
             1,
             "#f0f921"
            ]
           ],
           "sequentialminus": [
            [
             0,
             "#0d0887"
            ],
            [
             0.1111111111111111,
             "#46039f"
            ],
            [
             0.2222222222222222,
             "#7201a8"
            ],
            [
             0.3333333333333333,
             "#9c179e"
            ],
            [
             0.4444444444444444,
             "#bd3786"
            ],
            [
             0.5555555555555556,
             "#d8576b"
            ],
            [
             0.6666666666666666,
             "#ed7953"
            ],
            [
             0.7777777777777778,
             "#fb9f3a"
            ],
            [
             0.8888888888888888,
             "#fdca26"
            ],
            [
             1,
             "#f0f921"
            ]
           ]
          },
          "colorway": [
           "#636efa",
           "#EF553B",
           "#00cc96",
           "#ab63fa",
           "#FFA15A",
           "#19d3f3",
           "#FF6692",
           "#B6E880",
           "#FF97FF",
           "#FECB52"
          ],
          "font": {
           "color": "#2a3f5f"
          },
          "geo": {
           "bgcolor": "white",
           "lakecolor": "white",
           "landcolor": "#E5ECF6",
           "showlakes": true,
           "showland": true,
           "subunitcolor": "white"
          },
          "hoverlabel": {
           "align": "left"
          },
          "hovermode": "closest",
          "mapbox": {
           "style": "light"
          },
          "paper_bgcolor": "white",
          "plot_bgcolor": "#E5ECF6",
          "polar": {
           "angularaxis": {
            "gridcolor": "white",
            "linecolor": "white",
            "ticks": ""
           },
           "bgcolor": "#E5ECF6",
           "radialaxis": {
            "gridcolor": "white",
            "linecolor": "white",
            "ticks": ""
           }
          },
          "scene": {
           "xaxis": {
            "backgroundcolor": "#E5ECF6",
            "gridcolor": "white",
            "gridwidth": 2,
            "linecolor": "white",
            "showbackground": true,
            "ticks": "",
            "zerolinecolor": "white"
           },
           "yaxis": {
            "backgroundcolor": "#E5ECF6",
            "gridcolor": "white",
            "gridwidth": 2,
            "linecolor": "white",
            "showbackground": true,
            "ticks": "",
            "zerolinecolor": "white"
           },
           "zaxis": {
            "backgroundcolor": "#E5ECF6",
            "gridcolor": "white",
            "gridwidth": 2,
            "linecolor": "white",
            "showbackground": true,
            "ticks": "",
            "zerolinecolor": "white"
           }
          },
          "shapedefaults": {
           "line": {
            "color": "#2a3f5f"
           }
          },
          "ternary": {
           "aaxis": {
            "gridcolor": "white",
            "linecolor": "white",
            "ticks": ""
           },
           "baxis": {
            "gridcolor": "white",
            "linecolor": "white",
            "ticks": ""
           },
           "bgcolor": "#E5ECF6",
           "caxis": {
            "gridcolor": "white",
            "linecolor": "white",
            "ticks": ""
           }
          },
          "title": {
           "x": 0.05
          },
          "xaxis": {
           "automargin": true,
           "gridcolor": "white",
           "linecolor": "white",
           "ticks": "",
           "title": {
            "standoff": 15
           },
           "zerolinecolor": "white",
           "zerolinewidth": 2
          },
          "yaxis": {
           "automargin": true,
           "gridcolor": "white",
           "linecolor": "white",
           "ticks": "",
           "title": {
            "standoff": 15
           },
           "zerolinecolor": "white",
           "zerolinewidth": 2
          }
         }
        },
        "width": 900,
        "xaxis": {
         "gridcolor": "#1f292f",
         "nticks": 5,
         "rangeslider": {
          "visible": false
         },
         "type": "category"
        },
        "yaxis": {
         "gridcolor": "#1f292f"
        }
       }
      }
     },
     "metadata": {},
     "output_type": "display_data"
    },
    {
     "name": "stdout",
     "output_type": "stream",
     "text": [
      "GBP_USD 267\n"
     ]
    },
    {
     "data": {
      "application/vnd.plotly.v1+json": {
       "config": {
        "plotlyServerURL": "https://plot.ly"
       },
       "data": [
        {
         "line": {
          "shape": "spline",
          "width": 2
         },
         "name": "Gain_C",
         "type": "scatter",
         "x": [
          "2023-05-31T19:00:00+00:00",
          "2023-06-02T18:00:00+00:00",
          "2023-06-06T03:00:00+00:00",
          "2023-06-06T13:00:00+00:00",
          "2023-06-06T23:00:00+00:00",
          "2023-06-07T05:00:00+00:00",
          "2023-06-07T10:00:00+00:00",
          "2023-06-12T14:00:00+00:00",
          "2023-06-13T11:00:00+00:00",
          "2023-06-19T15:00:00+00:00",
          "2023-06-21T22:00:00+00:00",
          "2023-06-22T19:00:00+00:00",
          "2023-06-26T04:00:00+00:00",
          "2023-06-26T18:00:00+00:00",
          "2023-06-27T06:00:00+00:00",
          "2023-06-28T08:00:00+00:00",
          "2023-06-30T11:00:00+00:00",
          "2023-07-04T02:00:00+00:00",
          "2023-07-04T07:00:00+00:00",
          "2023-07-05T11:00:00+00:00",
          "2023-07-05T13:00:00+00:00",
          "2023-07-05T18:00:00+00:00",
          "2023-07-06T09:00:00+00:00",
          "2023-07-16T22:00:00+00:00",
          "2023-07-18T09:00:00+00:00",
          "2023-07-18T16:00:00+00:00",
          "2023-07-25T10:00:00+00:00",
          "2023-07-27T16:00:00+00:00",
          "2023-07-28T18:00:00+00:00",
          "2023-07-31T21:00:00+00:00",
          "2023-08-04T00:00:00+00:00",
          "2023-08-07T10:00:00+00:00",
          "2023-08-07T13:00:00+00:00",
          "2023-08-08T10:00:00+00:00",
          "2023-08-09T07:00:00+00:00",
          "2023-08-09T15:00:00+00:00",
          "2023-08-10T11:00:00+00:00",
          "2023-08-10T19:00:00+00:00",
          "2023-08-15T05:00:00+00:00",
          "2023-08-17T09:00:00+00:00",
          "2023-08-17T10:00:00+00:00",
          "2023-08-18T10:00:00+00:00",
          "2023-08-21T00:00:00+00:00",
          "2023-08-21T01:00:00+00:00",
          "2023-08-21T11:00:00+00:00",
          "2023-08-22T17:00:00+00:00",
          "2023-08-24T01:00:00+00:00",
          "2023-08-24T08:00:00+00:00",
          "2023-08-28T06:00:00+00:00",
          "2023-08-28T14:00:00+00:00",
          "2023-08-28T18:00:00+00:00",
          "2023-08-29T14:00:00+00:00",
          "2023-08-29T18:00:00+00:00",
          "2023-08-31T15:00:00+00:00",
          "2023-09-04T18:00:00+00:00",
          "2023-09-05T08:00:00+00:00",
          "2023-09-08T06:00:00+00:00",
          "2023-09-08T17:00:00+00:00",
          "2023-09-11T04:00:00+00:00",
          "2023-09-12T08:00:00+00:00",
          "2023-09-13T18:00:00+00:00",
          "2023-09-14T11:00:00+00:00",
          "2023-09-19T12:00:00+00:00",
          "2023-09-20T06:00:00+00:00",
          "2023-09-28T09:00:00+00:00",
          "2023-10-01T22:00:00+00:00",
          "2023-10-04T09:00:00+00:00",
          "2023-10-09T09:00:00+00:00",
          "2023-10-09T19:00:00+00:00",
          "2023-10-12T13:00:00+00:00",
          "2023-10-16T15:00:00+00:00",
          "2023-10-17T12:00:00+00:00",
          "2023-10-18T11:00:00+00:00",
          "2023-10-18T15:00:00+00:00",
          "2023-10-19T21:00:00+00:00",
          "2023-10-20T03:00:00+00:00",
          "2023-10-20T16:00:00+00:00",
          "2023-10-24T16:00:00+00:00",
          "2023-10-26T20:00:00+00:00",
          "2023-10-30T00:00:00+00:00",
          "2023-10-30T15:00:00+00:00",
          "2023-10-31T20:00:00+00:00",
          "2023-11-02T00:00:00+00:00",
          "2023-11-07T01:00:00+00:00",
          "2023-11-08T23:00:00+00:00",
          "2023-11-09T13:00:00+00:00",
          "2023-11-09T14:00:00+00:00",
          "2023-11-09T17:00:00+00:00",
          "2023-11-13T05:00:00+00:00",
          "2023-11-15T21:00:00+00:00",
          "2023-11-16T22:00:00+00:00",
          "2023-11-17T01:00:00+00:00",
          "2023-11-17T02:00:00+00:00",
          "2023-11-17T03:00:00+00:00",
          "2023-11-17T05:00:00+00:00",
          "2023-11-17T07:00:00+00:00",
          "2023-11-17T12:00:00+00:00",
          "2023-11-22T10:00:00+00:00",
          "2023-11-23T10:00:00+00:00",
          "2023-11-30T05:00:00+00:00",
          "2023-12-01T17:00:00+00:00",
          "2023-12-04T15:00:00+00:00",
          "2023-12-07T18:00:00+00:00",
          "2023-12-08T13:00:00+00:00",
          "2023-12-11T15:00:00+00:00",
          "2023-12-12T00:00:00+00:00",
          "2023-12-12T01:00:00+00:00",
          "2023-12-12T16:00:00+00:00",
          "2023-12-13T03:00:00+00:00",
          "2023-12-13T06:00:00+00:00",
          "2023-12-13T22:00:00+00:00",
          "2023-12-15T19:00:00+00:00",
          "2023-12-19T10:00:00+00:00",
          "2023-12-20T11:00:00+00:00",
          "2023-12-21T18:00:00+00:00",
          "2023-12-26T11:00:00+00:00",
          "2023-12-26T20:00:00+00:00",
          "2023-12-28T17:00:00+00:00",
          "2024-01-03T22:00:00+00:00",
          "2024-01-05T09:00:00+00:00",
          "2024-01-05T17:00:00+00:00",
          "2024-01-09T15:00:00+00:00",
          "2024-01-10T16:00:00+00:00",
          "2024-01-11T18:00:00+00:00",
          "2024-01-11T23:00:00+00:00",
          "2024-01-12T15:00:00+00:00"
         ],
         "y": [
          15.800000000001369,
          27.000000000001467,
          -17.599999999999834,
          -50.400000000001555,
          -61.80000000000297,
          -98.50000000000358,
          -44.000000000004036,
          -106.80000000000467,
          114.39999999999449,
          137.59999999999326,
          113.19999999999328,
          126.39999999999316,
          113.79999999999276,
          85.99999999999272,
          49.49999999999341,
          112.7999999999951,
          152.59999999999604,
          143.79999999999612,
          145.999999999995,
          114.59999999999357,
          78.59999999999309,
          42.999999999993015,
          405.5999999999926,
          395.99999999999187,
          329.09999999999104,
          526.0999999999915,
          529.3999999999932,
          513.9999999999944,
          495.599999999996,
          608.3999999999978,
          612.9999999999991,
          580.0000000000005,
          537.8000000000015,
          488.30000000000143,
          431.8000000000021,
          382.40000000000265,
          294.70000000000323,
          285.7000000000042,
          322.4000000000048,
          294.60000000000474,
          264.4000000000045,
          236.80000000000578,
          225.0000000000062,
          200.10000000000517,
          176.80000000000572,
          204.10000000000693,
          193.80000000000607,
          287.6000000000055,
          258.60000000000645,
          232.90000000000683,
          219.2000000000059,
          173.800000000006,
          205.80000000000692,
          238.8000000000077,
          141.50000000000756,
          193.50000000000628,
          175.2000000000063,
          120.8000000000074,
          69.20000000000908,
          49.40000000001038,
          38.20000000001028,
          108.90000000000937,
          58.200000000008075,
          216.20000000000618,
          203.0000000000063,
          258.9000000000084,
          319.3000000000088,
          264.600000000008,
          254.70000000000752,
          291.2000000000068,
          235.8000000000058,
          187.80000000000445,
          147.20000000000272,
          152.1000000000015,
          146.10000000000215,
          129.40000000000379,
          133.80000000000373,
          163.80000000000265,
          145.70000000000175,
          100.4000000000003,
          92.2999999999983,
          46.09999999999762,
          190.8999999999981,
          244.099999999998,
          230.59999999999837,
          213.19999999999985,
          190.40000000000146,
          226.80000000000234,
          413.0000000000032,
          413.2000000000045,
          410.2000000000048,
          413.2000000000045,
          410.4000000000039,
          403.4000000000025,
          373.500000000002,
          329.60000000000304,
          429.80000000000445,
          407.8000000000047,
          556.000000000003,
          560.0000000000025,
          475.60000000000247,
          489.0000000000014,
          437.50000000000153,
          432.80000000000183,
          444.60000000000144,
          441.20000000000135,
          423.70000000000215,
          419.20000000000374,
          422.0000000000043,
          352.90000000000464,
          418.6000000000043,
          406.30000000000365,
          355.2000000000042,
          332.2000000000045,
          352.4000000000036,
          320.8000000000031,
          334.20000000000425,
          407.9000000000052,
          402.2000000000056,
          338.6000000000064,
          318.8000000000077,
          294.8000000000081,
          315.00000000000716,
          284.30000000000587,
          267.3000000000055,
          267.3000000000055
         ]
        }
       ],
       "layout": {
        "font": {
         "color": "#e1e1e1",
         "size": 8
        },
        "height": 400,
        "margin": {
         "b": 10,
         "l": 10,
         "r": 10,
         "t": 10
        },
        "paper_bgcolor": "#2c303c",
        "plot_bgcolor": "#2c303c",
        "template": {
         "data": {
          "bar": [
           {
            "error_x": {
             "color": "#2a3f5f"
            },
            "error_y": {
             "color": "#2a3f5f"
            },
            "marker": {
             "line": {
              "color": "#E5ECF6",
              "width": 0.5
             },
             "pattern": {
              "fillmode": "overlay",
              "size": 10,
              "solidity": 0.2
             }
            },
            "type": "bar"
           }
          ],
          "barpolar": [
           {
            "marker": {
             "line": {
              "color": "#E5ECF6",
              "width": 0.5
             },
             "pattern": {
              "fillmode": "overlay",
              "size": 10,
              "solidity": 0.2
             }
            },
            "type": "barpolar"
           }
          ],
          "carpet": [
           {
            "aaxis": {
             "endlinecolor": "#2a3f5f",
             "gridcolor": "white",
             "linecolor": "white",
             "minorgridcolor": "white",
             "startlinecolor": "#2a3f5f"
            },
            "baxis": {
             "endlinecolor": "#2a3f5f",
             "gridcolor": "white",
             "linecolor": "white",
             "minorgridcolor": "white",
             "startlinecolor": "#2a3f5f"
            },
            "type": "carpet"
           }
          ],
          "choropleth": [
           {
            "colorbar": {
             "outlinewidth": 0,
             "ticks": ""
            },
            "type": "choropleth"
           }
          ],
          "contour": [
           {
            "colorbar": {
             "outlinewidth": 0,
             "ticks": ""
            },
            "colorscale": [
             [
              0,
              "#0d0887"
             ],
             [
              0.1111111111111111,
              "#46039f"
             ],
             [
              0.2222222222222222,
              "#7201a8"
             ],
             [
              0.3333333333333333,
              "#9c179e"
             ],
             [
              0.4444444444444444,
              "#bd3786"
             ],
             [
              0.5555555555555556,
              "#d8576b"
             ],
             [
              0.6666666666666666,
              "#ed7953"
             ],
             [
              0.7777777777777778,
              "#fb9f3a"
             ],
             [
              0.8888888888888888,
              "#fdca26"
             ],
             [
              1,
              "#f0f921"
             ]
            ],
            "type": "contour"
           }
          ],
          "contourcarpet": [
           {
            "colorbar": {
             "outlinewidth": 0,
             "ticks": ""
            },
            "type": "contourcarpet"
           }
          ],
          "heatmap": [
           {
            "colorbar": {
             "outlinewidth": 0,
             "ticks": ""
            },
            "colorscale": [
             [
              0,
              "#0d0887"
             ],
             [
              0.1111111111111111,
              "#46039f"
             ],
             [
              0.2222222222222222,
              "#7201a8"
             ],
             [
              0.3333333333333333,
              "#9c179e"
             ],
             [
              0.4444444444444444,
              "#bd3786"
             ],
             [
              0.5555555555555556,
              "#d8576b"
             ],
             [
              0.6666666666666666,
              "#ed7953"
             ],
             [
              0.7777777777777778,
              "#fb9f3a"
             ],
             [
              0.8888888888888888,
              "#fdca26"
             ],
             [
              1,
              "#f0f921"
             ]
            ],
            "type": "heatmap"
           }
          ],
          "heatmapgl": [
           {
            "colorbar": {
             "outlinewidth": 0,
             "ticks": ""
            },
            "colorscale": [
             [
              0,
              "#0d0887"
             ],
             [
              0.1111111111111111,
              "#46039f"
             ],
             [
              0.2222222222222222,
              "#7201a8"
             ],
             [
              0.3333333333333333,
              "#9c179e"
             ],
             [
              0.4444444444444444,
              "#bd3786"
             ],
             [
              0.5555555555555556,
              "#d8576b"
             ],
             [
              0.6666666666666666,
              "#ed7953"
             ],
             [
              0.7777777777777778,
              "#fb9f3a"
             ],
             [
              0.8888888888888888,
              "#fdca26"
             ],
             [
              1,
              "#f0f921"
             ]
            ],
            "type": "heatmapgl"
           }
          ],
          "histogram": [
           {
            "marker": {
             "pattern": {
              "fillmode": "overlay",
              "size": 10,
              "solidity": 0.2
             }
            },
            "type": "histogram"
           }
          ],
          "histogram2d": [
           {
            "colorbar": {
             "outlinewidth": 0,
             "ticks": ""
            },
            "colorscale": [
             [
              0,
              "#0d0887"
             ],
             [
              0.1111111111111111,
              "#46039f"
             ],
             [
              0.2222222222222222,
              "#7201a8"
             ],
             [
              0.3333333333333333,
              "#9c179e"
             ],
             [
              0.4444444444444444,
              "#bd3786"
             ],
             [
              0.5555555555555556,
              "#d8576b"
             ],
             [
              0.6666666666666666,
              "#ed7953"
             ],
             [
              0.7777777777777778,
              "#fb9f3a"
             ],
             [
              0.8888888888888888,
              "#fdca26"
             ],
             [
              1,
              "#f0f921"
             ]
            ],
            "type": "histogram2d"
           }
          ],
          "histogram2dcontour": [
           {
            "colorbar": {
             "outlinewidth": 0,
             "ticks": ""
            },
            "colorscale": [
             [
              0,
              "#0d0887"
             ],
             [
              0.1111111111111111,
              "#46039f"
             ],
             [
              0.2222222222222222,
              "#7201a8"
             ],
             [
              0.3333333333333333,
              "#9c179e"
             ],
             [
              0.4444444444444444,
              "#bd3786"
             ],
             [
              0.5555555555555556,
              "#d8576b"
             ],
             [
              0.6666666666666666,
              "#ed7953"
             ],
             [
              0.7777777777777778,
              "#fb9f3a"
             ],
             [
              0.8888888888888888,
              "#fdca26"
             ],
             [
              1,
              "#f0f921"
             ]
            ],
            "type": "histogram2dcontour"
           }
          ],
          "mesh3d": [
           {
            "colorbar": {
             "outlinewidth": 0,
             "ticks": ""
            },
            "type": "mesh3d"
           }
          ],
          "parcoords": [
           {
            "line": {
             "colorbar": {
              "outlinewidth": 0,
              "ticks": ""
             }
            },
            "type": "parcoords"
           }
          ],
          "pie": [
           {
            "automargin": true,
            "type": "pie"
           }
          ],
          "scatter": [
           {
            "fillpattern": {
             "fillmode": "overlay",
             "size": 10,
             "solidity": 0.2
            },
            "type": "scatter"
           }
          ],
          "scatter3d": [
           {
            "line": {
             "colorbar": {
              "outlinewidth": 0,
              "ticks": ""
             }
            },
            "marker": {
             "colorbar": {
              "outlinewidth": 0,
              "ticks": ""
             }
            },
            "type": "scatter3d"
           }
          ],
          "scattercarpet": [
           {
            "marker": {
             "colorbar": {
              "outlinewidth": 0,
              "ticks": ""
             }
            },
            "type": "scattercarpet"
           }
          ],
          "scattergeo": [
           {
            "marker": {
             "colorbar": {
              "outlinewidth": 0,
              "ticks": ""
             }
            },
            "type": "scattergeo"
           }
          ],
          "scattergl": [
           {
            "marker": {
             "colorbar": {
              "outlinewidth": 0,
              "ticks": ""
             }
            },
            "type": "scattergl"
           }
          ],
          "scattermapbox": [
           {
            "marker": {
             "colorbar": {
              "outlinewidth": 0,
              "ticks": ""
             }
            },
            "type": "scattermapbox"
           }
          ],
          "scatterpolar": [
           {
            "marker": {
             "colorbar": {
              "outlinewidth": 0,
              "ticks": ""
             }
            },
            "type": "scatterpolar"
           }
          ],
          "scatterpolargl": [
           {
            "marker": {
             "colorbar": {
              "outlinewidth": 0,
              "ticks": ""
             }
            },
            "type": "scatterpolargl"
           }
          ],
          "scatterternary": [
           {
            "marker": {
             "colorbar": {
              "outlinewidth": 0,
              "ticks": ""
             }
            },
            "type": "scatterternary"
           }
          ],
          "surface": [
           {
            "colorbar": {
             "outlinewidth": 0,
             "ticks": ""
            },
            "colorscale": [
             [
              0,
              "#0d0887"
             ],
             [
              0.1111111111111111,
              "#46039f"
             ],
             [
              0.2222222222222222,
              "#7201a8"
             ],
             [
              0.3333333333333333,
              "#9c179e"
             ],
             [
              0.4444444444444444,
              "#bd3786"
             ],
             [
              0.5555555555555556,
              "#d8576b"
             ],
             [
              0.6666666666666666,
              "#ed7953"
             ],
             [
              0.7777777777777778,
              "#fb9f3a"
             ],
             [
              0.8888888888888888,
              "#fdca26"
             ],
             [
              1,
              "#f0f921"
             ]
            ],
            "type": "surface"
           }
          ],
          "table": [
           {
            "cells": {
             "fill": {
              "color": "#EBF0F8"
             },
             "line": {
              "color": "white"
             }
            },
            "header": {
             "fill": {
              "color": "#C8D4E3"
             },
             "line": {
              "color": "white"
             }
            },
            "type": "table"
           }
          ]
         },
         "layout": {
          "annotationdefaults": {
           "arrowcolor": "#2a3f5f",
           "arrowhead": 0,
           "arrowwidth": 1
          },
          "autotypenumbers": "strict",
          "coloraxis": {
           "colorbar": {
            "outlinewidth": 0,
            "ticks": ""
           }
          },
          "colorscale": {
           "diverging": [
            [
             0,
             "#8e0152"
            ],
            [
             0.1,
             "#c51b7d"
            ],
            [
             0.2,
             "#de77ae"
            ],
            [
             0.3,
             "#f1b6da"
            ],
            [
             0.4,
             "#fde0ef"
            ],
            [
             0.5,
             "#f7f7f7"
            ],
            [
             0.6,
             "#e6f5d0"
            ],
            [
             0.7,
             "#b8e186"
            ],
            [
             0.8,
             "#7fbc41"
            ],
            [
             0.9,
             "#4d9221"
            ],
            [
             1,
             "#276419"
            ]
           ],
           "sequential": [
            [
             0,
             "#0d0887"
            ],
            [
             0.1111111111111111,
             "#46039f"
            ],
            [
             0.2222222222222222,
             "#7201a8"
            ],
            [
             0.3333333333333333,
             "#9c179e"
            ],
            [
             0.4444444444444444,
             "#bd3786"
            ],
            [
             0.5555555555555556,
             "#d8576b"
            ],
            [
             0.6666666666666666,
             "#ed7953"
            ],
            [
             0.7777777777777778,
             "#fb9f3a"
            ],
            [
             0.8888888888888888,
             "#fdca26"
            ],
            [
             1,
             "#f0f921"
            ]
           ],
           "sequentialminus": [
            [
             0,
             "#0d0887"
            ],
            [
             0.1111111111111111,
             "#46039f"
            ],
            [
             0.2222222222222222,
             "#7201a8"
            ],
            [
             0.3333333333333333,
             "#9c179e"
            ],
            [
             0.4444444444444444,
             "#bd3786"
            ],
            [
             0.5555555555555556,
             "#d8576b"
            ],
            [
             0.6666666666666666,
             "#ed7953"
            ],
            [
             0.7777777777777778,
             "#fb9f3a"
            ],
            [
             0.8888888888888888,
             "#fdca26"
            ],
            [
             1,
             "#f0f921"
            ]
           ]
          },
          "colorway": [
           "#636efa",
           "#EF553B",
           "#00cc96",
           "#ab63fa",
           "#FFA15A",
           "#19d3f3",
           "#FF6692",
           "#B6E880",
           "#FF97FF",
           "#FECB52"
          ],
          "font": {
           "color": "#2a3f5f"
          },
          "geo": {
           "bgcolor": "white",
           "lakecolor": "white",
           "landcolor": "#E5ECF6",
           "showlakes": true,
           "showland": true,
           "subunitcolor": "white"
          },
          "hoverlabel": {
           "align": "left"
          },
          "hovermode": "closest",
          "mapbox": {
           "style": "light"
          },
          "paper_bgcolor": "white",
          "plot_bgcolor": "#E5ECF6",
          "polar": {
           "angularaxis": {
            "gridcolor": "white",
            "linecolor": "white",
            "ticks": ""
           },
           "bgcolor": "#E5ECF6",
           "radialaxis": {
            "gridcolor": "white",
            "linecolor": "white",
            "ticks": ""
           }
          },
          "scene": {
           "xaxis": {
            "backgroundcolor": "#E5ECF6",
            "gridcolor": "white",
            "gridwidth": 2,
            "linecolor": "white",
            "showbackground": true,
            "ticks": "",
            "zerolinecolor": "white"
           },
           "yaxis": {
            "backgroundcolor": "#E5ECF6",
            "gridcolor": "white",
            "gridwidth": 2,
            "linecolor": "white",
            "showbackground": true,
            "ticks": "",
            "zerolinecolor": "white"
           },
           "zaxis": {
            "backgroundcolor": "#E5ECF6",
            "gridcolor": "white",
            "gridwidth": 2,
            "linecolor": "white",
            "showbackground": true,
            "ticks": "",
            "zerolinecolor": "white"
           }
          },
          "shapedefaults": {
           "line": {
            "color": "#2a3f5f"
           }
          },
          "ternary": {
           "aaxis": {
            "gridcolor": "white",
            "linecolor": "white",
            "ticks": ""
           },
           "baxis": {
            "gridcolor": "white",
            "linecolor": "white",
            "ticks": ""
           },
           "bgcolor": "#E5ECF6",
           "caxis": {
            "gridcolor": "white",
            "linecolor": "white",
            "ticks": ""
           }
          },
          "title": {
           "x": 0.05
          },
          "xaxis": {
           "automargin": true,
           "gridcolor": "white",
           "linecolor": "white",
           "ticks": "",
           "title": {
            "standoff": 15
           },
           "zerolinecolor": "white",
           "zerolinewidth": 2
          },
          "yaxis": {
           "automargin": true,
           "gridcolor": "white",
           "linecolor": "white",
           "ticks": "",
           "title": {
            "standoff": 15
           },
           "zerolinecolor": "white",
           "zerolinewidth": 2
          }
         }
        },
        "width": 900,
        "xaxis": {
         "gridcolor": "#1f292f",
         "nticks": 5,
         "rangeslider": {
          "visible": false
         },
         "type": "category"
        },
        "yaxis": {
         "gridcolor": "#1f292f"
        }
       }
      }
     },
     "metadata": {},
     "output_type": "display_data"
    }
   ],
   "source": [
    "for curr in df_MA_10_MA_40[df_MA_10_MA_40['total_gain'] > 0]['pair'].unique():\n",
    "    temp_gains = df_ma_trades_h1[(df_ma_trades_h1['Cross'] == cross) & (df_ma_trades_h1['Pair'] == curr)].copy()\n",
    "    print(curr, int(temp_gains['Gain'].sum()))\n",
    "    cp = CandlePlot(temp_gains, candles=False)\n",
    "    cp.show_plot(line_traces=['Gain_C'])\n"
   ]
  },
  {
   "cell_type": "code",
   "execution_count": null,
   "metadata": {},
   "outputs": [],
   "source": []
  }
 ],
 "metadata": {
  "kernelspec": {
   "display_name": "py_fin",
   "language": "python",
   "name": "python3"
  },
  "language_info": {
   "codemirror_mode": {
    "name": "ipython",
    "version": 3
   },
   "file_extension": ".py",
   "mimetype": "text/x-python",
   "name": "python",
   "nbconvert_exporter": "python",
   "pygments_lexer": "ipython3",
   "version": "3.11.5"
  }
 },
 "nbformat": 4,
 "nbformat_minor": 2
}
