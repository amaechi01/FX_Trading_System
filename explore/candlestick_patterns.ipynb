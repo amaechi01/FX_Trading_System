{
 "cells": [
  {
   "cell_type": "code",
   "execution_count": 1,
   "metadata": {},
   "outputs": [],
   "source": [
    "import sys\n",
    "sys.path.append('../')\n",
    "from plotting import CandlePlot\n",
    "import pandas as pd"
   ]
  },
  {
   "cell_type": "code",
   "execution_count": 2,
   "metadata": {},
   "outputs": [],
   "source": [
    "from technicals.patterns import apply_patterns"
   ]
  },
  {
   "cell_type": "code",
   "execution_count": 3,
   "metadata": {},
   "outputs": [],
   "source": [
    "df = pd.read_pickle('../data/GBP_JPY_H1.pkl')"
   ]
  },
  {
   "cell_type": "code",
   "execution_count": 4,
   "metadata": {},
   "outputs": [
    {
     "data": {
      "text/html": [
       "<div>\n",
       "<style scoped>\n",
       "    .dataframe tbody tr th:only-of-type {\n",
       "        vertical-align: middle;\n",
       "    }\n",
       "\n",
       "    .dataframe tbody tr th {\n",
       "        vertical-align: top;\n",
       "    }\n",
       "\n",
       "    .dataframe thead th {\n",
       "        text-align: right;\n",
       "    }\n",
       "</style>\n",
       "<table border=\"1\" class=\"dataframe\">\n",
       "  <thead>\n",
       "    <tr style=\"text-align: right;\">\n",
       "      <th></th>\n",
       "      <th>time</th>\n",
       "      <th>mid_o</th>\n",
       "      <th>mid_h</th>\n",
       "      <th>mid_l</th>\n",
       "      <th>mid_c</th>\n",
       "    </tr>\n",
       "  </thead>\n",
       "  <tbody>\n",
       "    <tr>\n",
       "      <th>49742</th>\n",
       "      <td>2023-12-29 17:00:00+00:00</td>\n",
       "      <td>179.547</td>\n",
       "      <td>179.815</td>\n",
       "      <td>179.505</td>\n",
       "      <td>179.756</td>\n",
       "    </tr>\n",
       "    <tr>\n",
       "      <th>49743</th>\n",
       "      <td>2023-12-29 18:00:00+00:00</td>\n",
       "      <td>179.754</td>\n",
       "      <td>179.880</td>\n",
       "      <td>179.640</td>\n",
       "      <td>179.648</td>\n",
       "    </tr>\n",
       "    <tr>\n",
       "      <th>49744</th>\n",
       "      <td>2023-12-29 19:00:00+00:00</td>\n",
       "      <td>179.650</td>\n",
       "      <td>179.776</td>\n",
       "      <td>179.530</td>\n",
       "      <td>179.756</td>\n",
       "    </tr>\n",
       "    <tr>\n",
       "      <th>49745</th>\n",
       "      <td>2023-12-29 20:00:00+00:00</td>\n",
       "      <td>179.760</td>\n",
       "      <td>179.872</td>\n",
       "      <td>179.695</td>\n",
       "      <td>179.728</td>\n",
       "    </tr>\n",
       "    <tr>\n",
       "      <th>49746</th>\n",
       "      <td>2023-12-29 21:00:00+00:00</td>\n",
       "      <td>179.728</td>\n",
       "      <td>179.806</td>\n",
       "      <td>179.457</td>\n",
       "      <td>179.550</td>\n",
       "    </tr>\n",
       "  </tbody>\n",
       "</table>\n",
       "</div>"
      ],
      "text/plain": [
       "                           time    mid_o    mid_h    mid_l    mid_c\n",
       "49742 2023-12-29 17:00:00+00:00  179.547  179.815  179.505  179.756\n",
       "49743 2023-12-29 18:00:00+00:00  179.754  179.880  179.640  179.648\n",
       "49744 2023-12-29 19:00:00+00:00  179.650  179.776  179.530  179.756\n",
       "49745 2023-12-29 20:00:00+00:00  179.760  179.872  179.695  179.728\n",
       "49746 2023-12-29 21:00:00+00:00  179.728  179.806  179.457  179.550"
      ]
     },
     "execution_count": 4,
     "metadata": {},
     "output_type": "execute_result"
    }
   ],
   "source": [
    "df_an = df[['time', 'mid_o', 'mid_h', 'mid_l', 'mid_c',]].copy()\n",
    "\n",
    "df_an.tail()"
   ]
  },
  {
   "cell_type": "code",
   "execution_count": null,
   "metadata": {},
   "outputs": [],
   "source": [
    "direction = df_an['mid_c'] - df_an['mid_o']\n",
    "body_size = abs(direction)\n",
    "direction = [1 if x >= 0 else -1 for x in direction]\n",
    "full_range = df_an['mid_h'] - df_an['mid_l']\n",
    "body_perc = (body_size / full_range) * 100\n",
    "body_lower = df_an[['mid_c', 'mid_o']].min(axis=1)\n",
    "body_upper = df_an[['mid_c', 'mid_o']].max(axis=1)\n",
    "body_bottom_perc = ((body_lower - df_an['mid_l']) / full_range * 100)\n",
    "body_top_perc = 100 - (((df_an['mid_h'] - body_upper) / full_range) * 100)"
   ]
  },
  {
   "cell_type": "code",
   "execution_count": null,
   "metadata": {},
   "outputs": [],
   "source": [
    "df_an['body_lower'] = body_lower\n",
    "df_an['body_upper'] = body_upper\n",
    "df_an['body_bottom_perc'] = body_bottom_perc\n",
    "df_an['body_top_perc'] = body_top_perc\n",
    "df_an['body_perc'] = body_perc\n",
    "df_an['direction'] = direction"
   ]
  },
  {
   "cell_type": "code",
   "execution_count": 5,
   "metadata": {},
   "outputs": [],
   "source": [
    "df_an = apply_patterns(df_an)"
   ]
  },
  {
   "cell_type": "code",
   "execution_count": 6,
   "metadata": {},
   "outputs": [
    {
     "name": "stderr",
     "output_type": "stream",
     "text": [
      "c:\\ProgramData\\Anaconda3\\envs\\py_fin\\Lib\\site-packages\\_plotly_utils\\basevalidators.py:106: FutureWarning:\n",
      "\n",
      "The behavior of DatetimeProperties.to_pydatetime is deprecated, in a future version this will return a Series containing python datetime objects instead of an ndarray. To retain the old behavior, call `np.array` on the result\n",
      "\n"
     ]
    },
    {
     "data": {
      "application/vnd.plotly.v1+json": {
       "config": {
        "plotlyServerURL": "https://plot.ly"
       },
       "data": [
        {
         "close": [
          179.955,
          180.426,
          180.172,
          179.742,
          179.543,
          179.756,
          179.648,
          179.756,
          179.728,
          179.55
         ],
         "decreasing": {
          "fillcolor": "#CC2E3C",
          "line": {
           "color": "#FF3A4C"
          }
         },
         "high": [
          180.417,
          180.486,
          180.428,
          180.344,
          179.88,
          179.815,
          179.88,
          179.776,
          179.872,
          179.806
         ],
         "increasing": {
          "fillcolor": "#24A06B",
          "line": {
           "color": "#2EC886"
          }
         },
         "line": {
          "width": 1
         },
         "low": [
          179.822,
          179.818,
          180.016,
          179.57,
          179.31,
          179.505,
          179.64,
          179.53,
          179.695,
          179.457
         ],
         "opacity": 1,
         "open": [
          180.417,
          179.956,
          180.424,
          180.17,
          179.742,
          179.547,
          179.754,
          179.65,
          179.76,
          179.728
         ],
         "type": "candlestick",
         "x": [
          "2023-12-29T12:00:00+00:00",
          "2023-12-29T13:00:00+00:00",
          "2023-12-29T14:00:00+00:00",
          "2023-12-29T15:00:00+00:00",
          "2023-12-29T16:00:00+00:00",
          "2023-12-29T17:00:00+00:00",
          "2023-12-29T18:00:00+00:00",
          "2023-12-29T19:00:00+00:00",
          "2023-12-29T20:00:00+00:00",
          "2023-12-29T21:00:00+00:00"
         ]
        },
        {
         "line": {
          "shape": "spline",
          "width": 2
         },
         "name": "body_upper",
         "type": "scatter",
         "x": [
          "2023-12-29T12:00:00+00:00",
          "2023-12-29T13:00:00+00:00",
          "2023-12-29T14:00:00+00:00",
          "2023-12-29T15:00:00+00:00",
          "2023-12-29T16:00:00+00:00",
          "2023-12-29T17:00:00+00:00",
          "2023-12-29T18:00:00+00:00",
          "2023-12-29T19:00:00+00:00",
          "2023-12-29T20:00:00+00:00",
          "2023-12-29T21:00:00+00:00"
         ],
         "xaxis": "x",
         "y": [
          180.417,
          180.426,
          180.424,
          180.17,
          179.742,
          179.756,
          179.754,
          179.756,
          179.76,
          179.728
         ],
         "yaxis": "y"
        },
        {
         "line": {
          "shape": "spline",
          "width": 2
         },
         "name": "body_lower",
         "type": "scatter",
         "x": [
          "2023-12-29T12:00:00+00:00",
          "2023-12-29T13:00:00+00:00",
          "2023-12-29T14:00:00+00:00",
          "2023-12-29T15:00:00+00:00",
          "2023-12-29T16:00:00+00:00",
          "2023-12-29T17:00:00+00:00",
          "2023-12-29T18:00:00+00:00",
          "2023-12-29T19:00:00+00:00",
          "2023-12-29T20:00:00+00:00",
          "2023-12-29T21:00:00+00:00"
         ],
         "xaxis": "x",
         "y": [
          179.955,
          179.956,
          180.172,
          179.742,
          179.543,
          179.547,
          179.648,
          179.65,
          179.728,
          179.55
         ],
         "yaxis": "y"
        }
       ],
       "layout": {
        "font": {
         "color": "#e1e1e1",
         "size": 8
        },
        "height": 300,
        "margin": {
         "b": 10,
         "l": 10,
         "r": 10,
         "t": 10
        },
        "paper_bgcolor": "#2c303c",
        "plot_bgcolor": "#2c303c",
        "template": {
         "data": {
          "bar": [
           {
            "error_x": {
             "color": "#2a3f5f"
            },
            "error_y": {
             "color": "#2a3f5f"
            },
            "marker": {
             "line": {
              "color": "#E5ECF6",
              "width": 0.5
             },
             "pattern": {
              "fillmode": "overlay",
              "size": 10,
              "solidity": 0.2
             }
            },
            "type": "bar"
           }
          ],
          "barpolar": [
           {
            "marker": {
             "line": {
              "color": "#E5ECF6",
              "width": 0.5
             },
             "pattern": {
              "fillmode": "overlay",
              "size": 10,
              "solidity": 0.2
             }
            },
            "type": "barpolar"
           }
          ],
          "carpet": [
           {
            "aaxis": {
             "endlinecolor": "#2a3f5f",
             "gridcolor": "white",
             "linecolor": "white",
             "minorgridcolor": "white",
             "startlinecolor": "#2a3f5f"
            },
            "baxis": {
             "endlinecolor": "#2a3f5f",
             "gridcolor": "white",
             "linecolor": "white",
             "minorgridcolor": "white",
             "startlinecolor": "#2a3f5f"
            },
            "type": "carpet"
           }
          ],
          "choropleth": [
           {
            "colorbar": {
             "outlinewidth": 0,
             "ticks": ""
            },
            "type": "choropleth"
           }
          ],
          "contour": [
           {
            "colorbar": {
             "outlinewidth": 0,
             "ticks": ""
            },
            "colorscale": [
             [
              0,
              "#0d0887"
             ],
             [
              0.1111111111111111,
              "#46039f"
             ],
             [
              0.2222222222222222,
              "#7201a8"
             ],
             [
              0.3333333333333333,
              "#9c179e"
             ],
             [
              0.4444444444444444,
              "#bd3786"
             ],
             [
              0.5555555555555556,
              "#d8576b"
             ],
             [
              0.6666666666666666,
              "#ed7953"
             ],
             [
              0.7777777777777778,
              "#fb9f3a"
             ],
             [
              0.8888888888888888,
              "#fdca26"
             ],
             [
              1,
              "#f0f921"
             ]
            ],
            "type": "contour"
           }
          ],
          "contourcarpet": [
           {
            "colorbar": {
             "outlinewidth": 0,
             "ticks": ""
            },
            "type": "contourcarpet"
           }
          ],
          "heatmap": [
           {
            "colorbar": {
             "outlinewidth": 0,
             "ticks": ""
            },
            "colorscale": [
             [
              0,
              "#0d0887"
             ],
             [
              0.1111111111111111,
              "#46039f"
             ],
             [
              0.2222222222222222,
              "#7201a8"
             ],
             [
              0.3333333333333333,
              "#9c179e"
             ],
             [
              0.4444444444444444,
              "#bd3786"
             ],
             [
              0.5555555555555556,
              "#d8576b"
             ],
             [
              0.6666666666666666,
              "#ed7953"
             ],
             [
              0.7777777777777778,
              "#fb9f3a"
             ],
             [
              0.8888888888888888,
              "#fdca26"
             ],
             [
              1,
              "#f0f921"
             ]
            ],
            "type": "heatmap"
           }
          ],
          "heatmapgl": [
           {
            "colorbar": {
             "outlinewidth": 0,
             "ticks": ""
            },
            "colorscale": [
             [
              0,
              "#0d0887"
             ],
             [
              0.1111111111111111,
              "#46039f"
             ],
             [
              0.2222222222222222,
              "#7201a8"
             ],
             [
              0.3333333333333333,
              "#9c179e"
             ],
             [
              0.4444444444444444,
              "#bd3786"
             ],
             [
              0.5555555555555556,
              "#d8576b"
             ],
             [
              0.6666666666666666,
              "#ed7953"
             ],
             [
              0.7777777777777778,
              "#fb9f3a"
             ],
             [
              0.8888888888888888,
              "#fdca26"
             ],
             [
              1,
              "#f0f921"
             ]
            ],
            "type": "heatmapgl"
           }
          ],
          "histogram": [
           {
            "marker": {
             "pattern": {
              "fillmode": "overlay",
              "size": 10,
              "solidity": 0.2
             }
            },
            "type": "histogram"
           }
          ],
          "histogram2d": [
           {
            "colorbar": {
             "outlinewidth": 0,
             "ticks": ""
            },
            "colorscale": [
             [
              0,
              "#0d0887"
             ],
             [
              0.1111111111111111,
              "#46039f"
             ],
             [
              0.2222222222222222,
              "#7201a8"
             ],
             [
              0.3333333333333333,
              "#9c179e"
             ],
             [
              0.4444444444444444,
              "#bd3786"
             ],
             [
              0.5555555555555556,
              "#d8576b"
             ],
             [
              0.6666666666666666,
              "#ed7953"
             ],
             [
              0.7777777777777778,
              "#fb9f3a"
             ],
             [
              0.8888888888888888,
              "#fdca26"
             ],
             [
              1,
              "#f0f921"
             ]
            ],
            "type": "histogram2d"
           }
          ],
          "histogram2dcontour": [
           {
            "colorbar": {
             "outlinewidth": 0,
             "ticks": ""
            },
            "colorscale": [
             [
              0,
              "#0d0887"
             ],
             [
              0.1111111111111111,
              "#46039f"
             ],
             [
              0.2222222222222222,
              "#7201a8"
             ],
             [
              0.3333333333333333,
              "#9c179e"
             ],
             [
              0.4444444444444444,
              "#bd3786"
             ],
             [
              0.5555555555555556,
              "#d8576b"
             ],
             [
              0.6666666666666666,
              "#ed7953"
             ],
             [
              0.7777777777777778,
              "#fb9f3a"
             ],
             [
              0.8888888888888888,
              "#fdca26"
             ],
             [
              1,
              "#f0f921"
             ]
            ],
            "type": "histogram2dcontour"
           }
          ],
          "mesh3d": [
           {
            "colorbar": {
             "outlinewidth": 0,
             "ticks": ""
            },
            "type": "mesh3d"
           }
          ],
          "parcoords": [
           {
            "line": {
             "colorbar": {
              "outlinewidth": 0,
              "ticks": ""
             }
            },
            "type": "parcoords"
           }
          ],
          "pie": [
           {
            "automargin": true,
            "type": "pie"
           }
          ],
          "scatter": [
           {
            "fillpattern": {
             "fillmode": "overlay",
             "size": 10,
             "solidity": 0.2
            },
            "type": "scatter"
           }
          ],
          "scatter3d": [
           {
            "line": {
             "colorbar": {
              "outlinewidth": 0,
              "ticks": ""
             }
            },
            "marker": {
             "colorbar": {
              "outlinewidth": 0,
              "ticks": ""
             }
            },
            "type": "scatter3d"
           }
          ],
          "scattercarpet": [
           {
            "marker": {
             "colorbar": {
              "outlinewidth": 0,
              "ticks": ""
             }
            },
            "type": "scattercarpet"
           }
          ],
          "scattergeo": [
           {
            "marker": {
             "colorbar": {
              "outlinewidth": 0,
              "ticks": ""
             }
            },
            "type": "scattergeo"
           }
          ],
          "scattergl": [
           {
            "marker": {
             "colorbar": {
              "outlinewidth": 0,
              "ticks": ""
             }
            },
            "type": "scattergl"
           }
          ],
          "scattermapbox": [
           {
            "marker": {
             "colorbar": {
              "outlinewidth": 0,
              "ticks": ""
             }
            },
            "type": "scattermapbox"
           }
          ],
          "scatterpolar": [
           {
            "marker": {
             "colorbar": {
              "outlinewidth": 0,
              "ticks": ""
             }
            },
            "type": "scatterpolar"
           }
          ],
          "scatterpolargl": [
           {
            "marker": {
             "colorbar": {
              "outlinewidth": 0,
              "ticks": ""
             }
            },
            "type": "scatterpolargl"
           }
          ],
          "scatterternary": [
           {
            "marker": {
             "colorbar": {
              "outlinewidth": 0,
              "ticks": ""
             }
            },
            "type": "scatterternary"
           }
          ],
          "surface": [
           {
            "colorbar": {
             "outlinewidth": 0,
             "ticks": ""
            },
            "colorscale": [
             [
              0,
              "#0d0887"
             ],
             [
              0.1111111111111111,
              "#46039f"
             ],
             [
              0.2222222222222222,
              "#7201a8"
             ],
             [
              0.3333333333333333,
              "#9c179e"
             ],
             [
              0.4444444444444444,
              "#bd3786"
             ],
             [
              0.5555555555555556,
              "#d8576b"
             ],
             [
              0.6666666666666666,
              "#ed7953"
             ],
             [
              0.7777777777777778,
              "#fb9f3a"
             ],
             [
              0.8888888888888888,
              "#fdca26"
             ],
             [
              1,
              "#f0f921"
             ]
            ],
            "type": "surface"
           }
          ],
          "table": [
           {
            "cells": {
             "fill": {
              "color": "#EBF0F8"
             },
             "line": {
              "color": "white"
             }
            },
            "header": {
             "fill": {
              "color": "#C8D4E3"
             },
             "line": {
              "color": "white"
             }
            },
            "type": "table"
           }
          ]
         },
         "layout": {
          "annotationdefaults": {
           "arrowcolor": "#2a3f5f",
           "arrowhead": 0,
           "arrowwidth": 1
          },
          "autotypenumbers": "strict",
          "coloraxis": {
           "colorbar": {
            "outlinewidth": 0,
            "ticks": ""
           }
          },
          "colorscale": {
           "diverging": [
            [
             0,
             "#8e0152"
            ],
            [
             0.1,
             "#c51b7d"
            ],
            [
             0.2,
             "#de77ae"
            ],
            [
             0.3,
             "#f1b6da"
            ],
            [
             0.4,
             "#fde0ef"
            ],
            [
             0.5,
             "#f7f7f7"
            ],
            [
             0.6,
             "#e6f5d0"
            ],
            [
             0.7,
             "#b8e186"
            ],
            [
             0.8,
             "#7fbc41"
            ],
            [
             0.9,
             "#4d9221"
            ],
            [
             1,
             "#276419"
            ]
           ],
           "sequential": [
            [
             0,
             "#0d0887"
            ],
            [
             0.1111111111111111,
             "#46039f"
            ],
            [
             0.2222222222222222,
             "#7201a8"
            ],
            [
             0.3333333333333333,
             "#9c179e"
            ],
            [
             0.4444444444444444,
             "#bd3786"
            ],
            [
             0.5555555555555556,
             "#d8576b"
            ],
            [
             0.6666666666666666,
             "#ed7953"
            ],
            [
             0.7777777777777778,
             "#fb9f3a"
            ],
            [
             0.8888888888888888,
             "#fdca26"
            ],
            [
             1,
             "#f0f921"
            ]
           ],
           "sequentialminus": [
            [
             0,
             "#0d0887"
            ],
            [
             0.1111111111111111,
             "#46039f"
            ],
            [
             0.2222222222222222,
             "#7201a8"
            ],
            [
             0.3333333333333333,
             "#9c179e"
            ],
            [
             0.4444444444444444,
             "#bd3786"
            ],
            [
             0.5555555555555556,
             "#d8576b"
            ],
            [
             0.6666666666666666,
             "#ed7953"
            ],
            [
             0.7777777777777778,
             "#fb9f3a"
            ],
            [
             0.8888888888888888,
             "#fdca26"
            ],
            [
             1,
             "#f0f921"
            ]
           ]
          },
          "colorway": [
           "#636efa",
           "#EF553B",
           "#00cc96",
           "#ab63fa",
           "#FFA15A",
           "#19d3f3",
           "#FF6692",
           "#B6E880",
           "#FF97FF",
           "#FECB52"
          ],
          "font": {
           "color": "#2a3f5f"
          },
          "geo": {
           "bgcolor": "white",
           "lakecolor": "white",
           "landcolor": "#E5ECF6",
           "showlakes": true,
           "showland": true,
           "subunitcolor": "white"
          },
          "hoverlabel": {
           "align": "left"
          },
          "hovermode": "closest",
          "mapbox": {
           "style": "light"
          },
          "paper_bgcolor": "white",
          "plot_bgcolor": "#E5ECF6",
          "polar": {
           "angularaxis": {
            "gridcolor": "white",
            "linecolor": "white",
            "ticks": ""
           },
           "bgcolor": "#E5ECF6",
           "radialaxis": {
            "gridcolor": "white",
            "linecolor": "white",
            "ticks": ""
           }
          },
          "scene": {
           "xaxis": {
            "backgroundcolor": "#E5ECF6",
            "gridcolor": "white",
            "gridwidth": 2,
            "linecolor": "white",
            "showbackground": true,
            "ticks": "",
            "zerolinecolor": "white"
           },
           "yaxis": {
            "backgroundcolor": "#E5ECF6",
            "gridcolor": "white",
            "gridwidth": 2,
            "linecolor": "white",
            "showbackground": true,
            "ticks": "",
            "zerolinecolor": "white"
           },
           "zaxis": {
            "backgroundcolor": "#E5ECF6",
            "gridcolor": "white",
            "gridwidth": 2,
            "linecolor": "white",
            "showbackground": true,
            "ticks": "",
            "zerolinecolor": "white"
           }
          },
          "shapedefaults": {
           "line": {
            "color": "#2a3f5f"
           }
          },
          "ternary": {
           "aaxis": {
            "gridcolor": "white",
            "linecolor": "white",
            "ticks": ""
           },
           "baxis": {
            "gridcolor": "white",
            "linecolor": "white",
            "ticks": ""
           },
           "bgcolor": "#E5ECF6",
           "caxis": {
            "gridcolor": "white",
            "linecolor": "white",
            "ticks": ""
           }
          },
          "title": {
           "x": 0.05
          },
          "xaxis": {
           "automargin": true,
           "gridcolor": "white",
           "linecolor": "white",
           "ticks": "",
           "title": {
            "standoff": 15
           },
           "zerolinecolor": "white",
           "zerolinewidth": 2
          },
          "yaxis": {
           "automargin": true,
           "gridcolor": "white",
           "linecolor": "white",
           "ticks": "",
           "title": {
            "standoff": 15
           },
           "zerolinecolor": "white",
           "zerolinewidth": 2
          }
         }
        },
        "width": 900,
        "xaxis": {
         "anchor": "y",
         "domain": [
          0,
          0.94
         ],
         "gridcolor": "#1f292f",
         "nticks": 5,
         "rangeslider": {
          "visible": false
         },
         "type": "category"
        },
        "yaxis": {
         "anchor": "x",
         "domain": [
          0,
          1
         ],
         "gridcolor": "#1f292f"
        },
        "yaxis2": {
         "anchor": "x",
         "gridcolor": "#1f292f",
         "overlaying": "y",
         "side": "right"
        }
       }
      }
     },
     "metadata": {},
     "output_type": "display_data"
    }
   ],
   "source": [
    "dfp = df_an.iloc[-10:]\n",
    "cp = CandlePlot(dfp)\n",
    "cp.show_plot(line_traces=['body_upper','body_lower'], height=300)"
   ]
  },
  {
   "cell_type": "code",
   "execution_count": 7,
   "metadata": {},
   "outputs": [
    {
     "data": {
      "text/plain": [
       "time                2023-12-29 12:00:00+00:00\n",
       "mid_o                                 180.417\n",
       "mid_h                                 180.417\n",
       "mid_l                                 179.822\n",
       "mid_c                                 179.955\n",
       "body_lower                            179.955\n",
       "body_upper                            180.417\n",
       "body_bottom_perc                    22.352941\n",
       "body_top_perc                           100.0\n",
       "body_perc                           77.647059\n",
       "direction                                  -1\n",
       "Name: 49737, dtype: object"
      ]
     },
     "execution_count": 7,
     "metadata": {},
     "output_type": "execute_result"
    }
   ],
   "source": [
    "df_an.iloc[-10]"
   ]
  },
  {
   "cell_type": "code",
   "execution_count": 8,
   "metadata": {},
   "outputs": [],
   "source": [
    "HANGING_MAN_BODY = 15.0\n",
    "HANGING_MAN_HEIGHT = 75.0\n",
    "\n",
    "def apply_hanging_man(row):\n",
    "    if row['body_bottom_perc'] > HANGING_MAN_HEIGHT:\n",
    "        if row['body_perc'] < HANGING_MAN_BODY:\n",
    "            return True\n",
    "    return False"
   ]
  },
  {
   "cell_type": "code",
   "execution_count": 9,
   "metadata": {},
   "outputs": [],
   "source": [
    "df_an['HANGING_MAN'] = df_an.apply(apply_hanging_man, axis=1)"
   ]
  },
  {
   "cell_type": "code",
   "execution_count": 12,
   "metadata": {},
   "outputs": [],
   "source": [
    "import plotly.graph_objects as go"
   ]
  },
  {
   "cell_type": "code",
   "execution_count": 15,
   "metadata": {},
   "outputs": [
    {
     "data": {
      "application/vnd.plotly.v1+json": {
       "config": {
        "plotlyServerURL": "https://plot.ly"
       },
       "data": [
        {
         "close": [
          180.104,
          180.556,
          180.584,
          180.774,
          180.694,
          181.026,
          180.901,
          181.062,
          181.105,
          181.108,
          181.112,
          181.704,
          181.414,
          181.57,
          181.336,
          181.156,
          180.96,
          181.038,
          181.21,
          181.277,
          180.66,
          181.113,
          181.097,
          181.032,
          180.597,
          180.9,
          180.267,
          180.004,
          180.192,
          180.465,
          180.229,
          180.426,
          180.278,
          180.244,
          180.214,
          180.352,
          180.216,
          180.399,
          180.523,
          180.482,
          180.479,
          180.508,
          180.558,
          180.698,
          180.63,
          180.497,
          180.786,
          180.638,
          180.758,
          180.914,
          181.096,
          180.962,
          180.684,
          180.836,
          180.698,
          180.612,
          180.748,
          180.609,
          180.65,
          180.548,
          180.372,
          180.366,
          181.832,
          181.702,
          181.609,
          181.65,
          181.842,
          182.625,
          183.352,
          183.554,
          184.009,
          183.922,
          183.798,
          183.873,
          183.592,
          183.189,
          183.114,
          183.182,
          183.111,
          183.094,
          183.088,
          183.143,
          183.145,
          183.216,
          183.036,
          182.958,
          183.086,
          182.782,
          182.556,
          182.674,
          182.65,
          181.778,
          181.81,
          181.826,
          181.41,
          181.38,
          181.448,
          181.493,
          181.764,
          182.018,
          181.989,
          182.318,
          182.132,
          181.802,
          181.506,
          181.472,
          181.298,
          181.399,
          181.265,
          180.798,
          180.531,
          180.537,
          180.59,
          180.812,
          180.802,
          181.014,
          180.857,
          180.699,
          180.767,
          180.754,
          180.688,
          180.324,
          180.226,
          179.892,
          180.068,
          180.148,
          180.408,
          180.402,
          180.422,
          180.35,
          180.305,
          180.136,
          180.385,
          180.468,
          180.62,
          180.736,
          180.6,
          180.594,
          180.504,
          180.504,
          180.591,
          180.298,
          180.715,
          180.76,
          180.702,
          180.834,
          180.817,
          180.975,
          181.322,
          181.059,
          180.985,
          180.958,
          180.931,
          180.832,
          180.674,
          180.704,
          180.721,
          180.764,
          180.716,
          180.772,
          180.796,
          180.762,
          180.736,
          180.69,
          180.679,
          180.854,
          180.764,
          180.739,
          180.69,
          180.873,
          180.947,
          181.169,
          181.064,
          181.038,
          181.094,
          181.273,
          181.263,
          181.166,
          181.174,
          181.336,
          181.55,
          181.482,
          181.34,
          181.414,
          181.526,
          181.522,
          181.622,
          181.708,
          181.16,
          181.372,
          181.61,
          181.539,
          181.698,
          181.852,
          182.139,
          181.868,
          181.784,
          181.746,
          181.724,
          181.532,
          181.514,
          181.532,
          181.301,
          181.052,
          181.272,
          181.176,
          181.14,
          181.066,
          180.852,
          180.812,
          180.746,
          180.519,
          180.388,
          180.061,
          180.046,
          180.133,
          179.886,
          179.819,
          179.779,
          179.919,
          179.769,
          179.908,
          180.044,
          180.036,
          180.006,
          180.019,
          180.044,
          180.124,
          180.438,
          180.211,
          180.132,
          180.228,
          180.322,
          180.364,
          180.386,
          180.259,
          180.268,
          180.296,
          180.445,
          180.413,
          179.955,
          180.426,
          180.172,
          179.742,
          179.543,
          179.756,
          179.648,
          179.756,
          179.728,
          179.55
         ],
         "decreasing": {
          "fillcolor": "#CC2E3C",
          "line": {
           "color": "#FF3A4C"
          }
         },
         "high": [
          180.484,
          180.672,
          180.826,
          180.927,
          180.855,
          181.219,
          181.11,
          181.119,
          181.115,
          181.204,
          181.182,
          181.738,
          181.736,
          181.575,
          181.642,
          181.369,
          181.191,
          181.122,
          181.361,
          181.296,
          181.345,
          181.146,
          181.202,
          181.171,
          181.059,
          181.096,
          180.924,
          180.276,
          180.246,
          180.564,
          180.47,
          180.497,
          180.468,
          180.37,
          180.262,
          180.386,
          180.59,
          180.563,
          180.642,
          180.568,
          180.6,
          180.562,
          180.6,
          180.846,
          180.902,
          180.671,
          180.888,
          180.854,
          180.898,
          180.923,
          181.184,
          181.116,
          181.026,
          180.846,
          180.848,
          180.734,
          180.774,
          180.787,
          180.69,
          180.666,
          180.54,
          180.408,
          181.906,
          181.971,
          181.796,
          181.77,
          181.963,
          182.638,
          183.504,
          183.612,
          184.181,
          184.11,
          184.032,
          184.076,
          184.01,
          183.593,
          183.32,
          183.244,
          183.244,
          183.17,
          183.166,
          183.172,
          183.212,
          183.288,
          183.34,
          183.119,
          183.17,
          183.115,
          182.834,
          182.805,
          182.832,
          182.658,
          181.891,
          181.84,
          181.841,
          181.54,
          181.747,
          181.694,
          181.83,
          182.063,
          182.286,
          182.332,
          182.363,
          182.16,
          181.838,
          181.519,
          181.573,
          181.406,
          181.414,
          181.359,
          180.814,
          180.708,
          180.672,
          180.894,
          180.892,
          181.113,
          181.118,
          180.908,
          180.788,
          180.997,
          180.855,
          180.92,
          180.584,
          180.37,
          180.098,
          180.3,
          180.434,
          180.464,
          180.496,
          180.479,
          180.49,
          180.385,
          180.416,
          180.562,
          180.669,
          180.788,
          180.776,
          180.74,
          180.662,
          180.967,
          180.754,
          180.59,
          180.768,
          181.06,
          180.867,
          180.935,
          180.895,
          181.154,
          181.335,
          181.334,
          181.078,
          180.984,
          180.99,
          180.973,
          180.716,
          180.886,
          180.828,
          180.824,
          180.806,
          180.798,
          180.802,
          180.816,
          180.798,
          180.756,
          180.854,
          180.88,
          180.9,
          180.786,
          180.787,
          180.884,
          181.128,
          181.169,
          181.25,
          181.064,
          181.131,
          181.286,
          181.302,
          181.298,
          181.244,
          181.337,
          181.67,
          181.584,
          181.576,
          181.424,
          181.592,
          181.565,
          181.673,
          181.874,
          181.744,
          181.412,
          181.631,
          181.63,
          181.72,
          181.938,
          182.197,
          182.154,
          181.94,
          181.95,
          181.815,
          181.748,
          181.589,
          181.576,
          181.362,
          181.364,
          181.4,
          181.364,
          181.18,
          181.21,
          181.068,
          181.062,
          180.92,
          180.781,
          180.704,
          180.447,
          180.19,
          180.162,
          180.136,
          179.918,
          179.95,
          179.939,
          180.366,
          180.1,
          180.059,
          180.09,
          180.075,
          180.105,
          180.127,
          180.134,
          180.462,
          180.442,
          180.249,
          180.228,
          180.328,
          180.398,
          180.468,
          180.384,
          180.441,
          180.381,
          180.453,
          180.536,
          180.417,
          180.486,
          180.428,
          180.344,
          179.88,
          179.815,
          179.88,
          179.776,
          179.872,
          179.806
         ],
         "increasing": {
          "fillcolor": "#24A06B",
          "line": {
           "color": "#2EC886"
          }
         },
         "line": {
          "width": 1
         },
         "low": [
          179.084,
          179.988,
          180.312,
          180.396,
          180.617,
          180.666,
          180.725,
          180.855,
          180.978,
          181.019,
          181.102,
          181.076,
          181.376,
          181.274,
          181.118,
          181.022,
          180.887,
          180.762,
          180.985,
          181.06,
          180.56,
          180.472,
          180.896,
          180.87,
          180.49,
          180.43,
          180.103,
          179.821,
          179.84,
          180.191,
          180.168,
          180.052,
          180.266,
          180.147,
          179.985,
          180.186,
          180.184,
          180.214,
          180.334,
          180.408,
          180.438,
          180.459,
          180.408,
          180.442,
          180.542,
          180.38,
          180.49,
          180.484,
          180.583,
          180.704,
          180.885,
          180.771,
          180.672,
          180.598,
          180.62,
          180.606,
          180.608,
          180.602,
          180.507,
          180.429,
          180.048,
          180.172,
          180.312,
          181.372,
          181.407,
          181.544,
          180.442,
          181.829,
          182.607,
          183.226,
          183.43,
          183.748,
          183.71,
          183.61,
          183.586,
          183.112,
          183.086,
          183.034,
          183.066,
          183.044,
          182.984,
          183.026,
          183.03,
          183.09,
          182.968,
          182.868,
          182.92,
          182.713,
          182.427,
          182.496,
          182.576,
          181.278,
          181.636,
          181.448,
          181.385,
          181.359,
          181.272,
          181.372,
          181.49,
          181.672,
          181.985,
          181.93,
          182.08,
          181.799,
          181.446,
          181.364,
          181.202,
          181.207,
          181.168,
          180.702,
          180.512,
          180.443,
          180.512,
          180.56,
          180.588,
          180.695,
          180.729,
          180.522,
          180.56,
          180.688,
          180.6,
          180.268,
          180.176,
          179.855,
          179.787,
          180.057,
          180.147,
          180.297,
          180.358,
          180.314,
          180.27,
          180.102,
          179.948,
          180.387,
          180.415,
          180.618,
          180.548,
          180.547,
          180.358,
          180.406,
          180.468,
          180.252,
          180.292,
          180.698,
          180.578,
          180.632,
          180.55,
          180.756,
          180.916,
          180.922,
          180.956,
          180.816,
          180.888,
          180.796,
          180.568,
          180.65,
          180.514,
          180.68,
          180.656,
          180.681,
          180.702,
          180.722,
          180.693,
          180.58,
          180.662,
          180.652,
          180.726,
          180.696,
          180.646,
          180.684,
          180.86,
          180.918,
          181.064,
          180.972,
          180.977,
          181.094,
          181.218,
          181.15,
          181.095,
          181.149,
          181.31,
          181.394,
          181.3,
          181.27,
          181.405,
          181.436,
          181.466,
          181.59,
          181.121,
          181.124,
          181.193,
          181.464,
          181.482,
          181.63,
          181.638,
          181.799,
          181.537,
          181.718,
          181.612,
          181.185,
          181.336,
          181.412,
          181.142,
          180.974,
          180.73,
          181.089,
          180.956,
          181.022,
          180.778,
          180.738,
          180.715,
          180.412,
          180.299,
          180.01,
          179.954,
          179.935,
          179.802,
          179.651,
          179.654,
          179.002,
          179.692,
          179.763,
          179.836,
          179.976,
          179.878,
          179.957,
          179.956,
          179.84,
          180.034,
          180.197,
          180.046,
          180.072,
          180.12,
          180.166,
          180.318,
          180.082,
          180.184,
          180.105,
          180.093,
          180.309,
          179.822,
          179.818,
          180.016,
          179.57,
          179.31,
          179.505,
          179.64,
          179.53,
          179.695,
          179.457
         ],
         "opacity": 1,
         "open": [
          179.084,
          180.106,
          180.554,
          180.586,
          180.778,
          180.688,
          181.03,
          180.904,
          181.061,
          181.103,
          181.15,
          181.12,
          181.702,
          181.414,
          181.572,
          181.334,
          181.166,
          180.96,
          181.032,
          181.205,
          181.276,
          180.658,
          181.114,
          181.096,
          181.034,
          180.599,
          180.9,
          180.268,
          180.006,
          180.192,
          180.468,
          180.228,
          180.426,
          180.28,
          180.262,
          180.208,
          180.347,
          180.216,
          180.4,
          180.522,
          180.485,
          180.482,
          180.509,
          180.55,
          180.697,
          180.626,
          180.499,
          180.787,
          180.643,
          180.758,
          180.912,
          181.095,
          180.958,
          180.688,
          180.838,
          180.698,
          180.612,
          180.742,
          180.516,
          180.654,
          180.534,
          180.372,
          180.37,
          181.832,
          181.7,
          181.608,
          181.648,
          181.832,
          182.628,
          183.351,
          183.553,
          184.01,
          183.92,
          183.796,
          183.877,
          183.593,
          183.19,
          183.115,
          183.182,
          183.112,
          183.085,
          183.085,
          183.058,
          183.148,
          183.223,
          183.034,
          182.958,
          183.085,
          182.782,
          182.556,
          182.671,
          182.648,
          181.782,
          181.805,
          181.83,
          181.409,
          181.38,
          181.446,
          181.494,
          181.77,
          182.019,
          181.988,
          182.318,
          182.128,
          181.8,
          181.508,
          181.3,
          181.306,
          181.398,
          181.266,
          180.798,
          180.532,
          180.537,
          180.59,
          180.812,
          180.804,
          181.012,
          180.857,
          180.7,
          180.77,
          180.748,
          180.696,
          180.324,
          180.226,
          179.892,
          180.065,
          180.148,
          180.407,
          180.401,
          180.422,
          180.424,
          180.313,
          180.134,
          180.387,
          180.466,
          180.62,
          180.737,
          180.6,
          180.594,
          180.503,
          180.502,
          180.59,
          180.293,
          180.714,
          180.765,
          180.702,
          180.835,
          180.824,
          180.972,
          181.324,
          181.058,
          180.983,
          180.956,
          180.928,
          180.668,
          180.664,
          180.707,
          180.718,
          180.766,
          180.716,
          180.771,
          180.793,
          180.77,
          180.738,
          180.688,
          180.678,
          180.858,
          180.762,
          180.738,
          180.69,
          180.871,
          180.948,
          181.176,
          181.064,
          181.04,
          181.094,
          181.272,
          181.268,
          181.162,
          181.168,
          181.334,
          181.551,
          181.481,
          181.34,
          181.416,
          181.527,
          181.522,
          181.62,
          181.704,
          181.161,
          181.374,
          181.611,
          181.538,
          181.699,
          181.853,
          182.138,
          181.862,
          181.78,
          181.744,
          181.72,
          181.532,
          181.515,
          181.362,
          181.292,
          181.052,
          181.272,
          181.172,
          181.139,
          181.066,
          180.852,
          180.811,
          180.746,
          180.512,
          180.387,
          180.06,
          180.047,
          180.134,
          179.888,
          179.818,
          179.78,
          179.92,
          179.764,
          179.906,
          180.046,
          180.034,
          180.004,
          180.074,
          180.044,
          180.12,
          180.439,
          180.21,
          180.132,
          180.229,
          180.322,
          180.372,
          180.384,
          180.247,
          180.273,
          180.298,
          180.434,
          180.417,
          179.956,
          180.424,
          180.17,
          179.742,
          179.547,
          179.754,
          179.65,
          179.76,
          179.728
         ],
         "type": "candlestick",
         "x": [
          "2023-12-14T12:00:00+00:00",
          "2023-12-14T13:00:00+00:00",
          "2023-12-14T14:00:00+00:00",
          "2023-12-14T15:00:00+00:00",
          "2023-12-14T16:00:00+00:00",
          "2023-12-14T17:00:00+00:00",
          "2023-12-14T18:00:00+00:00",
          "2023-12-14T19:00:00+00:00",
          "2023-12-14T20:00:00+00:00",
          "2023-12-14T21:00:00+00:00",
          "2023-12-14T22:00:00+00:00",
          "2023-12-14T23:00:00+00:00",
          "2023-12-15T00:00:00+00:00",
          "2023-12-15T01:00:00+00:00",
          "2023-12-15T02:00:00+00:00",
          "2023-12-15T03:00:00+00:00",
          "2023-12-15T04:00:00+00:00",
          "2023-12-15T05:00:00+00:00",
          "2023-12-15T06:00:00+00:00",
          "2023-12-15T07:00:00+00:00",
          "2023-12-15T08:00:00+00:00",
          "2023-12-15T09:00:00+00:00",
          "2023-12-15T10:00:00+00:00",
          "2023-12-15T11:00:00+00:00",
          "2023-12-15T12:00:00+00:00",
          "2023-12-15T13:00:00+00:00",
          "2023-12-15T14:00:00+00:00",
          "2023-12-15T15:00:00+00:00",
          "2023-12-15T16:00:00+00:00",
          "2023-12-15T17:00:00+00:00",
          "2023-12-15T18:00:00+00:00",
          "2023-12-15T19:00:00+00:00",
          "2023-12-15T20:00:00+00:00",
          "2023-12-15T21:00:00+00:00",
          "2023-12-17T22:00:00+00:00",
          "2023-12-17T23:00:00+00:00",
          "2023-12-18T00:00:00+00:00",
          "2023-12-18T01:00:00+00:00",
          "2023-12-18T02:00:00+00:00",
          "2023-12-18T03:00:00+00:00",
          "2023-12-18T04:00:00+00:00",
          "2023-12-18T05:00:00+00:00",
          "2023-12-18T06:00:00+00:00",
          "2023-12-18T07:00:00+00:00",
          "2023-12-18T08:00:00+00:00",
          "2023-12-18T09:00:00+00:00",
          "2023-12-18T10:00:00+00:00",
          "2023-12-18T11:00:00+00:00",
          "2023-12-18T12:00:00+00:00",
          "2023-12-18T13:00:00+00:00",
          "2023-12-18T14:00:00+00:00",
          "2023-12-18T15:00:00+00:00",
          "2023-12-18T16:00:00+00:00",
          "2023-12-18T17:00:00+00:00",
          "2023-12-18T18:00:00+00:00",
          "2023-12-18T19:00:00+00:00",
          "2023-12-18T20:00:00+00:00",
          "2023-12-18T21:00:00+00:00",
          "2023-12-18T22:00:00+00:00",
          "2023-12-18T23:00:00+00:00",
          "2023-12-19T00:00:00+00:00",
          "2023-12-19T01:00:00+00:00",
          "2023-12-19T02:00:00+00:00",
          "2023-12-19T03:00:00+00:00",
          "2023-12-19T04:00:00+00:00",
          "2023-12-19T05:00:00+00:00",
          "2023-12-19T06:00:00+00:00",
          "2023-12-19T07:00:00+00:00",
          "2023-12-19T08:00:00+00:00",
          "2023-12-19T09:00:00+00:00",
          "2023-12-19T10:00:00+00:00",
          "2023-12-19T11:00:00+00:00",
          "2023-12-19T12:00:00+00:00",
          "2023-12-19T13:00:00+00:00",
          "2023-12-19T14:00:00+00:00",
          "2023-12-19T15:00:00+00:00",
          "2023-12-19T16:00:00+00:00",
          "2023-12-19T17:00:00+00:00",
          "2023-12-19T18:00:00+00:00",
          "2023-12-19T19:00:00+00:00",
          "2023-12-19T20:00:00+00:00",
          "2023-12-19T21:00:00+00:00",
          "2023-12-19T22:00:00+00:00",
          "2023-12-19T23:00:00+00:00",
          "2023-12-20T00:00:00+00:00",
          "2023-12-20T01:00:00+00:00",
          "2023-12-20T02:00:00+00:00",
          "2023-12-20T03:00:00+00:00",
          "2023-12-20T04:00:00+00:00",
          "2023-12-20T05:00:00+00:00",
          "2023-12-20T06:00:00+00:00",
          "2023-12-20T07:00:00+00:00",
          "2023-12-20T08:00:00+00:00",
          "2023-12-20T09:00:00+00:00",
          "2023-12-20T10:00:00+00:00",
          "2023-12-20T11:00:00+00:00",
          "2023-12-20T12:00:00+00:00",
          "2023-12-20T13:00:00+00:00",
          "2023-12-20T14:00:00+00:00",
          "2023-12-20T15:00:00+00:00",
          "2023-12-20T16:00:00+00:00",
          "2023-12-20T17:00:00+00:00",
          "2023-12-20T18:00:00+00:00",
          "2023-12-20T19:00:00+00:00",
          "2023-12-20T20:00:00+00:00",
          "2023-12-20T21:00:00+00:00",
          "2023-12-20T22:00:00+00:00",
          "2023-12-20T23:00:00+00:00",
          "2023-12-21T00:00:00+00:00",
          "2023-12-21T01:00:00+00:00",
          "2023-12-21T02:00:00+00:00",
          "2023-12-21T03:00:00+00:00",
          "2023-12-21T04:00:00+00:00",
          "2023-12-21T05:00:00+00:00",
          "2023-12-21T06:00:00+00:00",
          "2023-12-21T07:00:00+00:00",
          "2023-12-21T08:00:00+00:00",
          "2023-12-21T09:00:00+00:00",
          "2023-12-21T10:00:00+00:00",
          "2023-12-21T11:00:00+00:00",
          "2023-12-21T12:00:00+00:00",
          "2023-12-21T13:00:00+00:00",
          "2023-12-21T14:00:00+00:00",
          "2023-12-21T15:00:00+00:00",
          "2023-12-21T16:00:00+00:00",
          "2023-12-21T17:00:00+00:00",
          "2023-12-21T18:00:00+00:00",
          "2023-12-21T19:00:00+00:00",
          "2023-12-21T20:00:00+00:00",
          "2023-12-21T21:00:00+00:00",
          "2023-12-21T22:00:00+00:00",
          "2023-12-21T23:00:00+00:00",
          "2023-12-22T00:00:00+00:00",
          "2023-12-22T01:00:00+00:00",
          "2023-12-22T02:00:00+00:00",
          "2023-12-22T03:00:00+00:00",
          "2023-12-22T04:00:00+00:00",
          "2023-12-22T05:00:00+00:00",
          "2023-12-22T06:00:00+00:00",
          "2023-12-22T07:00:00+00:00",
          "2023-12-22T08:00:00+00:00",
          "2023-12-22T09:00:00+00:00",
          "2023-12-22T10:00:00+00:00",
          "2023-12-22T11:00:00+00:00",
          "2023-12-22T12:00:00+00:00",
          "2023-12-22T13:00:00+00:00",
          "2023-12-22T14:00:00+00:00",
          "2023-12-22T15:00:00+00:00",
          "2023-12-22T16:00:00+00:00",
          "2023-12-22T17:00:00+00:00",
          "2023-12-22T18:00:00+00:00",
          "2023-12-22T19:00:00+00:00",
          "2023-12-22T20:00:00+00:00",
          "2023-12-22T21:00:00+00:00",
          "2023-12-25T22:00:00+00:00",
          "2023-12-25T23:00:00+00:00",
          "2023-12-26T00:00:00+00:00",
          "2023-12-26T01:00:00+00:00",
          "2023-12-26T02:00:00+00:00",
          "2023-12-26T03:00:00+00:00",
          "2023-12-26T04:00:00+00:00",
          "2023-12-26T05:00:00+00:00",
          "2023-12-26T06:00:00+00:00",
          "2023-12-26T07:00:00+00:00",
          "2023-12-26T08:00:00+00:00",
          "2023-12-26T09:00:00+00:00",
          "2023-12-26T10:00:00+00:00",
          "2023-12-26T11:00:00+00:00",
          "2023-12-26T12:00:00+00:00",
          "2023-12-26T13:00:00+00:00",
          "2023-12-26T14:00:00+00:00",
          "2023-12-26T15:00:00+00:00",
          "2023-12-26T16:00:00+00:00",
          "2023-12-26T17:00:00+00:00",
          "2023-12-26T18:00:00+00:00",
          "2023-12-26T19:00:00+00:00",
          "2023-12-26T20:00:00+00:00",
          "2023-12-26T21:00:00+00:00",
          "2023-12-26T22:00:00+00:00",
          "2023-12-26T23:00:00+00:00",
          "2023-12-27T00:00:00+00:00",
          "2023-12-27T01:00:00+00:00",
          "2023-12-27T02:00:00+00:00",
          "2023-12-27T03:00:00+00:00",
          "2023-12-27T04:00:00+00:00",
          "2023-12-27T05:00:00+00:00",
          "2023-12-27T06:00:00+00:00",
          "2023-12-27T07:00:00+00:00",
          "2023-12-27T08:00:00+00:00",
          "2023-12-27T09:00:00+00:00",
          "2023-12-27T10:00:00+00:00",
          "2023-12-27T11:00:00+00:00",
          "2023-12-27T12:00:00+00:00",
          "2023-12-27T13:00:00+00:00",
          "2023-12-27T14:00:00+00:00",
          "2023-12-27T15:00:00+00:00",
          "2023-12-27T16:00:00+00:00",
          "2023-12-27T17:00:00+00:00",
          "2023-12-27T18:00:00+00:00",
          "2023-12-27T19:00:00+00:00",
          "2023-12-27T20:00:00+00:00",
          "2023-12-27T21:00:00+00:00",
          "2023-12-27T22:00:00+00:00",
          "2023-12-27T23:00:00+00:00",
          "2023-12-28T00:00:00+00:00",
          "2023-12-28T01:00:00+00:00",
          "2023-12-28T02:00:00+00:00",
          "2023-12-28T03:00:00+00:00",
          "2023-12-28T04:00:00+00:00",
          "2023-12-28T05:00:00+00:00",
          "2023-12-28T06:00:00+00:00",
          "2023-12-28T07:00:00+00:00",
          "2023-12-28T08:00:00+00:00",
          "2023-12-28T09:00:00+00:00",
          "2023-12-28T10:00:00+00:00",
          "2023-12-28T11:00:00+00:00",
          "2023-12-28T12:00:00+00:00",
          "2023-12-28T13:00:00+00:00",
          "2023-12-28T14:00:00+00:00",
          "2023-12-28T15:00:00+00:00",
          "2023-12-28T16:00:00+00:00",
          "2023-12-28T17:00:00+00:00",
          "2023-12-28T18:00:00+00:00",
          "2023-12-28T19:00:00+00:00",
          "2023-12-28T20:00:00+00:00",
          "2023-12-28T21:00:00+00:00",
          "2023-12-28T22:00:00+00:00",
          "2023-12-28T23:00:00+00:00",
          "2023-12-29T00:00:00+00:00",
          "2023-12-29T01:00:00+00:00",
          "2023-12-29T02:00:00+00:00",
          "2023-12-29T03:00:00+00:00",
          "2023-12-29T04:00:00+00:00",
          "2023-12-29T05:00:00+00:00",
          "2023-12-29T06:00:00+00:00",
          "2023-12-29T07:00:00+00:00",
          "2023-12-29T08:00:00+00:00",
          "2023-12-29T09:00:00+00:00",
          "2023-12-29T10:00:00+00:00",
          "2023-12-29T11:00:00+00:00",
          "2023-12-29T12:00:00+00:00",
          "2023-12-29T13:00:00+00:00",
          "2023-12-29T14:00:00+00:00",
          "2023-12-29T15:00:00+00:00",
          "2023-12-29T16:00:00+00:00",
          "2023-12-29T17:00:00+00:00",
          "2023-12-29T18:00:00+00:00",
          "2023-12-29T19:00:00+00:00",
          "2023-12-29T20:00:00+00:00",
          "2023-12-29T21:00:00+00:00"
         ]
        },
        {
         "close": [
          180.366,
          181.842,
          181.826,
          180.817,
          180.958,
          181.14,
          179.919
         ],
         "decreasing": {
          "fillcolor": "#0066FF",
          "line": {
           "color": "#0066FF"
          }
         },
         "high": [
          180.408,
          181.963,
          181.84,
          180.895,
          180.984,
          181.18,
          179.939
         ],
         "increasing": {
          "fillcolor": "#0066FF",
          "line": {
           "color": "#0066FF"
          }
         },
         "line": {
          "width": 1
         },
         "low": [
          180.172,
          180.442,
          181.448,
          180.55,
          180.816,
          180.956,
          179.002
         ],
         "opacity": 1,
         "open": [
          180.372,
          181.648,
          181.805,
          180.835,
          180.983,
          181.172,
          179.78
         ],
         "type": "candlestick",
         "x": [
          "2023-12-19T01:00:00+00:00",
          "2023-12-19T06:00:00+00:00",
          "2023-12-20T09:00:00+00:00",
          "2023-12-22T14:00:00+00:00",
          "2023-12-22T19:00:00+00:00",
          "2023-12-28T02:00:00+00:00",
          "2023-12-28T15:00:00+00:00"
         ]
        }
       ],
       "layout": {
        "font": {
         "color": "#e1e1e1",
         "size": 8
        },
        "height": 400,
        "margin": {
         "b": 10,
         "l": 10,
         "r": 10,
         "t": 10
        },
        "paper_bgcolor": "#2c303c",
        "plot_bgcolor": "#2c303c",
        "template": {
         "data": {
          "bar": [
           {
            "error_x": {
             "color": "#2a3f5f"
            },
            "error_y": {
             "color": "#2a3f5f"
            },
            "marker": {
             "line": {
              "color": "#E5ECF6",
              "width": 0.5
             },
             "pattern": {
              "fillmode": "overlay",
              "size": 10,
              "solidity": 0.2
             }
            },
            "type": "bar"
           }
          ],
          "barpolar": [
           {
            "marker": {
             "line": {
              "color": "#E5ECF6",
              "width": 0.5
             },
             "pattern": {
              "fillmode": "overlay",
              "size": 10,
              "solidity": 0.2
             }
            },
            "type": "barpolar"
           }
          ],
          "carpet": [
           {
            "aaxis": {
             "endlinecolor": "#2a3f5f",
             "gridcolor": "white",
             "linecolor": "white",
             "minorgridcolor": "white",
             "startlinecolor": "#2a3f5f"
            },
            "baxis": {
             "endlinecolor": "#2a3f5f",
             "gridcolor": "white",
             "linecolor": "white",
             "minorgridcolor": "white",
             "startlinecolor": "#2a3f5f"
            },
            "type": "carpet"
           }
          ],
          "choropleth": [
           {
            "colorbar": {
             "outlinewidth": 0,
             "ticks": ""
            },
            "type": "choropleth"
           }
          ],
          "contour": [
           {
            "colorbar": {
             "outlinewidth": 0,
             "ticks": ""
            },
            "colorscale": [
             [
              0,
              "#0d0887"
             ],
             [
              0.1111111111111111,
              "#46039f"
             ],
             [
              0.2222222222222222,
              "#7201a8"
             ],
             [
              0.3333333333333333,
              "#9c179e"
             ],
             [
              0.4444444444444444,
              "#bd3786"
             ],
             [
              0.5555555555555556,
              "#d8576b"
             ],
             [
              0.6666666666666666,
              "#ed7953"
             ],
             [
              0.7777777777777778,
              "#fb9f3a"
             ],
             [
              0.8888888888888888,
              "#fdca26"
             ],
             [
              1,
              "#f0f921"
             ]
            ],
            "type": "contour"
           }
          ],
          "contourcarpet": [
           {
            "colorbar": {
             "outlinewidth": 0,
             "ticks": ""
            },
            "type": "contourcarpet"
           }
          ],
          "heatmap": [
           {
            "colorbar": {
             "outlinewidth": 0,
             "ticks": ""
            },
            "colorscale": [
             [
              0,
              "#0d0887"
             ],
             [
              0.1111111111111111,
              "#46039f"
             ],
             [
              0.2222222222222222,
              "#7201a8"
             ],
             [
              0.3333333333333333,
              "#9c179e"
             ],
             [
              0.4444444444444444,
              "#bd3786"
             ],
             [
              0.5555555555555556,
              "#d8576b"
             ],
             [
              0.6666666666666666,
              "#ed7953"
             ],
             [
              0.7777777777777778,
              "#fb9f3a"
             ],
             [
              0.8888888888888888,
              "#fdca26"
             ],
             [
              1,
              "#f0f921"
             ]
            ],
            "type": "heatmap"
           }
          ],
          "heatmapgl": [
           {
            "colorbar": {
             "outlinewidth": 0,
             "ticks": ""
            },
            "colorscale": [
             [
              0,
              "#0d0887"
             ],
             [
              0.1111111111111111,
              "#46039f"
             ],
             [
              0.2222222222222222,
              "#7201a8"
             ],
             [
              0.3333333333333333,
              "#9c179e"
             ],
             [
              0.4444444444444444,
              "#bd3786"
             ],
             [
              0.5555555555555556,
              "#d8576b"
             ],
             [
              0.6666666666666666,
              "#ed7953"
             ],
             [
              0.7777777777777778,
              "#fb9f3a"
             ],
             [
              0.8888888888888888,
              "#fdca26"
             ],
             [
              1,
              "#f0f921"
             ]
            ],
            "type": "heatmapgl"
           }
          ],
          "histogram": [
           {
            "marker": {
             "pattern": {
              "fillmode": "overlay",
              "size": 10,
              "solidity": 0.2
             }
            },
            "type": "histogram"
           }
          ],
          "histogram2d": [
           {
            "colorbar": {
             "outlinewidth": 0,
             "ticks": ""
            },
            "colorscale": [
             [
              0,
              "#0d0887"
             ],
             [
              0.1111111111111111,
              "#46039f"
             ],
             [
              0.2222222222222222,
              "#7201a8"
             ],
             [
              0.3333333333333333,
              "#9c179e"
             ],
             [
              0.4444444444444444,
              "#bd3786"
             ],
             [
              0.5555555555555556,
              "#d8576b"
             ],
             [
              0.6666666666666666,
              "#ed7953"
             ],
             [
              0.7777777777777778,
              "#fb9f3a"
             ],
             [
              0.8888888888888888,
              "#fdca26"
             ],
             [
              1,
              "#f0f921"
             ]
            ],
            "type": "histogram2d"
           }
          ],
          "histogram2dcontour": [
           {
            "colorbar": {
             "outlinewidth": 0,
             "ticks": ""
            },
            "colorscale": [
             [
              0,
              "#0d0887"
             ],
             [
              0.1111111111111111,
              "#46039f"
             ],
             [
              0.2222222222222222,
              "#7201a8"
             ],
             [
              0.3333333333333333,
              "#9c179e"
             ],
             [
              0.4444444444444444,
              "#bd3786"
             ],
             [
              0.5555555555555556,
              "#d8576b"
             ],
             [
              0.6666666666666666,
              "#ed7953"
             ],
             [
              0.7777777777777778,
              "#fb9f3a"
             ],
             [
              0.8888888888888888,
              "#fdca26"
             ],
             [
              1,
              "#f0f921"
             ]
            ],
            "type": "histogram2dcontour"
           }
          ],
          "mesh3d": [
           {
            "colorbar": {
             "outlinewidth": 0,
             "ticks": ""
            },
            "type": "mesh3d"
           }
          ],
          "parcoords": [
           {
            "line": {
             "colorbar": {
              "outlinewidth": 0,
              "ticks": ""
             }
            },
            "type": "parcoords"
           }
          ],
          "pie": [
           {
            "automargin": true,
            "type": "pie"
           }
          ],
          "scatter": [
           {
            "fillpattern": {
             "fillmode": "overlay",
             "size": 10,
             "solidity": 0.2
            },
            "type": "scatter"
           }
          ],
          "scatter3d": [
           {
            "line": {
             "colorbar": {
              "outlinewidth": 0,
              "ticks": ""
             }
            },
            "marker": {
             "colorbar": {
              "outlinewidth": 0,
              "ticks": ""
             }
            },
            "type": "scatter3d"
           }
          ],
          "scattercarpet": [
           {
            "marker": {
             "colorbar": {
              "outlinewidth": 0,
              "ticks": ""
             }
            },
            "type": "scattercarpet"
           }
          ],
          "scattergeo": [
           {
            "marker": {
             "colorbar": {
              "outlinewidth": 0,
              "ticks": ""
             }
            },
            "type": "scattergeo"
           }
          ],
          "scattergl": [
           {
            "marker": {
             "colorbar": {
              "outlinewidth": 0,
              "ticks": ""
             }
            },
            "type": "scattergl"
           }
          ],
          "scattermapbox": [
           {
            "marker": {
             "colorbar": {
              "outlinewidth": 0,
              "ticks": ""
             }
            },
            "type": "scattermapbox"
           }
          ],
          "scatterpolar": [
           {
            "marker": {
             "colorbar": {
              "outlinewidth": 0,
              "ticks": ""
             }
            },
            "type": "scatterpolar"
           }
          ],
          "scatterpolargl": [
           {
            "marker": {
             "colorbar": {
              "outlinewidth": 0,
              "ticks": ""
             }
            },
            "type": "scatterpolargl"
           }
          ],
          "scatterternary": [
           {
            "marker": {
             "colorbar": {
              "outlinewidth": 0,
              "ticks": ""
             }
            },
            "type": "scatterternary"
           }
          ],
          "surface": [
           {
            "colorbar": {
             "outlinewidth": 0,
             "ticks": ""
            },
            "colorscale": [
             [
              0,
              "#0d0887"
             ],
             [
              0.1111111111111111,
              "#46039f"
             ],
             [
              0.2222222222222222,
              "#7201a8"
             ],
             [
              0.3333333333333333,
              "#9c179e"
             ],
             [
              0.4444444444444444,
              "#bd3786"
             ],
             [
              0.5555555555555556,
              "#d8576b"
             ],
             [
              0.6666666666666666,
              "#ed7953"
             ],
             [
              0.7777777777777778,
              "#fb9f3a"
             ],
             [
              0.8888888888888888,
              "#fdca26"
             ],
             [
              1,
              "#f0f921"
             ]
            ],
            "type": "surface"
           }
          ],
          "table": [
           {
            "cells": {
             "fill": {
              "color": "#EBF0F8"
             },
             "line": {
              "color": "white"
             }
            },
            "header": {
             "fill": {
              "color": "#C8D4E3"
             },
             "line": {
              "color": "white"
             }
            },
            "type": "table"
           }
          ]
         },
         "layout": {
          "annotationdefaults": {
           "arrowcolor": "#2a3f5f",
           "arrowhead": 0,
           "arrowwidth": 1
          },
          "autotypenumbers": "strict",
          "coloraxis": {
           "colorbar": {
            "outlinewidth": 0,
            "ticks": ""
           }
          },
          "colorscale": {
           "diverging": [
            [
             0,
             "#8e0152"
            ],
            [
             0.1,
             "#c51b7d"
            ],
            [
             0.2,
             "#de77ae"
            ],
            [
             0.3,
             "#f1b6da"
            ],
            [
             0.4,
             "#fde0ef"
            ],
            [
             0.5,
             "#f7f7f7"
            ],
            [
             0.6,
             "#e6f5d0"
            ],
            [
             0.7,
             "#b8e186"
            ],
            [
             0.8,
             "#7fbc41"
            ],
            [
             0.9,
             "#4d9221"
            ],
            [
             1,
             "#276419"
            ]
           ],
           "sequential": [
            [
             0,
             "#0d0887"
            ],
            [
             0.1111111111111111,
             "#46039f"
            ],
            [
             0.2222222222222222,
             "#7201a8"
            ],
            [
             0.3333333333333333,
             "#9c179e"
            ],
            [
             0.4444444444444444,
             "#bd3786"
            ],
            [
             0.5555555555555556,
             "#d8576b"
            ],
            [
             0.6666666666666666,
             "#ed7953"
            ],
            [
             0.7777777777777778,
             "#fb9f3a"
            ],
            [
             0.8888888888888888,
             "#fdca26"
            ],
            [
             1,
             "#f0f921"
            ]
           ],
           "sequentialminus": [
            [
             0,
             "#0d0887"
            ],
            [
             0.1111111111111111,
             "#46039f"
            ],
            [
             0.2222222222222222,
             "#7201a8"
            ],
            [
             0.3333333333333333,
             "#9c179e"
            ],
            [
             0.4444444444444444,
             "#bd3786"
            ],
            [
             0.5555555555555556,
             "#d8576b"
            ],
            [
             0.6666666666666666,
             "#ed7953"
            ],
            [
             0.7777777777777778,
             "#fb9f3a"
            ],
            [
             0.8888888888888888,
             "#fdca26"
            ],
            [
             1,
             "#f0f921"
            ]
           ]
          },
          "colorway": [
           "#636efa",
           "#EF553B",
           "#00cc96",
           "#ab63fa",
           "#FFA15A",
           "#19d3f3",
           "#FF6692",
           "#B6E880",
           "#FF97FF",
           "#FECB52"
          ],
          "font": {
           "color": "#2a3f5f"
          },
          "geo": {
           "bgcolor": "white",
           "lakecolor": "white",
           "landcolor": "#E5ECF6",
           "showlakes": true,
           "showland": true,
           "subunitcolor": "white"
          },
          "hoverlabel": {
           "align": "left"
          },
          "hovermode": "closest",
          "mapbox": {
           "style": "light"
          },
          "paper_bgcolor": "white",
          "plot_bgcolor": "#E5ECF6",
          "polar": {
           "angularaxis": {
            "gridcolor": "white",
            "linecolor": "white",
            "ticks": ""
           },
           "bgcolor": "#E5ECF6",
           "radialaxis": {
            "gridcolor": "white",
            "linecolor": "white",
            "ticks": ""
           }
          },
          "scene": {
           "xaxis": {
            "backgroundcolor": "#E5ECF6",
            "gridcolor": "white",
            "gridwidth": 2,
            "linecolor": "white",
            "showbackground": true,
            "ticks": "",
            "zerolinecolor": "white"
           },
           "yaxis": {
            "backgroundcolor": "#E5ECF6",
            "gridcolor": "white",
            "gridwidth": 2,
            "linecolor": "white",
            "showbackground": true,
            "ticks": "",
            "zerolinecolor": "white"
           },
           "zaxis": {
            "backgroundcolor": "#E5ECF6",
            "gridcolor": "white",
            "gridwidth": 2,
            "linecolor": "white",
            "showbackground": true,
            "ticks": "",
            "zerolinecolor": "white"
           }
          },
          "shapedefaults": {
           "line": {
            "color": "#2a3f5f"
           }
          },
          "ternary": {
           "aaxis": {
            "gridcolor": "white",
            "linecolor": "white",
            "ticks": ""
           },
           "baxis": {
            "gridcolor": "white",
            "linecolor": "white",
            "ticks": ""
           },
           "bgcolor": "#E5ECF6",
           "caxis": {
            "gridcolor": "white",
            "linecolor": "white",
            "ticks": ""
           }
          },
          "title": {
           "x": 0.05
          },
          "xaxis": {
           "automargin": true,
           "gridcolor": "white",
           "linecolor": "white",
           "ticks": "",
           "title": {
            "standoff": 15
           },
           "zerolinecolor": "white",
           "zerolinewidth": 2
          },
          "yaxis": {
           "automargin": true,
           "gridcolor": "white",
           "linecolor": "white",
           "ticks": "",
           "title": {
            "standoff": 15
           },
           "zerolinecolor": "white",
           "zerolinewidth": 2
          }
         }
        },
        "width": 900,
        "xaxis": {
         "anchor": "y",
         "domain": [
          0,
          0.94
         ],
         "gridcolor": "#1f292f",
         "nticks": 5,
         "rangeslider": {
          "visible": false
         },
         "type": "category"
        },
        "yaxis": {
         "anchor": "x",
         "domain": [
          0,
          1
         ],
         "gridcolor": "#1f292f"
        },
        "yaxis2": {
         "anchor": "x",
         "gridcolor": "#1f292f",
         "overlaying": "y",
         "side": "right"
        }
       }
      }
     },
     "metadata": {},
     "output_type": "display_data"
    }
   ],
   "source": [
    "MARKER = '#0066FF'\n",
    "dfp = df_an.iloc[-250:]\n",
    "cp = CandlePlot(dfp, candles=True)\n",
    "\n",
    "df_temp = cp.df_plot[cp.df_plot['HANGING_MAN'] == True]\n",
    "\n",
    "cp.fig.add_trace(go.Candlestick(\n",
    "                x=df_temp.time,\n",
    "                open=df_temp.mid_o,\n",
    "                high=df_temp.mid_h,\n",
    "                low=df_temp.mid_l,\n",
    "                close=df_temp.mid_c,\n",
    "                line=dict(width=1),\n",
    "                opacity=1,\n",
    "                increasing_fillcolor=MARKER,\n",
    "                decreasing_fillcolor=MARKER,\n",
    "                increasing_line_color=MARKER,\n",
    "                decreasing_line_color=MARKER\n",
    "            ))\n",
    "\n",
    "cp.show_plot()"
   ]
  },
  {
   "cell_type": "code",
   "execution_count": null,
   "metadata": {},
   "outputs": [],
   "source": []
  }
 ],
 "metadata": {
  "kernelspec": {
   "display_name": "py_fin",
   "language": "python",
   "name": "python3"
  },
  "language_info": {
   "codemirror_mode": {
    "name": "ipython",
    "version": 3
   },
   "file_extension": ".py",
   "mimetype": "text/x-python",
   "name": "python",
   "nbconvert_exporter": "python",
   "pygments_lexer": "ipython3",
   "version": "3.11.5"
  }
 },
 "nbformat": 4,
 "nbformat_minor": 2
}
